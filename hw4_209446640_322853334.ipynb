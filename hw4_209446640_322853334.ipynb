{
 "cells": [
  {
   "cell_type": "markdown",
   "id": "33801c59-280a-4510-8123-c6bb2bdebfa1",
   "metadata": {},
   "source": [
    "# Causal Inference - Homework 4\n",
    "Nitay Suissa 209446640\n",
    "\n",
    "Matan Solomon 322853334"
   ]
  },
  {
   "cell_type": "markdown",
   "id": "fe149eae-f72a-47c8-9178-2813a0711804",
   "metadata": {
    "tags": []
   },
   "source": [
    "## Imports"
   ]
  },
  {
   "cell_type": "code",
   "execution_count": 1,
   "id": "c5985948-db18-4e12-b4c2-bdc6c10bcf83",
   "metadata": {},
   "outputs": [],
   "source": [
    "import pandas as pd\n",
    "import numpy as np\n",
    "import matplotlib.pyplot as plt\n",
    "from sklearn.linear_model import LogisticRegression, Ridge\n",
    "from sklearn.neighbors import NearestNeighbors"
   ]
  },
  {
   "cell_type": "markdown",
   "id": "0efcb91b-451c-4f4d-83bd-59c369297e0d",
   "metadata": {
    "tags": []
   },
   "source": [
    "## Process data"
   ]
  },
  {
   "cell_type": "code",
   "execution_count": 2,
   "id": "e0ba6760-30ab-4920-aab0-557162259549",
   "metadata": {},
   "outputs": [
    {
     "data": {
      "text/html": [
       "<div>\n",
       "<style scoped>\n",
       "    .dataframe tbody tr th:only-of-type {\n",
       "        vertical-align: middle;\n",
       "    }\n",
       "\n",
       "    .dataframe tbody tr th {\n",
       "        vertical-align: top;\n",
       "    }\n",
       "\n",
       "    .dataframe thead th {\n",
       "        text-align: right;\n",
       "    }\n",
       "</style>\n",
       "<table border=\"1\" class=\"dataframe\">\n",
       "  <thead>\n",
       "    <tr style=\"text-align: right;\">\n",
       "      <th></th>\n",
       "      <th>x_1</th>\n",
       "      <th>x_3</th>\n",
       "      <th>x_4</th>\n",
       "      <th>x_5</th>\n",
       "      <th>x_6</th>\n",
       "      <th>x_7</th>\n",
       "      <th>x_8</th>\n",
       "      <th>x_9</th>\n",
       "      <th>x_10</th>\n",
       "      <th>x_11</th>\n",
       "      <th>...</th>\n",
       "      <th>x_21_L</th>\n",
       "      <th>x_21_M</th>\n",
       "      <th>x_21_N</th>\n",
       "      <th>x_21_O</th>\n",
       "      <th>x_21_P</th>\n",
       "      <th>x_24_A</th>\n",
       "      <th>x_24_B</th>\n",
       "      <th>x_24_C</th>\n",
       "      <th>x_24_D</th>\n",
       "      <th>x_24_E</th>\n",
       "    </tr>\n",
       "  </thead>\n",
       "  <tbody>\n",
       "    <tr>\n",
       "      <th>1</th>\n",
       "      <td>29</td>\n",
       "      <td>1.0</td>\n",
       "      <td>7.0</td>\n",
       "      <td>60</td>\n",
       "      <td>85</td>\n",
       "      <td>0</td>\n",
       "      <td>0</td>\n",
       "      <td>1</td>\n",
       "      <td>0</td>\n",
       "      <td>0</td>\n",
       "      <td>...</td>\n",
       "      <td>0</td>\n",
       "      <td>0</td>\n",
       "      <td>0</td>\n",
       "      <td>0</td>\n",
       "      <td>0</td>\n",
       "      <td>0</td>\n",
       "      <td>1</td>\n",
       "      <td>0</td>\n",
       "      <td>0</td>\n",
       "      <td>0</td>\n",
       "    </tr>\n",
       "    <tr>\n",
       "      <th>2</th>\n",
       "      <td>27</td>\n",
       "      <td>0.0</td>\n",
       "      <td>0.0</td>\n",
       "      <td>64</td>\n",
       "      <td>178</td>\n",
       "      <td>0</td>\n",
       "      <td>0</td>\n",
       "      <td>0</td>\n",
       "      <td>0</td>\n",
       "      <td>0</td>\n",
       "      <td>...</td>\n",
       "      <td>0</td>\n",
       "      <td>0</td>\n",
       "      <td>0</td>\n",
       "      <td>0</td>\n",
       "      <td>0</td>\n",
       "      <td>0</td>\n",
       "      <td>0</td>\n",
       "      <td>0</td>\n",
       "      <td>0</td>\n",
       "      <td>1</td>\n",
       "    </tr>\n",
       "    <tr>\n",
       "      <th>3</th>\n",
       "      <td>27</td>\n",
       "      <td>0.0</td>\n",
       "      <td>0.0</td>\n",
       "      <td>60</td>\n",
       "      <td>102</td>\n",
       "      <td>0</td>\n",
       "      <td>0</td>\n",
       "      <td>0</td>\n",
       "      <td>0</td>\n",
       "      <td>0</td>\n",
       "      <td>...</td>\n",
       "      <td>0</td>\n",
       "      <td>0</td>\n",
       "      <td>0</td>\n",
       "      <td>0</td>\n",
       "      <td>0</td>\n",
       "      <td>0</td>\n",
       "      <td>0</td>\n",
       "      <td>0</td>\n",
       "      <td>0</td>\n",
       "      <td>1</td>\n",
       "    </tr>\n",
       "  </tbody>\n",
       "</table>\n",
       "<p>3 rows × 84 columns</p>\n",
       "</div>"
      ],
      "text/plain": [
       "   x_1  x_3  x_4  x_5  x_6  x_7  x_8  x_9  x_10  x_11  ...  x_21_L  x_21_M  \\\n",
       "1   29  1.0  7.0   60   85    0    0    1     0     0  ...       0       0   \n",
       "2   27  0.0  0.0   64  178    0    0    0     0     0  ...       0       0   \n",
       "3   27  0.0  0.0   60  102    0    0    0     0     0  ...       0       0   \n",
       "\n",
       "   x_21_N  x_21_O  x_21_P  x_24_A  x_24_B  x_24_C  x_24_D  x_24_E  \n",
       "1       0       0       0       0       1       0       0       0  \n",
       "2       0       0       0       0       0       0       0       1  \n",
       "3       0       0       0       0       0       0       0       1  \n",
       "\n",
       "[3 rows x 84 columns]"
      ]
     },
     "execution_count": 2,
     "metadata": {},
     "output_type": "execute_result"
    }
   ],
   "source": [
    "data1 = pd.read_csv(\"data1.csv\", index_col=\"Unnamed: 0\")\n",
    "data1 = pd.get_dummies(data1)\n",
    "data2 = pd.read_csv(\"data2.csv\", index_col=\"Unnamed: 0\")\n",
    "data2 = pd.get_dummies(data2)\n",
    "data1.head(3)"
   ]
  },
  {
   "cell_type": "code",
   "execution_count": 3,
   "id": "60498c65-d1a3-4c4b-97ee-052a765872e0",
   "metadata": {},
   "outputs": [],
   "source": [
    "def calc_props(df):\n",
    "    x = df[df.columns[~df.columns.isin(['T','Y'])]]\n",
    "    t = df['T'].values\n",
    "    log_reg = LogisticRegression(max_iter=10000).fit(x, t)\n",
    "    probs = log_reg.predict_proba(x)[:,1]\n",
    "    df['propensity'] = probs\n",
    "    df['weighted'] = probs / (1-probs)\n",
    "    return df"
   ]
  },
  {
   "cell_type": "code",
   "execution_count": 4,
   "id": "48483071-ebd8-43c4-a355-36efafa9604f",
   "metadata": {},
   "outputs": [
    {
     "name": "stderr",
     "output_type": "stream",
     "text": [
      "C:\\Users\\nitay\\anaconda3\\lib\\site-packages\\sklearn\\linear_model\\_logistic.py:763: ConvergenceWarning: lbfgs failed to converge (status=1):\n",
      "STOP: TOTAL NO. of ITERATIONS REACHED LIMIT.\n",
      "\n",
      "Increase the number of iterations (max_iter) or scale the data as shown in:\n",
      "    https://scikit-learn.org/stable/modules/preprocessing.html\n",
      "Please also refer to the documentation for alternative solver options:\n",
      "    https://scikit-learn.org/stable/modules/linear_model.html#logistic-regression\n",
      "  n_iter_i = _check_optimize_result(\n"
     ]
    },
    {
     "data": {
      "text/html": [
       "<div>\n",
       "<style scoped>\n",
       "    .dataframe tbody tr th:only-of-type {\n",
       "        vertical-align: middle;\n",
       "    }\n",
       "\n",
       "    .dataframe tbody tr th {\n",
       "        vertical-align: top;\n",
       "    }\n",
       "\n",
       "    .dataframe thead th {\n",
       "        text-align: right;\n",
       "    }\n",
       "</style>\n",
       "<table border=\"1\" class=\"dataframe\">\n",
       "  <thead>\n",
       "    <tr style=\"text-align: right;\">\n",
       "      <th></th>\n",
       "      <th>x_1</th>\n",
       "      <th>x_3</th>\n",
       "      <th>x_4</th>\n",
       "      <th>x_5</th>\n",
       "      <th>x_6</th>\n",
       "      <th>x_7</th>\n",
       "      <th>x_8</th>\n",
       "      <th>x_9</th>\n",
       "      <th>x_10</th>\n",
       "      <th>x_11</th>\n",
       "      <th>...</th>\n",
       "      <th>x_21_N</th>\n",
       "      <th>x_21_O</th>\n",
       "      <th>x_21_P</th>\n",
       "      <th>x_24_A</th>\n",
       "      <th>x_24_B</th>\n",
       "      <th>x_24_C</th>\n",
       "      <th>x_24_D</th>\n",
       "      <th>x_24_E</th>\n",
       "      <th>propensity</th>\n",
       "      <th>weighted</th>\n",
       "    </tr>\n",
       "  </thead>\n",
       "  <tbody>\n",
       "    <tr>\n",
       "      <th>1</th>\n",
       "      <td>29</td>\n",
       "      <td>1.0</td>\n",
       "      <td>7.0</td>\n",
       "      <td>60</td>\n",
       "      <td>85</td>\n",
       "      <td>0</td>\n",
       "      <td>0</td>\n",
       "      <td>1</td>\n",
       "      <td>0</td>\n",
       "      <td>0</td>\n",
       "      <td>...</td>\n",
       "      <td>0</td>\n",
       "      <td>0</td>\n",
       "      <td>0</td>\n",
       "      <td>0</td>\n",
       "      <td>1</td>\n",
       "      <td>0</td>\n",
       "      <td>0</td>\n",
       "      <td>0</td>\n",
       "      <td>0.649703</td>\n",
       "      <td>1.854723</td>\n",
       "    </tr>\n",
       "    <tr>\n",
       "      <th>2</th>\n",
       "      <td>27</td>\n",
       "      <td>0.0</td>\n",
       "      <td>0.0</td>\n",
       "      <td>64</td>\n",
       "      <td>178</td>\n",
       "      <td>0</td>\n",
       "      <td>0</td>\n",
       "      <td>0</td>\n",
       "      <td>0</td>\n",
       "      <td>0</td>\n",
       "      <td>...</td>\n",
       "      <td>0</td>\n",
       "      <td>0</td>\n",
       "      <td>0</td>\n",
       "      <td>0</td>\n",
       "      <td>0</td>\n",
       "      <td>0</td>\n",
       "      <td>0</td>\n",
       "      <td>1</td>\n",
       "      <td>0.564481</td>\n",
       "      <td>1.296109</td>\n",
       "    </tr>\n",
       "    <tr>\n",
       "      <th>3</th>\n",
       "      <td>27</td>\n",
       "      <td>0.0</td>\n",
       "      <td>0.0</td>\n",
       "      <td>60</td>\n",
       "      <td>102</td>\n",
       "      <td>0</td>\n",
       "      <td>0</td>\n",
       "      <td>0</td>\n",
       "      <td>0</td>\n",
       "      <td>0</td>\n",
       "      <td>...</td>\n",
       "      <td>0</td>\n",
       "      <td>0</td>\n",
       "      <td>0</td>\n",
       "      <td>0</td>\n",
       "      <td>0</td>\n",
       "      <td>0</td>\n",
       "      <td>0</td>\n",
       "      <td>1</td>\n",
       "      <td>0.676802</td>\n",
       "      <td>2.094078</td>\n",
       "    </tr>\n",
       "  </tbody>\n",
       "</table>\n",
       "<p>3 rows × 86 columns</p>\n",
       "</div>"
      ],
      "text/plain": [
       "   x_1  x_3  x_4  x_5  x_6  x_7  x_8  x_9  x_10  x_11  ...  x_21_N  x_21_O  \\\n",
       "1   29  1.0  7.0   60   85    0    0    1     0     0  ...       0       0   \n",
       "2   27  0.0  0.0   64  178    0    0    0     0     0  ...       0       0   \n",
       "3   27  0.0  0.0   60  102    0    0    0     0     0  ...       0       0   \n",
       "\n",
       "   x_21_P  x_24_A  x_24_B  x_24_C  x_24_D  x_24_E  propensity  weighted  \n",
       "1       0       0       1       0       0       0    0.649703  1.854723  \n",
       "2       0       0       0       0       0       1    0.564481  1.296109  \n",
       "3       0       0       0       0       0       1    0.676802  2.094078  \n",
       "\n",
       "[3 rows x 86 columns]"
      ]
     },
     "execution_count": 4,
     "metadata": {},
     "output_type": "execute_result"
    }
   ],
   "source": [
    "data1 = calc_props(data1)\n",
    "data2 = calc_props(data2)\n",
    "data1.head(3)"
   ]
  },
  {
   "cell_type": "markdown",
   "id": "f2e82b45-81ca-48bd-80f4-b58d2936f175",
   "metadata": {
    "tags": []
   },
   "source": [
    "## IPW"
   ]
  },
  {
   "cell_type": "code",
   "execution_count": 5,
   "id": "8e06e749-7c70-4f1b-a086-7c74829c162c",
   "metadata": {},
   "outputs": [],
   "source": [
    "def IPW(df):\n",
    "    t1 = df[df['T']==1]['Y'].mean()\n",
    "    masked = df[df['T']==0]\n",
    "    t2 = (masked['Y'] * masked['weighted']).sum() / masked['weighted'].sum()\n",
    "    return t1-t2"
   ]
  },
  {
   "cell_type": "code",
   "execution_count": 6,
   "id": "06642454-f95e-41c2-94a1-5c61542eca66",
   "metadata": {},
   "outputs": [
    {
     "name": "stdout",
     "output_type": "stream",
     "text": [
      "ATT for data1: 3.7897448036779773\n",
      "ATT for data1: 3.7897448036779773\n"
     ]
    }
   ],
   "source": [
    "IPW_1 = IPW(data1)\n",
    "print(f\"ATT for data1: {IPW_1}\")\n",
    "\n",
    "IPW_2 = IPW(data2)\n",
    "print(f\"ATT for data1: {IPW_1}\")"
   ]
  },
  {
   "cell_type": "markdown",
   "id": "375b263d-be37-419d-905f-7cbdfafe1e84",
   "metadata": {
    "tags": []
   },
   "source": [
    "## S-Learner"
   ]
  },
  {
   "cell_type": "code",
   "execution_count": 7,
   "id": "88718f01-9ab3-419c-8102-510198098e3b",
   "metadata": {},
   "outputs": [],
   "source": [
    "def S_learner(df, model):\n",
    "    clean_df = df[df.columns[~df.columns.isin(['Y', 'propensity', 'weighted'])]]\n",
    "    model.fit(clean_df, df['Y'])\n",
    "    masked_df = clean_df[clean_df['T'] == 1]\n",
    "    t1 = model.predict(masked_df)\n",
    "    copy = masked_df.copy()\n",
    "    copy['T'] = 0\n",
    "    t2 = model.predict(copy)\n",
    "    return (t1-t2).mean()"
   ]
  },
  {
   "cell_type": "code",
   "execution_count": 8,
   "id": "aaeb7aaf-cdca-4309-9bc1-4ac06e712aab",
   "metadata": {},
   "outputs": [
    {
     "name": "stdout",
     "output_type": "stream",
     "text": [
      "ATT for data1: 3.4452575500800084\n",
      "ATT for data1: 3.125559533557059\n"
     ]
    }
   ],
   "source": [
    "model1 = Ridge(alpha=0.1)\n",
    "S_1 = S_learner(data1, model1)\n",
    "print(f\"ATT for data1: {S_1}\")\n",
    "\n",
    "model2 = Ridge(alpha=0.1)\n",
    "S_2 = S_learner(data2, model2)\n",
    "print(f\"ATT for data1: {S_2}\")"
   ]
  },
  {
   "cell_type": "markdown",
   "id": "620cb890-a654-469b-a5ff-8ac1328f94a9",
   "metadata": {
    "tags": []
   },
   "source": [
    "## T-Learner"
   ]
  },
  {
   "cell_type": "code",
   "execution_count": 9,
   "id": "1deb6d85-1cc3-4825-ab99-9e80d452d82b",
   "metadata": {},
   "outputs": [],
   "source": [
    "def T_learner(df, model0, model1):\n",
    "    clean_df = df[df.columns[~df.columns.isin(['propensity', 'weighted'])]]\n",
    "    df_1 = clean_df[clean_df['T'] == 1]\n",
    "    x_1 = df_1[df_1.columns[~df_1.columns.isin(['Y', 'T'])]]\n",
    "    y_1 = df_1['Y']\n",
    "    df_0 = clean_df[clean_df['T'] == 0]\n",
    "    x_0 = df_0[df_0.columns[~df_0.columns.isin(['Y', 'T'])]]\n",
    "    y_0 = df_0['Y']\n",
    "\n",
    "    model0.fit(x_0, y_0)\n",
    "    model1.fit(x_1, y_1)\n",
    "    p_0 = model0.predict(x_1)\n",
    "    p_1 = model1.predict(x_1)\n",
    "\n",
    "    return (p_1-p_0).mean()"
   ]
  },
  {
   "cell_type": "code",
   "execution_count": 10,
   "id": "50d960e3-0459-4133-8445-c656ad5a21eb",
   "metadata": {
    "tags": []
   },
   "outputs": [
    {
     "name": "stdout",
     "output_type": "stream",
     "text": [
      "ATT for data1: 3.7715680072540203\n",
      "ATT for data2: 3.475670248956973\n"
     ]
    }
   ],
   "source": [
    "model1_0, model1_1 = Ridge(alpha=0.1), Ridge(alpha=0.1)\n",
    "T_1 = T_learner(data1, model1_0, model1_1)\n",
    "print(f\"ATT for data1: {T_1}\")\n",
    "\n",
    "model2_0, model2_1 = Ridge(alpha=0.1), Ridge(alpha=0.1)\n",
    "T_2 = T_learner(data2, model2_0, model2_1)\n",
    "print(f\"ATT for data2: {T_2}\")"
   ]
  },
  {
   "cell_type": "markdown",
   "id": "f349c594-2481-45c5-b2f3-d018ab495778",
   "metadata": {},
   "source": [
    "## Matching"
   ]
  },
  {
   "cell_type": "code",
   "execution_count": 11,
   "id": "52fb0a24-4056-423c-8be6-33add39384d5",
   "metadata": {},
   "outputs": [],
   "source": [
    "def matching(df):\n",
    "    clean_df = df[df.columns[~df.columns.isin(['propensity', 'weighted'])]]\n",
    "    df_1 = clean_df[clean_df['T'] == 1]\n",
    "    x_1 = df_1[df_1.columns[~df_1.columns.isin(['Y', 'T'])]]\n",
    "    y_1 = df_1['Y']\n",
    "    df_0 = clean_df[clean_df['T'] == 0]\n",
    "    x_0 = df_0[df_0.columns[~df_0.columns.isin(['Y', 'T'])]]\n",
    "    y_0 = df_0['Y']\n",
    "\n",
    "    knn = NearestNeighbors(n_neighbors=1).fit(x_0)\n",
    "    nei = knn.kneighbors(x_1)\n",
    "    return (y_1 - y_0.iloc[nei[1].squeeze()].values).mean()"
   ]
  },
  {
   "cell_type": "code",
   "execution_count": 12,
   "id": "32748167-b8fa-4485-a016-0a7533d9d0a7",
   "metadata": {},
   "outputs": [
    {
     "name": "stdout",
     "output_type": "stream",
     "text": [
      "ATT for data1: 3.8985898906287977\n",
      "ATT for data2: 3.220905396470962\n"
     ]
    }
   ],
   "source": [
    "matching_1 = matching(data1)\n",
    "print(f\"ATT for data1: {matching_1}\")\n",
    "\n",
    "matching_2 = matching(data2)\n",
    "print(f\"ATT for data2: {matching_2}\")"
   ]
  },
  {
   "cell_type": "markdown",
   "id": "7486696c-8a8c-41e6-b1dd-59ca7247b67e",
   "metadata": {},
   "source": [
    "## Competition"
   ]
  },
  {
   "cell_type": "code",
   "execution_count": 13,
   "id": "56b49b64-7162-4a9c-a4bd-ea0a9ee96635",
   "metadata": {},
   "outputs": [
    {
     "name": "stdout",
     "output_type": "stream",
     "text": [
      "ATT for data1: 3.7715680072540203\n",
      "ATT for data2: 3.475670248956973\n"
     ]
    }
   ],
   "source": [
    "model1_0, model1_1 = Ridge(alpha=0.1), Ridge(alpha=0.1)\n",
    "competetion_T_1 = T_learner(data1, model1_0, model1_1)\n",
    "print(f\"ATT for data1: {T_1}\")\n",
    "\n",
    "model2_0, model2_1 = Ridge(alpha=0.1), Ridge(alpha=0.1)\n",
    "competetion_T_2 = T_learner(data2, model2_0, model2_1)\n",
    "print(f\"ATT for data2: {T_2}\")"
   ]
  },
  {
   "cell_type": "markdown",
   "id": "4be4ca6e-1bd0-4c2c-8ea9-ef0bbf39c338",
   "metadata": {},
   "source": [
    "## CSV"
   ]
  },
  {
   "cell_type": "code",
   "execution_count": 14,
   "id": "5d53cfa4-9e5f-4bf1-a4c7-3105a7c8a778",
   "metadata": {},
   "outputs": [
    {
     "data": {
      "text/html": [
       "<div>\n",
       "<style scoped>\n",
       "    .dataframe tbody tr th:only-of-type {\n",
       "        vertical-align: middle;\n",
       "    }\n",
       "\n",
       "    .dataframe tbody tr th {\n",
       "        vertical-align: top;\n",
       "    }\n",
       "\n",
       "    .dataframe thead th {\n",
       "        text-align: right;\n",
       "    }\n",
       "</style>\n",
       "<table border=\"1\" class=\"dataframe\">\n",
       "  <thead>\n",
       "    <tr style=\"text-align: right;\">\n",
       "      <th></th>\n",
       "      <th>Type</th>\n",
       "      <th>data1</th>\n",
       "      <th>data2</th>\n",
       "    </tr>\n",
       "  </thead>\n",
       "  <tbody>\n",
       "    <tr>\n",
       "      <th>0</th>\n",
       "      <td>1</td>\n",
       "      <td>3.789745</td>\n",
       "      <td>3.477935</td>\n",
       "    </tr>\n",
       "    <tr>\n",
       "      <th>1</th>\n",
       "      <td>2</td>\n",
       "      <td>3.445258</td>\n",
       "      <td>3.125560</td>\n",
       "    </tr>\n",
       "    <tr>\n",
       "      <th>2</th>\n",
       "      <td>3</td>\n",
       "      <td>3.771568</td>\n",
       "      <td>3.475670</td>\n",
       "    </tr>\n",
       "    <tr>\n",
       "      <th>3</th>\n",
       "      <td>4</td>\n",
       "      <td>3.898590</td>\n",
       "      <td>3.220905</td>\n",
       "    </tr>\n",
       "    <tr>\n",
       "      <th>4</th>\n",
       "      <td>5</td>\n",
       "      <td>3.771568</td>\n",
       "      <td>3.475670</td>\n",
       "    </tr>\n",
       "  </tbody>\n",
       "</table>\n",
       "</div>"
      ],
      "text/plain": [
       "   Type     data1     data2\n",
       "0     1  3.789745  3.477935\n",
       "1     2  3.445258  3.125560\n",
       "2     3  3.771568  3.475670\n",
       "3     4  3.898590  3.220905\n",
       "4     5  3.771568  3.475670"
      ]
     },
     "execution_count": 14,
     "metadata": {},
     "output_type": "execute_result"
    }
   ],
   "source": [
    "ATT_results = pd.DataFrame({'Type':list(range(1,6)), 'data1':[IPW_1, S_1, T_1, matching_1, competetion_T_1], 'data2':[IPW_2, S_2, T_2, matching_2, competetion_T_2]})\n",
    "ATT_results"
   ]
  },
  {
   "cell_type": "code",
   "execution_count": 15,
   "id": "a93ea514-4116-4bdf-b01b-2c7a43e99761",
   "metadata": {},
   "outputs": [],
   "source": [
    "ATT_results.to_csv(\"ATT_results.csv\", index=False)"
   ]
  },
  {
   "cell_type": "code",
   "execution_count": 16,
   "id": "6eb82761-7266-40da-be7a-cf6801a0e3d6",
   "metadata": {},
   "outputs": [
    {
     "data": {
      "text/html": [
       "<div>\n",
       "<style scoped>\n",
       "    .dataframe tbody tr th:only-of-type {\n",
       "        vertical-align: middle;\n",
       "    }\n",
       "\n",
       "    .dataframe tbody tr th {\n",
       "        vertical-align: top;\n",
       "    }\n",
       "\n",
       "    .dataframe thead th {\n",
       "        text-align: right;\n",
       "    }\n",
       "</style>\n",
       "<table border=\"1\" class=\"dataframe\">\n",
       "  <thead>\n",
       "    <tr style=\"text-align: right;\">\n",
       "      <th></th>\n",
       "      <th>1</th>\n",
       "      <th>2</th>\n",
       "      <th>3</th>\n",
       "      <th>4</th>\n",
       "      <th>5</th>\n",
       "      <th>6</th>\n",
       "      <th>7</th>\n",
       "      <th>8</th>\n",
       "      <th>9</th>\n",
       "      <th>10</th>\n",
       "      <th>...</th>\n",
       "      <th>4793</th>\n",
       "      <th>4794</th>\n",
       "      <th>4795</th>\n",
       "      <th>4796</th>\n",
       "      <th>4797</th>\n",
       "      <th>4798</th>\n",
       "      <th>4799</th>\n",
       "      <th>4800</th>\n",
       "      <th>4801</th>\n",
       "      <th>4802</th>\n",
       "    </tr>\n",
       "  </thead>\n",
       "  <tbody>\n",
       "    <tr>\n",
       "      <th>data1</th>\n",
       "      <td>0.649703</td>\n",
       "      <td>0.564481</td>\n",
       "      <td>0.676802</td>\n",
       "      <td>0.513441</td>\n",
       "      <td>0.609977</td>\n",
       "      <td>0.611194</td>\n",
       "      <td>0.613625</td>\n",
       "      <td>0.625979</td>\n",
       "      <td>0.671060</td>\n",
       "      <td>0.597576</td>\n",
       "      <td>...</td>\n",
       "      <td>0.644492</td>\n",
       "      <td>0.547394</td>\n",
       "      <td>0.512117</td>\n",
       "      <td>0.457145</td>\n",
       "      <td>0.434804</td>\n",
       "      <td>0.589753</td>\n",
       "      <td>0.600362</td>\n",
       "      <td>0.561732</td>\n",
       "      <td>0.418720</td>\n",
       "      <td>0.622628</td>\n",
       "    </tr>\n",
       "    <tr>\n",
       "      <th>data2</th>\n",
       "      <td>0.805733</td>\n",
       "      <td>0.592272</td>\n",
       "      <td>0.891983</td>\n",
       "      <td>0.291236</td>\n",
       "      <td>0.444368</td>\n",
       "      <td>0.465433</td>\n",
       "      <td>0.242084</td>\n",
       "      <td>0.798174</td>\n",
       "      <td>0.590633</td>\n",
       "      <td>0.713075</td>\n",
       "      <td>...</td>\n",
       "      <td>0.525013</td>\n",
       "      <td>0.344241</td>\n",
       "      <td>0.294394</td>\n",
       "      <td>0.297503</td>\n",
       "      <td>0.578937</td>\n",
       "      <td>0.338642</td>\n",
       "      <td>0.524295</td>\n",
       "      <td>0.516822</td>\n",
       "      <td>0.609863</td>\n",
       "      <td>0.446281</td>\n",
       "    </tr>\n",
       "  </tbody>\n",
       "</table>\n",
       "<p>2 rows × 4802 columns</p>\n",
       "</div>"
      ],
      "text/plain": [
       "           1         2         3         4         5         6         7     \\\n",
       "data1  0.649703  0.564481  0.676802  0.513441  0.609977  0.611194  0.613625   \n",
       "data2  0.805733  0.592272  0.891983  0.291236  0.444368  0.465433  0.242084   \n",
       "\n",
       "           8         9         10    ...      4793      4794      4795  \\\n",
       "data1  0.625979  0.671060  0.597576  ...  0.644492  0.547394  0.512117   \n",
       "data2  0.798174  0.590633  0.713075  ...  0.525013  0.344241  0.294394   \n",
       "\n",
       "           4796      4797      4798      4799      4800      4801      4802  \n",
       "data1  0.457145  0.434804  0.589753  0.600362  0.561732  0.418720  0.622628  \n",
       "data2  0.297503  0.578937  0.338642  0.524295  0.516822  0.609863  0.446281  \n",
       "\n",
       "[2 rows x 4802 columns]"
      ]
     },
     "execution_count": 16,
     "metadata": {},
     "output_type": "execute_result"
    }
   ],
   "source": [
    "models_propensity = pd.concat([data1[['propensity']].T, data2[['propensity']].T])\n",
    "models_propensity.index = ['data1', 'data2']\n",
    "models_propensity"
   ]
  },
  {
   "cell_type": "code",
   "execution_count": 17,
   "id": "3d4a1e9d-1bf5-4420-a146-08f4dac5bb48",
   "metadata": {},
   "outputs": [],
   "source": [
    "models_propensity.to_csv(\"models_propensity.csv\")"
   ]
  }
 ],
 "metadata": {
  "kernelspec": {
   "display_name": "Python 3 (ipykernel)",
   "language": "python",
   "name": "python3"
  },
  "language_info": {
   "codemirror_mode": {
    "name": "ipython",
    "version": 3
   },
   "file_extension": ".py",
   "mimetype": "text/x-python",
   "name": "python",
   "nbconvert_exporter": "python",
   "pygments_lexer": "ipython3",
   "version": "3.9.12"
  }
 },
 "nbformat": 4,
 "nbformat_minor": 5
}
