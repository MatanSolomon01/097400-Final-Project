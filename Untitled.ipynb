{
 "cells": [
  {
   "cell_type": "markdown",
   "id": "4b05ab86-e3fb-40b0-a1d2-98d566fa9b51",
   "metadata": {},
   "source": [
    "# Justification - OLD, before data changes"
   ]
  },
  {
   "cell_type": "markdown",
   "id": "0f048e1d-6a72-4a23-a473-1905c2f3bde9",
   "metadata": {},
   "source": [
    "## Introduction"
   ]
  },
  {
   "cell_type": "code",
   "execution_count": 1,
   "id": "92ad48e8-1a4a-4090-8c0f-9ad3ad9216ff",
   "metadata": {},
   "outputs": [],
   "source": [
    "import pickle as pkl\n",
    "import pandas as pd\n",
    "import matplotlib as mpl\n",
    "import matplotlib.pyplot as plt\n",
    "import numpy as np\n",
    "import os"
   ]
  },
  {
   "cell_type": "code",
   "execution_count": 2,
   "id": "6a909214-1ba6-4b46-bc32-08efa7035bab",
   "metadata": {},
   "outputs": [],
   "source": [
    "def load_ICM_data(path):\n",
    "    ICM_data = {}\n",
    "    for file in os.listdir(os.fsencode(path)):\n",
    "        filename = os.fsdecode(file)\n",
    "        df = pd.read_csv(path + filename, index_col='id')\n",
    "        ICM_data[filename[:-4]] = df\n",
    "    return ICM_data\n",
    "\n",
    "icm_data = load_ICM_data(\"data/InCognitoMatchData_SM/\")"
   ]
  },
  {
   "cell_type": "code",
   "execution_count": 3,
   "id": "edb32f96-b7a7-49a8-965d-a4cde2193646",
   "metadata": {},
   "outputs": [],
   "source": [
    "results = icm_data['exp_results']\n",
    "pairs = icm_data['exp_pairs']\n",
    "riddles = icm_data['riddles']"
   ]
  },
  {
   "cell_type": "code",
   "execution_count": 4,
   "id": "94e03f51-53f7-496a-8dad-db86e3183517",
   "metadata": {},
   "outputs": [
    {
     "data": {
      "text/html": [
       "<div>\n",
       "<style scoped>\n",
       "    .dataframe tbody tr th:only-of-type {\n",
       "        vertical-align: middle;\n",
       "    }\n",
       "\n",
       "    .dataframe tbody tr th {\n",
       "        vertical-align: top;\n",
       "    }\n",
       "\n",
       "    .dataframe thead th {\n",
       "        text-align: right;\n",
       "    }\n",
       "</style>\n",
       "<table border=\"1\" class=\"dataframe\">\n",
       "  <thead>\n",
       "    <tr style=\"text-align: right;\">\n",
       "      <th></th>\n",
       "      <th>user_id</th>\n",
       "      <th>sch_id_1</th>\n",
       "      <th>sch_id_2</th>\n",
       "      <th>realconf</th>\n",
       "      <th>user_sub_val</th>\n",
       "      <th>userconf</th>\n",
       "      <th>order</th>\n",
       "      <th>token_path</th>\n",
       "      <th>term_match</th>\n",
       "      <th>word_net</th>\n",
       "      <th>distance_from_gt</th>\n",
       "      <th>is_right</th>\n",
       "    </tr>\n",
       "  </thead>\n",
       "  <tbody>\n",
       "    <tr>\n",
       "      <th>0</th>\n",
       "      <td>171</td>\n",
       "      <td>134</td>\n",
       "      <td>180</td>\n",
       "      <td>0</td>\n",
       "      <td>67</td>\n",
       "      <td>34</td>\n",
       "      <td>1</td>\n",
       "      <td>0.484821</td>\n",
       "      <td>0.619156</td>\n",
       "      <td>1.0</td>\n",
       "      <td>67</td>\n",
       "      <td>0</td>\n",
       "    </tr>\n",
       "    <tr>\n",
       "      <th>1</th>\n",
       "      <td>171</td>\n",
       "      <td>134</td>\n",
       "      <td>182</td>\n",
       "      <td>0</td>\n",
       "      <td>69</td>\n",
       "      <td>38</td>\n",
       "      <td>2</td>\n",
       "      <td>0.454945</td>\n",
       "      <td>0.578095</td>\n",
       "      <td>1.0</td>\n",
       "      <td>69</td>\n",
       "      <td>0</td>\n",
       "    </tr>\n",
       "    <tr>\n",
       "      <th>2</th>\n",
       "      <td>171</td>\n",
       "      <td>153</td>\n",
       "      <td>183</td>\n",
       "      <td>1</td>\n",
       "      <td>38</td>\n",
       "      <td>24</td>\n",
       "      <td>3</td>\n",
       "      <td>0.552425</td>\n",
       "      <td>0.397624</td>\n",
       "      <td>1.0</td>\n",
       "      <td>62</td>\n",
       "      <td>0</td>\n",
       "    </tr>\n",
       "  </tbody>\n",
       "</table>\n",
       "</div>"
      ],
      "text/plain": [
       "   user_id  sch_id_1  sch_id_2  realconf  user_sub_val  userconf  order  \\\n",
       "0      171       134       180         0            67        34      1   \n",
       "1      171       134       182         0            69        38      2   \n",
       "2      171       153       183         1            38        24      3   \n",
       "\n",
       "   token_path  term_match  word_net  distance_from_gt  is_right  \n",
       "0    0.484821    0.619156       1.0                67         0  \n",
       "1    0.454945    0.578095       1.0                69         0  \n",
       "2    0.552425    0.397624       1.0                62         0  "
      ]
     },
     "execution_count": 4,
     "metadata": {},
     "output_type": "execute_result"
    }
   ],
   "source": [
    "data = pkl.load(open(\"data/data.pkl\", \"rb\"))\n",
    "data.head(3)"
   ]
  },
  {
   "cell_type": "markdown",
   "id": "27340046-6c8d-4ad3-bd9e-09db21db4feb",
   "metadata": {},
   "source": [
    "## What are the rows of sch_id == 0 ?"
   ]
  },
  {
   "cell_type": "markdown",
   "id": "59589313-efa5-4de8-a9b2-3ce1dfa77ef8",
   "metadata": {},
   "source": [
    "Is it maybe the begining time?"
   ]
  },
  {
   "cell_type": "markdown",
   "id": "c7f96118-3ac3-49d6-88a0-138035e83311",
   "metadata": {},
   "source": [
    "We know the begining time is the end of the riddles, so, is it close?"
   ]
  },
  {
   "cell_type": "code",
   "execution_count": 5,
   "id": "733bda62-7737-471d-99a4-f5dc2be9d9da",
   "metadata": {},
   "outputs": [
    {
     "data": {
      "text/plain": [
       "True"
      ]
     },
     "execution_count": 5,
     "metadata": {},
     "output_type": "execute_result"
    }
   ],
   "source": [
    "fictive = results[(results['sch_id_1'] == 0)&(results['sch_id_2'] == 0)]\n",
    "b = True\n",
    "for x,y in fictive.iterrows():\n",
    "    user = y['user_id']\n",
    "    matching_df = riddles[riddles['user_id'] == user]\n",
    "    date = y['rec_time']\n",
    "    b &= ((pd.to_datetime(matching_df['time']) - pd.to_datetime(y['rec_time'])).dt.total_seconds().abs() <= 2).any()\n",
    "    if not b: break\n",
    "b"
   ]
  },
  {
   "cell_type": "markdown",
   "id": "0eb804f3-2ab9-48e8-a142-6f1fb65e44c2",
   "metadata": {},
   "source": [
    "Yes! close up to 2 seconds!"
   ]
  },
  {
   "cell_type": "markdown",
   "id": "e3f115ca-4300-4f8b-bba3-bec148d8b36f",
   "metadata": {},
   "source": [
    "So, we can use it!"
   ]
  },
  {
   "cell_type": "markdown",
   "id": "f3d0ff06-6ca1-4162-bf05-c9d6c42ad10e",
   "metadata": {},
   "source": [
    "## Use it"
   ]
  },
  {
   "cell_type": "markdown",
   "id": "650bfef6-ec8a-4f35-9054-b33bde563ecc",
   "metadata": {},
   "source": [
    "Lets calculate times"
   ]
  },
  {
   "cell_type": "code",
   "execution_count": 6,
   "id": "ae6a0ee3-9ed1-4b22-a892-500e6fc7b77a",
   "metadata": {},
   "outputs": [],
   "source": [
    "from datetime import datetime, timedelta"
   ]
  },
  {
   "cell_type": "code",
   "execution_count": 7,
   "id": "6e5a2ef5-1823-45a0-bd87-203b63b602ea",
   "metadata": {},
   "outputs": [],
   "source": [
    "data = pd.merge(results, pairs, how='left', on=['exp_id', 'sch_id_1', 'sch_id_2'])\n",
    "data = data[data['exp_id'].isin([14,15])]\n",
    "data = data[['user_id', 'sch_id_1', 'sch_id_2', 'realconf', 'order', 'rec_time']]\n",
    "data.loc[data['sch_id_1'] >= 215, ['sch_id_1', 'sch_id_2']] -= 94\n",
    "data = data[['user_id', 'order', 'rec_time']]\n",
    "data['rec_time'] = pd.to_datetime(data['rec_time'])"
   ]
  },
  {
   "cell_type": "code",
   "execution_count": 8,
   "id": "9c356a57-8bde-4142-9fca-6f1e1d363314",
   "metadata": {},
   "outputs": [],
   "source": [
    "def mean_times(s):\n",
    "    st = datetime(1970, 1, 1)\n",
    "    seconds = (s- st).dt.total_seconds().mean()\n",
    "    return st + timedelta(seconds=seconds)"
   ]
  },
  {
   "cell_type": "code",
   "execution_count": 32,
   "id": "d7a763fd-a654-48b7-8e98-9a2b35f87de9",
   "metadata": {},
   "outputs": [],
   "source": [
    "data = data.groupby(['user_id', 'order']).agg(mean_times)\n",
    "data = data.reset_index()\n",
    "times = data.pivot(index='user_id', columns='order', values='rec_time')\n",
    "\n",
    "zero_times = riddles[['user_id', 'time']].groupby('user_id').agg(lambda x: pd.to_datetime(x).max())\n",
    "times[0].fillna(zero_times['time'], inplace=True)"
   ]
  },
  {
   "cell_type": "code",
   "execution_count": 33,
   "id": "e9900313-b76d-4f28-b311-e3c3958e31cc",
   "metadata": {},
   "outputs": [
    {
     "name": "stdout",
     "output_type": "stream",
     "text": [
      "181\n",
      "False\n"
     ]
    }
   ],
   "source": [
    "print((~times.isna()).all(axis=1).sum())\n",
    "print(times[0].isna().any())"
   ]
  },
  {
   "cell_type": "code",
   "execution_count": 34,
   "id": "293ae5db-c39d-4176-afd0-63fdc5a344ae",
   "metadata": {},
   "outputs": [
    {
     "data": {
      "image/png": "[encoded data removed]",
      "text/plain": [
       "<Figure size 432x288 with 1 Axes>"
      ]
     },
     "metadata": {
      "needs_background": "light"
     },
     "output_type": "display_data"
    }
   ],
   "source": [
    "times.iloc[:, 1:] = ((times.iloc[:, 1:].values - times.iloc[:, :-1].values) / 1e9)\n",
    "del times[0]\n",
    "\n",
    "times.mean().plot()\n",
    "plt.show()"
   ]
  },
  {
   "cell_type": "code",
   "execution_count": 35,
   "id": "8fea87f3-fad8-4bb4-9d34-b0caa5b02612",
   "metadata": {},
   "outputs": [
    {
     "data": {
      "image/png": "[encoded data removed]",
      "text/plain": [
       "<Figure size 432x288 with 1 Axes>"
      ]
     },
     "metadata": {
      "needs_background": "light"
     },
     "output_type": "display_data"
    }
   ],
   "source": [
    "lq, hq = 0.3, 0.7\n",
    "IQR = times.quantile(hq) - times.quantile(lq)\n",
    "l = times.quantile(lq) - 1.5*IQR\n",
    "l[l<0] = 0\n",
    "u = times.quantile(hq) + 1.5*IQR\n",
    "\n",
    "original_nans = times.isna()\n",
    "means = times[(times >= l)&(times<=u)].mean()\n",
    "times = times.mask(~((times >= l)&(times<=u))).fillna(means, downcast='infer')\n",
    "times[original_nans] = np.nan\n",
    "\n",
    "times.mean().plot()\n",
    "plt.show()"
   ]
  },
  {
   "cell_type": "markdown",
   "id": "6f0d2c72-413c-47b7-a424-ab4fad0e0b35",
   "metadata": {},
   "source": [
    "# times"
   ]
  }
 ],
 "metadata": {
  "kernelspec": {
   "display_name": "Python 3 (ipykernel)",
   "language": "python",
   "name": "python3"
  },
  "language_info": {
   "codemirror_mode": {
    "name": "ipython",
    "version": 3
   },
   "file_extension": ".py",
   "mimetype": "text/x-python",
   "name": "python",
   "nbconvert_exporter": "python",
   "pygments_lexer": "ipython3",
   "version": "3.9.12"
  }
 },
 "nbformat": 4,
 "nbformat_minor": 5
}
