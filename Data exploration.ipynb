{
 "cells": [
  {
   "cell_type": "markdown",
   "id": "f55dd4ab-f1ca-4272-94be-d17a57d23682",
   "metadata": {
    "tags": []
   },
   "source": [
    "## Data Exploration"
   ]
  },
  {
   "cell_type": "code",
   "execution_count": 1,
   "id": "173d2701-342f-4222-8559-07011f1b4c95",
   "metadata": {},
   "outputs": [],
   "source": [
    "import pickle as pkl\n",
    "import matplotlib.pyplot as plt\n",
    "import pandas as pd\n",
    "import numpy as np\n",
    "import seaborn as sns"
   ]
  },
  {
   "cell_type": "markdown",
   "id": "b0ddfe47-05f2-496f-a6dc-32021a864c19",
   "metadata": {
    "tags": []
   },
   "source": [
    "### Load the data"
   ]
  },
  {
   "cell_type": "code",
   "execution_count": 2,
   "id": "587fc1ca-9716-44b1-af2e-1c2ff1d7ad9b",
   "metadata": {},
   "outputs": [
    {
     "data": {
      "text/html": [
       "<div>\n",
       "<style scoped>\n",
       "    .dataframe tbody tr th:only-of-type {\n",
       "        vertical-align: middle;\n",
       "    }\n",
       "\n",
       "    .dataframe tbody tr th {\n",
       "        vertical-align: top;\n",
       "    }\n",
       "\n",
       "    .dataframe thead th {\n",
       "        text-align: right;\n",
       "    }\n",
       "</style>\n",
       "<table border=\"1\" class=\"dataframe\">\n",
       "  <thead>\n",
       "    <tr style=\"text-align: right;\">\n",
       "      <th></th>\n",
       "      <th>user_id</th>\n",
       "      <th>exp_id</th>\n",
       "      <th>sch_id_1</th>\n",
       "      <th>sch_id_2</th>\n",
       "      <th>realconf</th>\n",
       "      <th>rec_time</th>\n",
       "      <th>user_sub_val</th>\n",
       "      <th>userconf</th>\n",
       "      <th>order</th>\n",
       "      <th>token_path</th>\n",
       "      <th>term_match</th>\n",
       "      <th>word_net</th>\n",
       "    </tr>\n",
       "  </thead>\n",
       "  <tbody>\n",
       "    <tr>\n",
       "      <th>0</th>\n",
       "      <td>171</td>\n",
       "      <td>14</td>\n",
       "      <td>0</td>\n",
       "      <td>0</td>\n",
       "      <td>NaN</td>\n",
       "      <td>2020-12-19 12:28:13</td>\n",
       "      <td>NaN</td>\n",
       "      <td>NaN</td>\n",
       "      <td>0</td>\n",
       "      <td>NaN</td>\n",
       "      <td>NaN</td>\n",
       "      <td>NaN</td>\n",
       "    </tr>\n",
       "    <tr>\n",
       "      <th>1</th>\n",
       "      <td>171</td>\n",
       "      <td>14</td>\n",
       "      <td>134</td>\n",
       "      <td>180</td>\n",
       "      <td>0</td>\n",
       "      <td>2020-12-19 12:28:39</td>\n",
       "      <td>67</td>\n",
       "      <td>34</td>\n",
       "      <td>1</td>\n",
       "      <td>0.484821</td>\n",
       "      <td>0.619156</td>\n",
       "      <td>1.0</td>\n",
       "    </tr>\n",
       "    <tr>\n",
       "      <th>2</th>\n",
       "      <td>171</td>\n",
       "      <td>14</td>\n",
       "      <td>134</td>\n",
       "      <td>182</td>\n",
       "      <td>0</td>\n",
       "      <td>2020-12-19 12:28:45</td>\n",
       "      <td>69</td>\n",
       "      <td>38</td>\n",
       "      <td>2</td>\n",
       "      <td>0.454945</td>\n",
       "      <td>0.578095</td>\n",
       "      <td>1.0</td>\n",
       "    </tr>\n",
       "  </tbody>\n",
       "</table>\n",
       "</div>"
      ],
      "text/plain": [
       "   user_id  exp_id  sch_id_1  sch_id_2 realconf            rec_time  \\\n",
       "0      171      14         0         0      NaN 2020-12-19 12:28:13   \n",
       "1      171      14       134       180        0 2020-12-19 12:28:39   \n",
       "2      171      14       134       182        0 2020-12-19 12:28:45   \n",
       "\n",
       "  user_sub_val userconf  order  token_path  term_match  word_net  \n",
       "0          NaN      NaN      0         NaN         NaN       NaN  \n",
       "1           67       34      1    0.484821    0.619156       1.0  \n",
       "2           69       38      2    0.454945    0.578095       1.0  "
      ]
     },
     "execution_count": 2,
     "metadata": {},
     "output_type": "execute_result"
    }
   ],
   "source": [
    "data = pkl.load(open(\"data/data.pkl\", \"rb\"))\n",
    "data.head(3)"
   ]
  },
  {
   "cell_type": "markdown",
   "id": "56fa1947-ffc4-401e-9832-f453ba2d29f0",
   "metadata": {
    "tags": []
   },
   "source": [
    "### General statistics"
   ]
  },
  {
   "cell_type": "markdown",
   "id": "5971786f-e998-4732-8ad7-3e416fd1a4f4",
   "metadata": {},
   "source": [
    "Count unique values of users and attributes"
   ]
  },
  {
   "cell_type": "code",
   "execution_count": 3,
   "id": "709e1863-57e8-4526-a4a2-a231848690bc",
   "metadata": {},
   "outputs": [
    {
     "name": "stdout",
     "output_type": "stream",
     "text": [
      "Unique values for col user_id: 181\n",
      "Unique values for col sch_id_1: 27\n",
      "Unique values for col sch_id_2: 20\n"
     ]
    }
   ],
   "source": [
    "for col in ['user_id', 'sch_id_1', 'sch_id_2']:\n",
    "    unique = data[col].unique().size\n",
    "    print(f\"Unique values for col {col}: {unique}\")"
   ]
  },
  {
   "cell_type": "markdown",
   "id": "d032e8cf-f55c-4a97-822d-cdda44939d0c",
   "metadata": {},
   "source": [
    "count unique pairs (questions)"
   ]
  },
  {
   "cell_type": "code",
   "execution_count": 4,
   "id": "fdfae77e-9100-4c01-9062-135eb08d8097",
   "metadata": {},
   "outputs": [
    {
     "data": {
      "text/plain": [
       "31"
      ]
     },
     "execution_count": 4,
     "metadata": {},
     "output_type": "execute_result"
    }
   ],
   "source": [
    "len(data.groupby(['sch_id_1', 'sch_id_2']))"
   ]
  },
  {
   "cell_type": "markdown",
   "id": "0613b93f-7ae9-480c-8941-ff4e33a54fb6",
   "metadata": {},
   "source": [
    "Test balance between pairs that are match and pair that aren't"
   ]
  },
  {
   "cell_type": "code",
   "execution_count": 5,
   "id": "cd103ccb-b07a-40a2-8a38-1a70eadd2c38",
   "metadata": {},
   "outputs": [
    {
     "data": {
      "image/png": "[encoded data removed]",
      "text/plain": [
       "<Figure size 432x288 with 1 Axes>"
      ]
     },
     "metadata": {
      "needs_background": "light"
     },
     "output_type": "display_data"
    }
   ],
   "source": [
    "counts = data['realconf'].value_counts()\n",
    "plt.bar(counts.index, counts.values)\n",
    "plt.title(\"Counts for labels\")\n",
    "plt.xticks([0, 1], [0, 1])\n",
    "plt.savefig(\"plots/\" + plt.gcf().axes[0].get_title())\n",
    "plt.show()"
   ]
  },
  {
   "cell_type": "markdown",
   "id": "d1997ed0-c9dc-484c-a9fc-09ade70ed566",
   "metadata": {},
   "source": [
    "Users values histogram"
   ]
  },
  {
   "cell_type": "code",
   "execution_count": 6,
   "id": "debfd3ca-baae-4c4d-9449-64d0497329e0",
   "metadata": {},
   "outputs": [
    {
     "data": {
      "image/png": "[encoded data removed]",
      "text/plain": [
       "<Figure size 432x288 with 1 Axes>"
      ]
     },
     "metadata": {
      "needs_background": "light"
     },
     "output_type": "display_data"
    }
   ],
   "source": [
    "data['user_sub_val'].hist(bins=100)\n",
    "plt.title(\"Users confidences distribution\")\n",
    "plt.savefig(\"plots/\" + plt.gcf().axes[0].get_title())\n",
    "plt.show()"
   ]
  },
  {
   "cell_type": "code",
   "execution_count": 7,
   "id": "707eb7d2-4fa1-49be-9ef8-00b15ba78edb",
   "metadata": {},
   "outputs": [
    {
     "data": {
      "image/png": "[encoded data removed]",
      "text/plain": [
       "<Figure size 504x720 with 3 Axes>"
      ]
     },
     "metadata": {
      "needs_background": "light"
     },
     "output_type": "display_data"
    }
   ],
   "source": [
    "fig, axes = plt.subplots(3,1, figsize=(7,10))\n",
    "for i,name in enumerate([\"token_path\",\"term_match\",\"word_net\"]):\n",
    "    ax = axes[i]\n",
    "    ax.set_title(name)\n",
    "    (data[name]*100).hist(bins=100, ax=ax)\n",
    "    ax.set_xlim(0,100)\n",
    "plt.suptitle(\"Algorithms confidences distribution\")\n",
    "plt.savefig(\"plots/\" + plt.gcf()._suptitle.get_text())\n",
    "plt.show()"
   ]
  },
  {
   "cell_type": "markdown",
   "id": "aff7c7c1-01d3-4aa9-b640-c3331b9c2c49",
   "metadata": {
    "tags": []
   },
   "source": [
    "### Trends"
   ]
  },
  {
   "cell_type": "markdown",
   "id": "47e6b346-407c-4c17-b865-846250dbb6de",
   "metadata": {},
   "source": [
    "Does the user confidence in her answer increses as the task goes on?"
   ]
  },
  {
   "cell_type": "code",
   "execution_count": 8,
   "id": "af7822b4-6411-45a9-b403-416b4734a6f6",
   "metadata": {},
   "outputs": [
    {
     "data": {
      "image/png": "[encoded data removed]",
      "text/plain": [
       "<Figure size 432x288 with 1 Axes>"
      ]
     },
     "metadata": {
      "needs_background": "light"
     },
     "output_type": "display_data"
    }
   ],
   "source": [
    "data[['order', 'userconf']].groupby('order').mean().plot()\n",
    "plt.title(\"Mean confidence by question index\")\n",
    "plt.savefig(\"plots/\" + plt.gcf().axes[0].get_title())\n",
    "plt.show()"
   ]
  },
  {
   "cell_type": "markdown",
   "id": "42872736-4966-4f45-83e6-18c99742c562",
   "metadata": {},
   "source": [
    "Does the distance between the user confidence and the GT confidence (0 / 100) decrease as the task goes on?"
   ]
  },
  {
   "cell_type": "code",
   "execution_count": 9,
   "id": "9415e3aa-556a-40b1-bc12-46699efcc3df",
   "metadata": {},
   "outputs": [
    {
     "data": {
      "image/png": "[encoded data removed]",
      "text/plain": [
       "<Figure size 432x288 with 1 Axes>"
      ]
     },
     "metadata": {
      "needs_background": "light"
     },
     "output_type": "display_data"
    }
   ],
   "source": [
    "realconf = data['realconf']*100\n",
    "data['distance_from_gt'] = (realconf - data['user_sub_val']).abs()\n",
    "data.loc[data['order']==0, 'distance_from_gt'] = np.nan\n",
    "data[['order', 'distance_from_gt']].groupby('order').mean().plot()\n",
    "plt.title(\"Mean distance from GT by question index\")\n",
    "plt.savefig(\"plots/\" + plt.gcf().axes[0].get_title())\n",
    "plt.show()"
   ]
  },
  {
   "cell_type": "markdown",
   "id": "fb601bf0-942b-42b0-8454-b2bb98d88ee0",
   "metadata": {},
   "source": [
    "### Users research"
   ]
  },
  {
   "cell_type": "markdown",
   "id": "e0a0acd8-26d0-4216-81d8-f936d216e1b1",
   "metadata": {},
   "source": [
    "What is the distribution (across users) of the mean distance from the GT confidence?"
   ]
  },
  {
   "cell_type": "code",
   "execution_count": 10,
   "id": "d4a999f9-5709-4cf6-a45f-e304ce39d446",
   "metadata": {},
   "outputs": [
    {
     "data": {
      "image/png": "[encoded data removed]",
      "text/plain": [
       "<Figure size 432x288 with 1 Axes>"
      ]
     },
     "metadata": {
      "needs_background": "light"
     },
     "output_type": "display_data"
    }
   ],
   "source": [
    "ax = plt.gca()\n",
    "data[['user_id', \"distance_from_gt\"]].groupby(\"user_id\").mean().hist(ax=ax, bins=90)\n",
    "ax.set_xlim(0,100)\n",
    "plt.title(\"Mean distance from GT distribution\")\n",
    "plt.savefig(\"plots/\" + plt.gcf().axes[0].get_title())\n",
    "plt.show()"
   ]
  },
  {
   "cell_type": "markdown",
   "id": "d4958916-9607-4e4e-84b2-7ce692637459",
   "metadata": {},
   "source": [
    "What is the distribution (across users) of the correct answer percent?"
   ]
  },
  {
   "cell_type": "code",
   "execution_count": 11,
   "id": "40e0eabe-b177-4371-a503-95727b6d8e1c",
   "metadata": {},
   "outputs": [
    {
     "data": {
      "image/png": "[encoded data removed]",
      "text/plain": [
       "<Figure size 432x288 with 1 Axes>"
      ]
     },
     "metadata": {
      "needs_background": "light"
     },
     "output_type": "display_data"
    }
   ],
   "source": [
    "ax = plt.gca()\n",
    "data['is_right'] = (data['realconf'] == (data['user_sub_val']>=50)).astype(int)\n",
    "data.loc[data['order']==0, 'is_right'] = np.nan\n",
    "data[['user_id', \"is_right\"]].groupby(\"user_id\").mean().hist(ax=ax, bins=50)\n",
    "ax.set_xlim(0,1)\n",
    "plt.title(\"Percent of right answers\")\n",
    "plt.savefig(\"plots/\" + plt.gcf().axes[0].get_title())\n",
    "plt.show()"
   ]
  },
  {
   "cell_type": "code",
   "execution_count": 12,
   "id": "5d476fe9-d261-4234-9446-b09424e54c0d",
   "metadata": {},
   "outputs": [
    {
     "data": {
      "text/html": [
       "<div>\n",
       "<style scoped>\n",
       "    .dataframe tbody tr th:only-of-type {\n",
       "        vertical-align: middle;\n",
       "    }\n",
       "\n",
       "    .dataframe tbody tr th {\n",
       "        vertical-align: top;\n",
       "    }\n",
       "\n",
       "    .dataframe thead th {\n",
       "        text-align: right;\n",
       "    }\n",
       "</style>\n",
       "<table border=\"1\" class=\"dataframe\">\n",
       "  <thead>\n",
       "    <tr style=\"text-align: right;\">\n",
       "      <th></th>\n",
       "      <th>user_id</th>\n",
       "      <th>exp_id</th>\n",
       "      <th>sch_id_1</th>\n",
       "      <th>sch_id_2</th>\n",
       "      <th>realconf</th>\n",
       "      <th>rec_time</th>\n",
       "      <th>user_sub_val</th>\n",
       "      <th>userconf</th>\n",
       "      <th>order</th>\n",
       "      <th>token_path</th>\n",
       "      <th>term_match</th>\n",
       "      <th>word_net</th>\n",
       "      <th>distance_from_gt</th>\n",
       "      <th>is_right</th>\n",
       "    </tr>\n",
       "  </thead>\n",
       "  <tbody>\n",
       "    <tr>\n",
       "      <th>0</th>\n",
       "      <td>171</td>\n",
       "      <td>14</td>\n",
       "      <td>0</td>\n",
       "      <td>0</td>\n",
       "      <td>NaN</td>\n",
       "      <td>2020-12-19 12:28:13</td>\n",
       "      <td>NaN</td>\n",
       "      <td>NaN</td>\n",
       "      <td>0</td>\n",
       "      <td>NaN</td>\n",
       "      <td>NaN</td>\n",
       "      <td>NaN</td>\n",
       "      <td>NaN</td>\n",
       "      <td>NaN</td>\n",
       "    </tr>\n",
       "    <tr>\n",
       "      <th>1</th>\n",
       "      <td>171</td>\n",
       "      <td>14</td>\n",
       "      <td>134</td>\n",
       "      <td>180</td>\n",
       "      <td>0</td>\n",
       "      <td>2020-12-19 12:28:39</td>\n",
       "      <td>67</td>\n",
       "      <td>34</td>\n",
       "      <td>1</td>\n",
       "      <td>0.484821</td>\n",
       "      <td>0.619156</td>\n",
       "      <td>1.0</td>\n",
       "      <td>67</td>\n",
       "      <td>0.0</td>\n",
       "    </tr>\n",
       "    <tr>\n",
       "      <th>2</th>\n",
       "      <td>171</td>\n",
       "      <td>14</td>\n",
       "      <td>134</td>\n",
       "      <td>182</td>\n",
       "      <td>0</td>\n",
       "      <td>2020-12-19 12:28:45</td>\n",
       "      <td>69</td>\n",
       "      <td>38</td>\n",
       "      <td>2</td>\n",
       "      <td>0.454945</td>\n",
       "      <td>0.578095</td>\n",
       "      <td>1.0</td>\n",
       "      <td>69</td>\n",
       "      <td>0.0</td>\n",
       "    </tr>\n",
       "  </tbody>\n",
       "</table>\n",
       "</div>"
      ],
      "text/plain": [
       "   user_id  exp_id  sch_id_1  sch_id_2 realconf            rec_time  \\\n",
       "0      171      14         0         0      NaN 2020-12-19 12:28:13   \n",
       "1      171      14       134       180        0 2020-12-19 12:28:39   \n",
       "2      171      14       134       182        0 2020-12-19 12:28:45   \n",
       "\n",
       "  user_sub_val userconf  order  token_path  term_match  word_net  \\\n",
       "0          NaN      NaN      0         NaN         NaN       NaN   \n",
       "1           67       34      1    0.484821    0.619156       1.0   \n",
       "2           69       38      2    0.454945    0.578095       1.0   \n",
       "\n",
       "  distance_from_gt  is_right  \n",
       "0              NaN       NaN  \n",
       "1               67       0.0  \n",
       "2               69       0.0  "
      ]
     },
     "execution_count": 12,
     "metadata": {},
     "output_type": "execute_result"
    }
   ],
   "source": [
    "data.head(3)"
   ]
  },
  {
   "cell_type": "markdown",
   "id": "2cf42113-d605-43e1-a3de-d41ab8c1f0ce",
   "metadata": {},
   "source": [
    "### High-confidence research"
   ]
  },
  {
   "cell_type": "code",
   "execution_count": 20,
   "id": "43ca9309-e90d-4371-9848-1100e9dbfaa5",
   "metadata": {},
   "outputs": [
    {
     "data": {
      "image/png": "[encoded data removed]",
      "text/plain": [
       "<Figure size 432x288 with 1 Axes>"
      ]
     },
     "metadata": {
      "needs_background": "light"
     },
     "output_type": "display_data"
    }
   ],
   "source": [
    "high_confidence_threshold = 0\n",
    "t = data[['user_id']].copy()\n",
    "t[f'high_confidence_{high_confidence_threshold}'] = pd.DataFrame([data['user_sub_val'], 100 - data['user_sub_val']]).min(axis=0) <= high_confidence_threshold\n",
    "t.groupby('user_id').sum().reset_index()[f'high_confidence_{high_confidence_threshold}'].hist(bins=18, width=0.8)\n",
    "plt.xticks(np.arange(18)+0.4, range(18))\n",
    "plt.title(f\"Amount of users with ({high_confidence_threshold}) high-confidence questions\")\n",
    "plt.savefig(\"plots/\" + plt.gcf().axes[0].get_title())\n",
    "plt.show()"
   ]
  },
  {
   "cell_type": "code",
   "execution_count": 21,
   "id": "cdf592fd-ac59-4b41-abd0-10657bc10d4e",
   "metadata": {},
   "outputs": [
    {
     "data": {
      "image/png": "[encoded data removed]",
      "text/plain": [
       "<Figure size 432x288 with 1 Axes>"
      ]
     },
     "metadata": {
      "needs_background": "light"
     },
     "output_type": "display_data"
    }
   ],
   "source": [
    "q = 0.35\n",
    "t[f'high_confidence_{high_confidence_threshold}'].astype(int).hist(bins=[-0.5,0.5,1.5], width=2*q)\n",
    "plt.title(\"Distribution of high-confidence questions over units (answers)\")\n",
    "plt.xticks(np.arange(2) - (0.5-q), [0, 1])\n",
    "plt.xlim(-0.8, 1.5)\n",
    "plt.grid(False)\n",
    "plt.savefig(\"plots/\" + plt.gcf().axes[0].get_title())\n",
    "plt.show()"
   ]
  },
  {
   "cell_type": "code",
   "execution_count": 15,
   "id": "4140fd03-f5ed-4451-b365-50796a718f9f",
   "metadata": {},
   "outputs": [
    {
     "data": {
      "text/html": [
       "<div>\n",
       "<style scoped>\n",
       "    .dataframe tbody tr th:only-of-type {\n",
       "        vertical-align: middle;\n",
       "    }\n",
       "\n",
       "    .dataframe tbody tr th {\n",
       "        vertical-align: top;\n",
       "    }\n",
       "\n",
       "    .dataframe thead th {\n",
       "        text-align: right;\n",
       "    }\n",
       "</style>\n",
       "<table border=\"1\" class=\"dataframe\">\n",
       "  <thead>\n",
       "    <tr style=\"text-align: right;\">\n",
       "      <th></th>\n",
       "      <th>userconf</th>\n",
       "      <th>prev_userconf</th>\n",
       "    </tr>\n",
       "  </thead>\n",
       "  <tbody>\n",
       "    <tr>\n",
       "      <th>userconf</th>\n",
       "      <td>1.000000</td>\n",
       "      <td>0.230245</td>\n",
       "    </tr>\n",
       "    <tr>\n",
       "      <th>prev_userconf</th>\n",
       "      <td>0.230245</td>\n",
       "      <td>1.000000</td>\n",
       "    </tr>\n",
       "  </tbody>\n",
       "</table>\n",
       "</div>"
      ],
      "text/plain": [
       "               userconf  prev_userconf\n",
       "userconf       1.000000       0.230245\n",
       "prev_userconf  0.230245       1.000000"
      ]
     },
     "execution_count": 15,
     "metadata": {},
     "output_type": "execute_result"
    }
   ],
   "source": [
    "t = data[['user_id', 'order', 'userconf']].copy()\n",
    "t['order-1'] = t['order'] - 1\n",
    "t = pd.merge(t, data[['user_id', 'order', 'userconf']], how='left', left_on=['user_id', 'order-1'], right_on=['user_id', 'order'])\n",
    "t = t[['user_id', 'order_x', 'userconf_x', 'userconf_y']]\n",
    "t.rename(columns={'order_x':'order', 'userconf_x':'userconf', 'userconf_y':'prev_userconf'}, inplace=True)\n",
    "t[['userconf', 'prev_userconf']].astype(float).corr()"
   ]
  },
  {
   "cell_type": "code",
   "execution_count": 29,
   "id": "fec185de-cb12-4371-9f15-0eac347013e7",
   "metadata": {},
   "outputs": [
    {
     "data": {
      "image/png": "[encoded data removed]",
      "text/plain": [
       "<Figure size 432x288 with 1 Axes>"
      ]
     },
     "metadata": {
      "needs_background": "light"
     },
     "output_type": "display_data"
    }
   ],
   "source": [
    "high_confidence_threshold = 0\n",
    "t = data[['order']].copy()\n",
    "t[f'high_confidence_{high_confidence_threshold}'] = pd.DataFrame([data['user_sub_val'], 100 - data['user_sub_val']]).min(axis=0) <= high_confidence_threshold\n",
    "t.groupby('order').sum().plot()\n",
    "plt.title(f\"Amount of ({high_confidence_threshold}) high-confidence answers for each questions\")\n",
    "plt.savefig(\"plots/\" + plt.gcf().axes[0].get_title())\n",
    "plt.show()"
   ]
  },
  {
   "cell_type": "code",
   "execution_count": 17,
   "id": "60490456-de93-49f4-92a7-8ad481e69132",
   "metadata": {},
   "outputs": [
    {
     "data": {
      "image/png": "[encoded data removed]",
      "text/plain": [
       "<Figure size 432x288 with 1 Axes>"
      ]
     },
     "metadata": {
      "needs_background": "light"
     },
     "output_type": "display_data"
    }
   ],
   "source": [
    "data[['user_id', 'userconf']].groupby('user_id').mean().hist(bins=50)\n",
    "plt.title(\"Distribution of mean users' confidence\")\n",
    "plt.savefig(\"plots/\" + plt.gcf().axes[0].get_title())\n",
    "plt.show()"
   ]
  },
  {
   "cell_type": "markdown",
   "id": "386d12f7-bc01-42ac-98ca-d8e0c2957ce1",
   "metadata": {
    "tags": []
   },
   "source": [
    "### Others"
   ]
  },
  {
   "cell_type": "code",
   "execution_count": 18,
   "id": "fbb797d8-d9db-429e-95ae-f4d9fbaa7b3b",
   "metadata": {},
   "outputs": [],
   "source": [
    "save = False\n",
    "if save:\n",
    "    pkl.dump(data, open(\"data/data.pkl\", \"wb\"))"
   ]
  },
  {
   "cell_type": "code",
   "execution_count": 31,
   "id": "8c565b9f-898b-4222-aec7-44333acfabbb",
   "metadata": {},
   "outputs": [
    {
     "data": {
      "text/html": [
       "<div>\n",
       "<style scoped>\n",
       "    .dataframe tbody tr th:only-of-type {\n",
       "        vertical-align: middle;\n",
       "    }\n",
       "\n",
       "    .dataframe tbody tr th {\n",
       "        vertical-align: top;\n",
       "    }\n",
       "\n",
       "    .dataframe thead th {\n",
       "        text-align: right;\n",
       "    }\n",
       "</style>\n",
       "<table border=\"1\" class=\"dataframe\">\n",
       "  <thead>\n",
       "    <tr style=\"text-align: right;\">\n",
       "      <th></th>\n",
       "      <th>user_id</th>\n",
       "      <th>exp_id</th>\n",
       "      <th>sch_id_1</th>\n",
       "      <th>sch_id_2</th>\n",
       "      <th>realconf</th>\n",
       "      <th>rec_time</th>\n",
       "      <th>user_sub_val</th>\n",
       "      <th>userconf</th>\n",
       "      <th>order</th>\n",
       "      <th>token_path</th>\n",
       "      <th>term_match</th>\n",
       "      <th>word_net</th>\n",
       "      <th>distance_from_gt</th>\n",
       "      <th>is_right</th>\n",
       "    </tr>\n",
       "  </thead>\n",
       "  <tbody>\n",
       "    <tr>\n",
       "      <th>0</th>\n",
       "      <td>171</td>\n",
       "      <td>14</td>\n",
       "      <td>0</td>\n",
       "      <td>0</td>\n",
       "      <td>NaN</td>\n",
       "      <td>2020-12-19 12:28:13</td>\n",
       "      <td>NaN</td>\n",
       "      <td>NaN</td>\n",
       "      <td>0</td>\n",
       "      <td>NaN</td>\n",
       "      <td>NaN</td>\n",
       "      <td>NaN</td>\n",
       "      <td>NaN</td>\n",
       "      <td>NaN</td>\n",
       "    </tr>\n",
       "    <tr>\n",
       "      <th>1</th>\n",
       "      <td>171</td>\n",
       "      <td>14</td>\n",
       "      <td>134</td>\n",
       "      <td>180</td>\n",
       "      <td>0</td>\n",
       "      <td>2020-12-19 12:28:39</td>\n",
       "      <td>67</td>\n",
       "      <td>34</td>\n",
       "      <td>1</td>\n",
       "      <td>0.484821</td>\n",
       "      <td>0.619156</td>\n",
       "      <td>1.000000</td>\n",
       "      <td>67</td>\n",
       "      <td>0.0</td>\n",
       "    </tr>\n",
       "    <tr>\n",
       "      <th>2</th>\n",
       "      <td>171</td>\n",
       "      <td>14</td>\n",
       "      <td>134</td>\n",
       "      <td>182</td>\n",
       "      <td>0</td>\n",
       "      <td>2020-12-19 12:28:45</td>\n",
       "      <td>69</td>\n",
       "      <td>38</td>\n",
       "      <td>2</td>\n",
       "      <td>0.454945</td>\n",
       "      <td>0.578095</td>\n",
       "      <td>1.000000</td>\n",
       "      <td>69</td>\n",
       "      <td>0.0</td>\n",
       "    </tr>\n",
       "    <tr>\n",
       "      <th>3</th>\n",
       "      <td>171</td>\n",
       "      <td>14</td>\n",
       "      <td>153</td>\n",
       "      <td>183</td>\n",
       "      <td>1</td>\n",
       "      <td>2020-12-19 12:28:54</td>\n",
       "      <td>38</td>\n",
       "      <td>24</td>\n",
       "      <td>3</td>\n",
       "      <td>0.552425</td>\n",
       "      <td>0.397624</td>\n",
       "      <td>1.000000</td>\n",
       "      <td>62</td>\n",
       "      <td>0.0</td>\n",
       "    </tr>\n",
       "    <tr>\n",
       "      <th>4</th>\n",
       "      <td>171</td>\n",
       "      <td>14</td>\n",
       "      <td>149</td>\n",
       "      <td>180</td>\n",
       "      <td>0</td>\n",
       "      <td>2020-12-19 12:28:57</td>\n",
       "      <td>57</td>\n",
       "      <td>14</td>\n",
       "      <td>4</td>\n",
       "      <td>0.502679</td>\n",
       "      <td>0.619156</td>\n",
       "      <td>1.000000</td>\n",
       "      <td>57</td>\n",
       "      <td>0.0</td>\n",
       "    </tr>\n",
       "    <tr>\n",
       "      <th>...</th>\n",
       "      <td>...</td>\n",
       "      <td>...</td>\n",
       "      <td>...</td>\n",
       "      <td>...</td>\n",
       "      <td>...</td>\n",
       "      <td>...</td>\n",
       "      <td>...</td>\n",
       "      <td>...</td>\n",
       "      <td>...</td>\n",
       "      <td>...</td>\n",
       "      <td>...</td>\n",
       "      <td>...</td>\n",
       "      <td>...</td>\n",
       "      <td>...</td>\n",
       "    </tr>\n",
       "    <tr>\n",
       "      <th>5606</th>\n",
       "      <td>711</td>\n",
       "      <td>14</td>\n",
       "      <td>164</td>\n",
       "      <td>178</td>\n",
       "      <td>1</td>\n",
       "      <td>2021-11-08 11:01:41</td>\n",
       "      <td>61</td>\n",
       "      <td>22</td>\n",
       "      <td>26</td>\n",
       "      <td>0.550549</td>\n",
       "      <td>0.493333</td>\n",
       "      <td>0.536885</td>\n",
       "      <td>39</td>\n",
       "      <td>1.0</td>\n",
       "    </tr>\n",
       "    <tr>\n",
       "      <th>5607</th>\n",
       "      <td>711</td>\n",
       "      <td>14</td>\n",
       "      <td>154</td>\n",
       "      <td>212</td>\n",
       "      <td>0</td>\n",
       "      <td>2021-11-08 11:01:43</td>\n",
       "      <td>89</td>\n",
       "      <td>78</td>\n",
       "      <td>27</td>\n",
       "      <td>0.294607</td>\n",
       "      <td>0.000000</td>\n",
       "      <td>0.113996</td>\n",
       "      <td>89</td>\n",
       "      <td>0.0</td>\n",
       "    </tr>\n",
       "    <tr>\n",
       "      <th>5608</th>\n",
       "      <td>711</td>\n",
       "      <td>14</td>\n",
       "      <td>152</td>\n",
       "      <td>182</td>\n",
       "      <td>1</td>\n",
       "      <td>2021-11-08 11:01:44</td>\n",
       "      <td>37</td>\n",
       "      <td>26</td>\n",
       "      <td>28</td>\n",
       "      <td>0.534670</td>\n",
       "      <td>0.500000</td>\n",
       "      <td>0.000000</td>\n",
       "      <td>63</td>\n",
       "      <td>0.0</td>\n",
       "    </tr>\n",
       "    <tr>\n",
       "      <th>5609</th>\n",
       "      <td>711</td>\n",
       "      <td>14</td>\n",
       "      <td>122</td>\n",
       "      <td>206</td>\n",
       "      <td>1</td>\n",
       "      <td>2021-11-08 11:01:46</td>\n",
       "      <td>76</td>\n",
       "      <td>52</td>\n",
       "      <td>29</td>\n",
       "      <td>0.270769</td>\n",
       "      <td>0.130476</td>\n",
       "      <td>0.072077</td>\n",
       "      <td>24</td>\n",
       "      <td>1.0</td>\n",
       "    </tr>\n",
       "    <tr>\n",
       "      <th>5610</th>\n",
       "      <td>711</td>\n",
       "      <td>14</td>\n",
       "      <td>127</td>\n",
       "      <td>210</td>\n",
       "      <td>1</td>\n",
       "      <td>2021-11-08 11:01:48</td>\n",
       "      <td>75</td>\n",
       "      <td>50</td>\n",
       "      <td>30</td>\n",
       "      <td>0.449700</td>\n",
       "      <td>0.499980</td>\n",
       "      <td>0.000000</td>\n",
       "      <td>25</td>\n",
       "      <td>1.0</td>\n",
       "    </tr>\n",
       "  </tbody>\n",
       "</table>\n",
       "<p>5611 rows × 14 columns</p>\n",
       "</div>"
      ],
      "text/plain": [
       "      user_id  exp_id  sch_id_1  sch_id_2 realconf            rec_time  \\\n",
       "0         171      14         0         0      NaN 2020-12-19 12:28:13   \n",
       "1         171      14       134       180        0 2020-12-19 12:28:39   \n",
       "2         171      14       134       182        0 2020-12-19 12:28:45   \n",
       "3         171      14       153       183        1 2020-12-19 12:28:54   \n",
       "4         171      14       149       180        0 2020-12-19 12:28:57   \n",
       "...       ...     ...       ...       ...      ...                 ...   \n",
       "5606      711      14       164       178        1 2021-11-08 11:01:41   \n",
       "5607      711      14       154       212        0 2021-11-08 11:01:43   \n",
       "5608      711      14       152       182        1 2021-11-08 11:01:44   \n",
       "5609      711      14       122       206        1 2021-11-08 11:01:46   \n",
       "5610      711      14       127       210        1 2021-11-08 11:01:48   \n",
       "\n",
       "     user_sub_val userconf  order  token_path  term_match  word_net  \\\n",
       "0             NaN      NaN      0         NaN         NaN       NaN   \n",
       "1              67       34      1    0.484821    0.619156  1.000000   \n",
       "2              69       38      2    0.454945    0.578095  1.000000   \n",
       "3              38       24      3    0.552425    0.397624  1.000000   \n",
       "4              57       14      4    0.502679    0.619156  1.000000   \n",
       "...           ...      ...    ...         ...         ...       ...   \n",
       "5606           61       22     26    0.550549    0.493333  0.536885   \n",
       "5607           89       78     27    0.294607    0.000000  0.113996   \n",
       "5608           37       26     28    0.534670    0.500000  0.000000   \n",
       "5609           76       52     29    0.270769    0.130476  0.072077   \n",
       "5610           75       50     30    0.449700    0.499980  0.000000   \n",
       "\n",
       "     distance_from_gt  is_right  \n",
       "0                 NaN       NaN  \n",
       "1                  67       0.0  \n",
       "2                  69       0.0  \n",
       "3                  62       0.0  \n",
       "4                  57       0.0  \n",
       "...               ...       ...  \n",
       "5606               39       1.0  \n",
       "5607               89       0.0  \n",
       "5608               63       0.0  \n",
       "5609               24       1.0  \n",
       "5610               25       1.0  \n",
       "\n",
       "[5611 rows x 14 columns]"
      ]
     },
     "execution_count": 31,
     "metadata": {},
     "output_type": "execute_result"
    }
   ],
   "source": [
    "data"
   ]
  }
 ],
 "metadata": {
  "kernelspec": {
   "display_name": "Python 3 (ipykernel)",
   "language": "python",
   "name": "python3"
  },
  "language_info": {
   "codemirror_mode": {
    "name": "ipython",
    "version": 3
   },
   "file_extension": ".py",
   "mimetype": "text/x-python",
   "name": "python",
   "nbconvert_exporter": "python",
   "pygments_lexer": "ipython3",
   "version": "3.9.12"
  }
 },
 "nbformat": 4,
 "nbformat_minor": 5
}
