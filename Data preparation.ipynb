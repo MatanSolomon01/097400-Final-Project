{
 "cells": [
  {
   "cell_type": "markdown",
   "id": "73fe446e-34af-4c7e-924a-24147b8c3594",
   "metadata": {},
   "source": [
    "# Data Preparation"
   ]
  },
  {
   "cell_type": "code",
   "execution_count": 1,
   "id": "6f601ff1-4d76-4c07-a787-cab38348f54f",
   "metadata": {},
   "outputs": [],
   "source": [
    "import pandas as pd\n",
    "import numpy as np\n",
    "import matplotlib.pyplot as plt\n",
    "import os\n",
    "import pickle as pkl"
   ]
  },
  {
   "cell_type": "markdown",
   "id": "d7214205-0220-4f64-937e-9ca2778ee407",
   "metadata": {
    "jp-MarkdownHeadingCollapsed": true,
    "tags": []
   },
   "source": [
    "## Loading the data"
   ]
  },
  {
   "cell_type": "code",
   "execution_count": 2,
   "id": "c6dabbff-52f2-46a0-a93b-1ae30a422c45",
   "metadata": {},
   "outputs": [],
   "source": [
    "def load_ICM_data(path):\n",
    "    ICM_data = {}\n",
    "    for file in os.listdir(os.fsencode(path)):\n",
    "        filename = os.fsdecode(file)\n",
    "        df = pd.read_csv(path + filename, index_col='id')\n",
    "        ICM_data[filename[:-4]] = df\n",
    "    return ICM_data"
   ]
  },
  {
   "cell_type": "code",
   "execution_count": 3,
   "id": "d734a93e-92c3-48ea-b9a8-15fa34afb5d7",
   "metadata": {},
   "outputs": [
    {
     "data": {
      "text/plain": [
       "dict_keys(['experiments', 'exp_instance', 'exp_pairs', 'exp_results', 'exp_schema', 'exp_users', 'riddles'])"
      ]
     },
     "execution_count": 3,
     "metadata": {},
     "output_type": "execute_result"
    }
   ],
   "source": [
    "icm_data = load_ICM_data(\"data/InCognitoMatchData_SM/\")\n",
    "icm_data.keys()"
   ]
  },
  {
   "cell_type": "markdown",
   "id": "018845ce-e9b5-46f5-9cfa-f3409a8f0483",
   "metadata": {
    "jp-MarkdownHeadingCollapsed": true,
    "tags": []
   },
   "source": [
    "## Setting the data for the project"
   ]
  },
  {
   "cell_type": "markdown",
   "id": "981135b9-9130-44cc-b743-e00edc2aaf2e",
   "metadata": {
    "jp-MarkdownHeadingCollapsed": true,
    "tags": []
   },
   "source": [
    "### Set it up"
   ]
  },
  {
   "cell_type": "code",
   "execution_count": 4,
   "id": "d25b2122-afdf-4b2e-a8be-49512d75e1a8",
   "metadata": {},
   "outputs": [],
   "source": [
    "results = icm_data['exp_results']\n",
    "pairs = icm_data['exp_pairs']\n",
    "riddles = icm_data['riddles']"
   ]
  },
  {
   "cell_type": "code",
   "execution_count": 5,
   "id": "c1139ce1-bc08-4a2b-9579-b1d0d38efa2d",
   "metadata": {},
   "outputs": [],
   "source": [
    "data = pd.merge(results, pairs, how='left', on=['exp_id', 'sch_id_1', 'sch_id_2']) # Merge results and pairs\n",
    "data = data[data['exp_id'].isin([14,15])] # Leave 14 15 exps only\n",
    "data = data[['user_id', 'sch_id_1', 'sch_id_2', 'realconf', 'user_sub_val', 'userconf', 'alg', 'score', 'order', 'token_path', 'term_match', 'word_net']]\n",
    "# Leave relevant columbns only \n",
    "data = data[(data['sch_id_1']!=0)&(data['sch_id_2']!=0)] # Remove 0 sch_id_1 - not necessarily good\n",
    "del data['alg'], data['score'] # delete non-relevant columns\n",
    "data.loc[data['sch_id_1'] >= 215, ['sch_id_1', 'sch_id_2']] -= 94 # Adjust the sch_id indices"
   ]
  },
  {
   "cell_type": "code",
   "execution_count": 6,
   "id": "1a95d791-1930-451f-8dd6-3d029e2b4854",
   "metadata": {},
   "outputs": [
    {
     "name": "stdout",
     "output_type": "stream",
     "text": [
      "(7131, 10)\n"
     ]
    },
    {
     "data": {
      "text/html": [
       "<div>\n",
       "<style scoped>\n",
       "    .dataframe tbody tr th:only-of-type {\n",
       "        vertical-align: middle;\n",
       "    }\n",
       "\n",
       "    .dataframe tbody tr th {\n",
       "        vertical-align: top;\n",
       "    }\n",
       "\n",
       "    .dataframe thead th {\n",
       "        text-align: right;\n",
       "    }\n",
       "</style>\n",
       "<table border=\"1\" class=\"dataframe\">\n",
       "  <thead>\n",
       "    <tr style=\"text-align: right;\">\n",
       "      <th></th>\n",
       "      <th>user_id</th>\n",
       "      <th>sch_id_1</th>\n",
       "      <th>sch_id_2</th>\n",
       "      <th>realconf</th>\n",
       "      <th>user_sub_val</th>\n",
       "      <th>userconf</th>\n",
       "      <th>order</th>\n",
       "      <th>token_path</th>\n",
       "      <th>term_match</th>\n",
       "      <th>word_net</th>\n",
       "    </tr>\n",
       "  </thead>\n",
       "  <tbody>\n",
       "    <tr>\n",
       "      <th>0</th>\n",
       "      <td>171</td>\n",
       "      <td>134</td>\n",
       "      <td>180</td>\n",
       "      <td>0</td>\n",
       "      <td>67</td>\n",
       "      <td>34</td>\n",
       "      <td>1</td>\n",
       "      <td>0.484821</td>\n",
       "      <td>0.619156</td>\n",
       "      <td>1.0</td>\n",
       "    </tr>\n",
       "    <tr>\n",
       "      <th>1</th>\n",
       "      <td>171</td>\n",
       "      <td>134</td>\n",
       "      <td>182</td>\n",
       "      <td>0</td>\n",
       "      <td>69</td>\n",
       "      <td>38</td>\n",
       "      <td>2</td>\n",
       "      <td>0.454945</td>\n",
       "      <td>0.578095</td>\n",
       "      <td>1.0</td>\n",
       "    </tr>\n",
       "    <tr>\n",
       "      <th>2</th>\n",
       "      <td>171</td>\n",
       "      <td>153</td>\n",
       "      <td>183</td>\n",
       "      <td>1</td>\n",
       "      <td>38</td>\n",
       "      <td>24</td>\n",
       "      <td>3</td>\n",
       "      <td>0.552425</td>\n",
       "      <td>0.397624</td>\n",
       "      <td>1.0</td>\n",
       "    </tr>\n",
       "  </tbody>\n",
       "</table>\n",
       "</div>"
      ],
      "text/plain": [
       "   user_id  sch_id_1  sch_id_2  realconf  user_sub_val  userconf  order  \\\n",
       "0      171       134       180         0            67        34      1   \n",
       "1      171       134       182         0            69        38      2   \n",
       "2      171       153       183         1            38        24      3   \n",
       "\n",
       "   token_path  term_match  word_net  \n",
       "0    0.484821    0.619156       1.0  \n",
       "1    0.454945    0.578095       1.0  \n",
       "2    0.552425    0.397624       1.0  "
      ]
     },
     "execution_count": 6,
     "metadata": {},
     "output_type": "execute_result"
    }
   ],
   "source": [
    "print(data.shape)\n",
    "data.head(3)"
   ]
  },
  {
   "cell_type": "markdown",
   "id": "fa56b1b4-e75d-4462-b19b-9680ba21dda6",
   "metadata": {
    "jp-MarkdownHeadingCollapsed": true,
    "tags": []
   },
   "source": [
    "### Is `order` has a 1:1 mapping to `(sch_id_1, sch_id_2)`?"
   ]
  },
  {
   "cell_type": "markdown",
   "id": "4a69f9f4-0a61-4edc-bc00-e9f13da4369d",
   "metadata": {},
   "source": [
    "If so, we will use it later on instead of the sch_id pair"
   ]
  },
  {
   "cell_type": "code",
   "execution_count": 7,
   "id": "2766374c-45c2-4f3f-b922-ed232d33f1be",
   "metadata": {},
   "outputs": [
    {
     "data": {
      "text/html": [
       "<div>\n",
       "<style scoped>\n",
       "    .dataframe tbody tr th:only-of-type {\n",
       "        vertical-align: middle;\n",
       "    }\n",
       "\n",
       "    .dataframe tbody tr th {\n",
       "        vertical-align: top;\n",
       "    }\n",
       "\n",
       "    .dataframe thead th {\n",
       "        text-align: right;\n",
       "    }\n",
       "</style>\n",
       "<table border=\"1\" class=\"dataframe\">\n",
       "  <thead>\n",
       "    <tr style=\"text-align: right;\">\n",
       "      <th></th>\n",
       "      <th></th>\n",
       "      <th>order</th>\n",
       "    </tr>\n",
       "    <tr>\n",
       "      <th>sch_id_1</th>\n",
       "      <th>sch_id_2</th>\n",
       "      <th></th>\n",
       "    </tr>\n",
       "  </thead>\n",
       "  <tbody>\n",
       "    <tr>\n",
       "      <th>121</th>\n",
       "      <th>175</th>\n",
       "      <td>1</td>\n",
       "    </tr>\n",
       "    <tr>\n",
       "      <th>122</th>\n",
       "      <th>206</th>\n",
       "      <td>1</td>\n",
       "    </tr>\n",
       "  </tbody>\n",
       "</table>\n",
       "</div>"
      ],
      "text/plain": [
       "                   order\n",
       "sch_id_1 sch_id_2       \n",
       "121      175           1\n",
       "122      206           1"
      ]
     },
     "metadata": {},
     "output_type": "display_data"
    },
    {
     "data": {
      "text/plain": [
       "True"
      ]
     },
     "execution_count": 7,
     "metadata": {},
     "output_type": "execute_result"
    }
   ],
   "source": [
    "t = data[['sch_id_1', 'sch_id_2', 'order']]\n",
    "grouped_t = t.groupby(['sch_id_1', 'sch_id_2']).agg(lambda x: len(x.unique()))\n",
    "display(grouped_t.head(2))\n",
    "(grouped_t['order'] == 1).all()"
   ]
  },
  {
   "cell_type": "code",
   "execution_count": 8,
   "id": "1ac971e9-a6de-49ae-b393-00b1e321ba72",
   "metadata": {},
   "outputs": [
    {
     "data": {
      "text/plain": [
       "30"
      ]
     },
     "execution_count": 8,
     "metadata": {},
     "output_type": "execute_result"
    }
   ],
   "source": [
    "len(grouped_t)"
   ]
  },
  {
   "cell_type": "markdown",
   "id": "94112c19-6924-46da-8e34-f6edc6870c6c",
   "metadata": {},
   "source": [
    "There are 30 `sch_id` pairs, and each one is assosiated to exactly 1 `order`.\n",
    "\n",
    "It remains to check the other way mapping."
   ]
  },
  {
   "cell_type": "code",
   "execution_count": 9,
   "id": "8e19f7ff-ab67-40b6-978b-34b620c63684",
   "metadata": {},
   "outputs": [
    {
     "data": {
      "text/html": [
       "<div>\n",
       "<style scoped>\n",
       "    .dataframe tbody tr th:only-of-type {\n",
       "        vertical-align: middle;\n",
       "    }\n",
       "\n",
       "    .dataframe tbody tr th {\n",
       "        vertical-align: top;\n",
       "    }\n",
       "\n",
       "    .dataframe thead th {\n",
       "        text-align: right;\n",
       "    }\n",
       "</style>\n",
       "<table border=\"1\" class=\"dataframe\">\n",
       "  <thead>\n",
       "    <tr style=\"text-align: right;\">\n",
       "      <th></th>\n",
       "      <th></th>\n",
       "      <th>order</th>\n",
       "    </tr>\n",
       "    <tr>\n",
       "      <th>sch_id_1</th>\n",
       "      <th>sch_id_2</th>\n",
       "      <th></th>\n",
       "    </tr>\n",
       "  </thead>\n",
       "  <tbody>\n",
       "    <tr>\n",
       "      <th>121</th>\n",
       "      <th>175</th>\n",
       "      <td>8</td>\n",
       "    </tr>\n",
       "    <tr>\n",
       "      <th>122</th>\n",
       "      <th>206</th>\n",
       "      <td>29</td>\n",
       "    </tr>\n",
       "  </tbody>\n",
       "</table>\n",
       "</div>"
      ],
      "text/plain": [
       "                   order\n",
       "sch_id_1 sch_id_2       \n",
       "121      175           8\n",
       "122      206          29"
      ]
     },
     "metadata": {},
     "output_type": "display_data"
    },
    {
     "data": {
      "text/plain": [
       "30"
      ]
     },
     "execution_count": 9,
     "metadata": {},
     "output_type": "execute_result"
    }
   ],
   "source": [
    "grouped_t = t.groupby(['sch_id_1', 'sch_id_2']).agg(lambda x: x.unique()[0])\n",
    "display(grouped_t.head(2))\n",
    "grouped_t['order'].unique().size"
   ]
  },
  {
   "cell_type": "markdown",
   "id": "825e4058-4236-464f-8d57-8d3218c2d32d",
   "metadata": {},
   "source": [
    "There are 30 unique `order`s, and so each order has it unique pair, and its a 1:1 mapping."
   ]
  },
  {
   "cell_type": "markdown",
   "id": "98b21f0d-a54f-4edc-8b8d-647c23bd0bfb",
   "metadata": {
    "jp-MarkdownHeadingCollapsed": true,
    "tags": []
   },
   "source": [
    "### Is the number of rows make sense?"
   ]
  },
  {
   "cell_type": "code",
   "execution_count": 10,
   "id": "2dc4e4a6-8590-4acb-ab19-436a1b8fb8e4",
   "metadata": {},
   "outputs": [
    {
     "name": "stdout",
     "output_type": "stream",
     "text": [
      "Unique users: 309\n"
     ]
    },
    {
     "data": {
      "text/plain": [
       "9270"
      ]
     },
     "execution_count": 10,
     "metadata": {},
     "output_type": "execute_result"
    }
   ],
   "source": [
    "unique_users = data['user_id'].unique().size\n",
    "print(f\"Unique users: {unique_users}\")\n",
    "unique_users * 30"
   ]
  },
  {
   "cell_type": "markdown",
   "id": "cf608880-c885-4a00-81aa-5b83fdff3f2c",
   "metadata": {},
   "source": [
    "We are sure we have missing records, yet we dont know how many exactly, because we may have duplicates."
   ]
  },
  {
   "cell_type": "code",
   "execution_count": 11,
   "id": "a97f4a41-7026-4b8f-9523-81cf33acee2e",
   "metadata": {},
   "outputs": [
    {
     "data": {
      "image/png": "[encoded data removed]",
      "text/plain": [
       "<Figure size 432x288 with 1 Axes>"
      ]
     },
     "metadata": {
      "needs_background": "light"
     },
     "output_type": "display_data"
    }
   ],
   "source": [
    "questions_counts = data['order'].value_counts().sort_index()\n",
    "plt.bar(questions_counts.index, questions_counts)\n",
    "plt.title(\"How many records for each question?\")\n",
    "plt.show()"
   ]
  },
  {
   "cell_type": "code",
   "execution_count": 12,
   "id": "40dea13f-f7c7-4969-8688-3357c3f91fa1",
   "metadata": {},
   "outputs": [
    {
     "data": {
      "text/plain": [
       "2"
      ]
     },
     "execution_count": 12,
     "metadata": {},
     "output_type": "execute_result"
    }
   ],
   "source": [
    "(questions_counts > unique_users).sum()"
   ]
  },
  {
   "cell_type": "markdown",
   "id": "160226a9-113f-4ad8-9de5-68a7f77c436a",
   "metadata": {},
   "source": [
    "Duplicates: for example, there are 2 questions recorded more than the number of unique users!"
   ]
  },
  {
   "cell_type": "markdown",
   "id": "839cd336-cafe-4963-90f6-ad12659f8f22",
   "metadata": {
    "jp-MarkdownHeadingCollapsed": true,
    "tags": []
   },
   "source": [
    "### Lets characterize duplicates"
   ]
  },
  {
   "cell_type": "markdown",
   "id": "0fc20818-52d1-458d-94f3-ecaf50a31cb2",
   "metadata": {},
   "source": [
    "We would like each user and order to have at most 1 answer"
   ]
  },
  {
   "cell_type": "code",
   "execution_count": 13,
   "id": "079a36e6-471b-49ba-8615-de9a39f9b316",
   "metadata": {},
   "outputs": [
    {
     "data": {
      "text/plain": [
       "user_id  order\n",
       "186      12        2\n",
       "203      29        2\n",
       "226      27        2\n",
       "273      5         2\n",
       "         10        2\n",
       "         19        2\n",
       "328      25        2\n",
       "332      10        2\n",
       "         20        2\n",
       "346      6         3\n",
       "388      1         3\n",
       "398      24        3\n",
       "406      13        3\n",
       "410      7         2\n",
       "419      3        11\n",
       "428      7         2\n",
       "         10        2\n",
       "         22        2\n",
       "         25        2\n",
       "         28        2\n",
       "433      3        19\n",
       "437      23        6\n",
       "480      28        3\n",
       "489      10        2\n",
       "499      3         5\n",
       "504      15        2\n",
       "505      19        2\n",
       "         28        2\n",
       "524      5        23\n",
       "541      8         2\n",
       "550      12        5\n",
       "551      1         2\n",
       "         28        2\n",
       "558      6         2\n",
       "         12        2\n",
       "565      7         2\n",
       "567      9         2\n",
       "605      2         2\n",
       "687      14        2\n",
       "691      10        2\n",
       "700      11        2\n",
       "dtype: int64"
      ]
     },
     "execution_count": 13,
     "metadata": {},
     "output_type": "execute_result"
    }
   ],
   "source": [
    "answers_counts = data[['user_id', 'order']].groupby(['user_id', 'order']).size()\n",
    "answers_counts[answers_counts > 1]"
   ]
  },
  {
   "cell_type": "markdown",
   "id": "2acda048-6405-4c0e-97b8-31d7339db095",
   "metadata": {},
   "source": [
    "First of all, what the fuck?\n",
    "\n",
    "Secondly, lets check it out"
   ]
  },
  {
   "cell_type": "code",
   "execution_count": 14,
   "id": "5a372932-6763-4e8d-9bd3-993323410be9",
   "metadata": {},
   "outputs": [
    {
     "data": {
      "text/html": [
       "<div>\n",
       "<style scoped>\n",
       "    .dataframe tbody tr th:only-of-type {\n",
       "        vertical-align: middle;\n",
       "    }\n",
       "\n",
       "    .dataframe tbody tr th {\n",
       "        vertical-align: top;\n",
       "    }\n",
       "\n",
       "    .dataframe thead th {\n",
       "        text-align: right;\n",
       "    }\n",
       "</style>\n",
       "<table border=\"1\" class=\"dataframe\">\n",
       "  <thead>\n",
       "    <tr style=\"text-align: right;\">\n",
       "      <th></th>\n",
       "      <th>user_id</th>\n",
       "      <th>sch_id_1</th>\n",
       "      <th>sch_id_2</th>\n",
       "      <th>realconf</th>\n",
       "      <th>user_sub_val</th>\n",
       "      <th>userconf</th>\n",
       "      <th>order</th>\n",
       "      <th>token_path</th>\n",
       "      <th>term_match</th>\n",
       "      <th>word_net</th>\n",
       "    </tr>\n",
       "  </thead>\n",
       "  <tbody>\n",
       "    <tr>\n",
       "      <th>156</th>\n",
       "      <td>186</td>\n",
       "      <td>166</td>\n",
       "      <td>181</td>\n",
       "      <td>0</td>\n",
       "      <td>0</td>\n",
       "      <td>100</td>\n",
       "      <td>12</td>\n",
       "      <td>0.430476</td>\n",
       "      <td>0.427287</td>\n",
       "      <td>1.0</td>\n",
       "    </tr>\n",
       "    <tr>\n",
       "      <th>157</th>\n",
       "      <td>186</td>\n",
       "      <td>166</td>\n",
       "      <td>181</td>\n",
       "      <td>0</td>\n",
       "      <td>0</td>\n",
       "      <td>100</td>\n",
       "      <td>12</td>\n",
       "      <td>0.430476</td>\n",
       "      <td>0.427287</td>\n",
       "      <td>1.0</td>\n",
       "    </tr>\n",
       "  </tbody>\n",
       "</table>\n",
       "</div>"
      ],
      "text/plain": [
       "     user_id  sch_id_1  sch_id_2  realconf  user_sub_val  userconf  order  \\\n",
       "156      186       166       181         0             0       100     12   \n",
       "157      186       166       181         0             0       100     12   \n",
       "\n",
       "     token_path  term_match  word_net  \n",
       "156    0.430476    0.427287       1.0  \n",
       "157    0.430476    0.427287       1.0  "
      ]
     },
     "execution_count": 14,
     "metadata": {},
     "output_type": "execute_result"
    }
   ],
   "source": [
    "data[(data['user_id']==186)&(data['order']==12)]"
   ]
  },
  {
   "cell_type": "code",
   "execution_count": 15,
   "id": "181b05cc-f47f-44b2-92ea-c91d0e08ff02",
   "metadata": {},
   "outputs": [
    {
     "data": {
      "text/html": [
       "<div>\n",
       "<style scoped>\n",
       "    .dataframe tbody tr th:only-of-type {\n",
       "        vertical-align: middle;\n",
       "    }\n",
       "\n",
       "    .dataframe tbody tr th {\n",
       "        vertical-align: top;\n",
       "    }\n",
       "\n",
       "    .dataframe thead th {\n",
       "        text-align: right;\n",
       "    }\n",
       "</style>\n",
       "<table border=\"1\" class=\"dataframe\">\n",
       "  <thead>\n",
       "    <tr style=\"text-align: right;\">\n",
       "      <th></th>\n",
       "      <th>user_id</th>\n",
       "      <th>sch_id_1</th>\n",
       "      <th>sch_id_2</th>\n",
       "      <th>realconf</th>\n",
       "      <th>user_sub_val</th>\n",
       "      <th>userconf</th>\n",
       "      <th>order</th>\n",
       "      <th>token_path</th>\n",
       "      <th>term_match</th>\n",
       "      <th>word_net</th>\n",
       "    </tr>\n",
       "  </thead>\n",
       "  <tbody>\n",
       "    <tr>\n",
       "      <th>3164</th>\n",
       "      <td>433</td>\n",
       "      <td>153</td>\n",
       "      <td>183</td>\n",
       "      <td>1</td>\n",
       "      <td>66</td>\n",
       "      <td>32</td>\n",
       "      <td>3</td>\n",
       "      <td>0.552425</td>\n",
       "      <td>0.397624</td>\n",
       "      <td>1.0</td>\n",
       "    </tr>\n",
       "    <tr>\n",
       "      <th>3165</th>\n",
       "      <td>433</td>\n",
       "      <td>153</td>\n",
       "      <td>183</td>\n",
       "      <td>1</td>\n",
       "      <td>66</td>\n",
       "      <td>32</td>\n",
       "      <td>3</td>\n",
       "      <td>0.552425</td>\n",
       "      <td>0.397624</td>\n",
       "      <td>1.0</td>\n",
       "    </tr>\n",
       "    <tr>\n",
       "      <th>3166</th>\n",
       "      <td>433</td>\n",
       "      <td>153</td>\n",
       "      <td>183</td>\n",
       "      <td>1</td>\n",
       "      <td>66</td>\n",
       "      <td>32</td>\n",
       "      <td>3</td>\n",
       "      <td>0.552425</td>\n",
       "      <td>0.397624</td>\n",
       "      <td>1.0</td>\n",
       "    </tr>\n",
       "    <tr>\n",
       "      <th>3167</th>\n",
       "      <td>433</td>\n",
       "      <td>153</td>\n",
       "      <td>183</td>\n",
       "      <td>1</td>\n",
       "      <td>62</td>\n",
       "      <td>24</td>\n",
       "      <td>3</td>\n",
       "      <td>0.552425</td>\n",
       "      <td>0.397624</td>\n",
       "      <td>1.0</td>\n",
       "    </tr>\n",
       "    <tr>\n",
       "      <th>3168</th>\n",
       "      <td>433</td>\n",
       "      <td>153</td>\n",
       "      <td>183</td>\n",
       "      <td>1</td>\n",
       "      <td>62</td>\n",
       "      <td>24</td>\n",
       "      <td>3</td>\n",
       "      <td>0.552425</td>\n",
       "      <td>0.397624</td>\n",
       "      <td>1.0</td>\n",
       "    </tr>\n",
       "    <tr>\n",
       "      <th>3169</th>\n",
       "      <td>433</td>\n",
       "      <td>153</td>\n",
       "      <td>183</td>\n",
       "      <td>1</td>\n",
       "      <td>62</td>\n",
       "      <td>24</td>\n",
       "      <td>3</td>\n",
       "      <td>0.552425</td>\n",
       "      <td>0.397624</td>\n",
       "      <td>1.0</td>\n",
       "    </tr>\n",
       "    <tr>\n",
       "      <th>3170</th>\n",
       "      <td>433</td>\n",
       "      <td>153</td>\n",
       "      <td>183</td>\n",
       "      <td>1</td>\n",
       "      <td>62</td>\n",
       "      <td>24</td>\n",
       "      <td>3</td>\n",
       "      <td>0.552425</td>\n",
       "      <td>0.397624</td>\n",
       "      <td>1.0</td>\n",
       "    </tr>\n",
       "    <tr>\n",
       "      <th>3171</th>\n",
       "      <td>433</td>\n",
       "      <td>153</td>\n",
       "      <td>183</td>\n",
       "      <td>1</td>\n",
       "      <td>62</td>\n",
       "      <td>24</td>\n",
       "      <td>3</td>\n",
       "      <td>0.552425</td>\n",
       "      <td>0.397624</td>\n",
       "      <td>1.0</td>\n",
       "    </tr>\n",
       "    <tr>\n",
       "      <th>3172</th>\n",
       "      <td>433</td>\n",
       "      <td>153</td>\n",
       "      <td>183</td>\n",
       "      <td>1</td>\n",
       "      <td>62</td>\n",
       "      <td>24</td>\n",
       "      <td>3</td>\n",
       "      <td>0.552425</td>\n",
       "      <td>0.397624</td>\n",
       "      <td>1.0</td>\n",
       "    </tr>\n",
       "    <tr>\n",
       "      <th>3173</th>\n",
       "      <td>433</td>\n",
       "      <td>153</td>\n",
       "      <td>183</td>\n",
       "      <td>1</td>\n",
       "      <td>62</td>\n",
       "      <td>24</td>\n",
       "      <td>3</td>\n",
       "      <td>0.552425</td>\n",
       "      <td>0.397624</td>\n",
       "      <td>1.0</td>\n",
       "    </tr>\n",
       "    <tr>\n",
       "      <th>3174</th>\n",
       "      <td>433</td>\n",
       "      <td>153</td>\n",
       "      <td>183</td>\n",
       "      <td>1</td>\n",
       "      <td>62</td>\n",
       "      <td>24</td>\n",
       "      <td>3</td>\n",
       "      <td>0.552425</td>\n",
       "      <td>0.397624</td>\n",
       "      <td>1.0</td>\n",
       "    </tr>\n",
       "    <tr>\n",
       "      <th>3175</th>\n",
       "      <td>433</td>\n",
       "      <td>153</td>\n",
       "      <td>183</td>\n",
       "      <td>1</td>\n",
       "      <td>62</td>\n",
       "      <td>24</td>\n",
       "      <td>3</td>\n",
       "      <td>0.552425</td>\n",
       "      <td>0.397624</td>\n",
       "      <td>1.0</td>\n",
       "    </tr>\n",
       "    <tr>\n",
       "      <th>3176</th>\n",
       "      <td>433</td>\n",
       "      <td>153</td>\n",
       "      <td>183</td>\n",
       "      <td>1</td>\n",
       "      <td>62</td>\n",
       "      <td>24</td>\n",
       "      <td>3</td>\n",
       "      <td>0.552425</td>\n",
       "      <td>0.397624</td>\n",
       "      <td>1.0</td>\n",
       "    </tr>\n",
       "    <tr>\n",
       "      <th>3177</th>\n",
       "      <td>433</td>\n",
       "      <td>153</td>\n",
       "      <td>183</td>\n",
       "      <td>1</td>\n",
       "      <td>62</td>\n",
       "      <td>24</td>\n",
       "      <td>3</td>\n",
       "      <td>0.552425</td>\n",
       "      <td>0.397624</td>\n",
       "      <td>1.0</td>\n",
       "    </tr>\n",
       "    <tr>\n",
       "      <th>3178</th>\n",
       "      <td>433</td>\n",
       "      <td>153</td>\n",
       "      <td>183</td>\n",
       "      <td>1</td>\n",
       "      <td>62</td>\n",
       "      <td>24</td>\n",
       "      <td>3</td>\n",
       "      <td>0.552425</td>\n",
       "      <td>0.397624</td>\n",
       "      <td>1.0</td>\n",
       "    </tr>\n",
       "    <tr>\n",
       "      <th>3179</th>\n",
       "      <td>433</td>\n",
       "      <td>153</td>\n",
       "      <td>183</td>\n",
       "      <td>1</td>\n",
       "      <td>62</td>\n",
       "      <td>24</td>\n",
       "      <td>3</td>\n",
       "      <td>0.552425</td>\n",
       "      <td>0.397624</td>\n",
       "      <td>1.0</td>\n",
       "    </tr>\n",
       "    <tr>\n",
       "      <th>3180</th>\n",
       "      <td>433</td>\n",
       "      <td>153</td>\n",
       "      <td>183</td>\n",
       "      <td>1</td>\n",
       "      <td>66</td>\n",
       "      <td>32</td>\n",
       "      <td>3</td>\n",
       "      <td>0.552425</td>\n",
       "      <td>0.397624</td>\n",
       "      <td>1.0</td>\n",
       "    </tr>\n",
       "    <tr>\n",
       "      <th>3181</th>\n",
       "      <td>433</td>\n",
       "      <td>153</td>\n",
       "      <td>183</td>\n",
       "      <td>1</td>\n",
       "      <td>62</td>\n",
       "      <td>24</td>\n",
       "      <td>3</td>\n",
       "      <td>0.552425</td>\n",
       "      <td>0.397624</td>\n",
       "      <td>1.0</td>\n",
       "    </tr>\n",
       "    <tr>\n",
       "      <th>3182</th>\n",
       "      <td>433</td>\n",
       "      <td>153</td>\n",
       "      <td>183</td>\n",
       "      <td>1</td>\n",
       "      <td>62</td>\n",
       "      <td>24</td>\n",
       "      <td>3</td>\n",
       "      <td>0.552425</td>\n",
       "      <td>0.397624</td>\n",
       "      <td>1.0</td>\n",
       "    </tr>\n",
       "  </tbody>\n",
       "</table>\n",
       "</div>"
      ],
      "text/plain": [
       "      user_id  sch_id_1  sch_id_2  realconf  user_sub_val  userconf  order  \\\n",
       "3164      433       153       183         1            66        32      3   \n",
       "3165      433       153       183         1            66        32      3   \n",
       "3166      433       153       183         1            66        32      3   \n",
       "3167      433       153       183         1            62        24      3   \n",
       "3168      433       153       183         1            62        24      3   \n",
       "3169      433       153       183         1            62        24      3   \n",
       "3170      433       153       183         1            62        24      3   \n",
       "3171      433       153       183         1            62        24      3   \n",
       "3172      433       153       183         1            62        24      3   \n",
       "3173      433       153       183         1            62        24      3   \n",
       "3174      433       153       183         1            62        24      3   \n",
       "3175      433       153       183         1            62        24      3   \n",
       "3176      433       153       183         1            62        24      3   \n",
       "3177      433       153       183         1            62        24      3   \n",
       "3178      433       153       183         1            62        24      3   \n",
       "3179      433       153       183         1            62        24      3   \n",
       "3180      433       153       183         1            66        32      3   \n",
       "3181      433       153       183         1            62        24      3   \n",
       "3182      433       153       183         1            62        24      3   \n",
       "\n",
       "      token_path  term_match  word_net  \n",
       "3164    0.552425    0.397624       1.0  \n",
       "3165    0.552425    0.397624       1.0  \n",
       "3166    0.552425    0.397624       1.0  \n",
       "3167    0.552425    0.397624       1.0  \n",
       "3168    0.552425    0.397624       1.0  \n",
       "3169    0.552425    0.397624       1.0  \n",
       "3170    0.552425    0.397624       1.0  \n",
       "3171    0.552425    0.397624       1.0  \n",
       "3172    0.552425    0.397624       1.0  \n",
       "3173    0.552425    0.397624       1.0  \n",
       "3174    0.552425    0.397624       1.0  \n",
       "3175    0.552425    0.397624       1.0  \n",
       "3176    0.552425    0.397624       1.0  \n",
       "3177    0.552425    0.397624       1.0  \n",
       "3178    0.552425    0.397624       1.0  \n",
       "3179    0.552425    0.397624       1.0  \n",
       "3180    0.552425    0.397624       1.0  \n",
       "3181    0.552425    0.397624       1.0  \n",
       "3182    0.552425    0.397624       1.0  "
      ]
     },
     "execution_count": 15,
     "metadata": {},
     "output_type": "execute_result"
    }
   ],
   "source": [
    "data[(data['user_id']==433)&(data['order']==3)]"
   ]
  },
  {
   "cell_type": "markdown",
   "id": "24a79f47-224a-4832-8d49-cfabde3d082b",
   "metadata": {},
   "source": [
    "Just the same!\n",
    "\n",
    "Lets make sure all the cases are that way"
   ]
  },
  {
   "cell_type": "code",
   "execution_count": 16,
   "id": "14b3eedc-0711-44c9-814c-6c19209a4d1f",
   "metadata": {},
   "outputs": [
    {
     "name": "stderr",
     "output_type": "stream",
     "text": [
      "C:\\Users\\matan_39ey9fy\\AppData\\Local\\Temp\\ipykernel_8008\\3740184355.py:2: FutureWarning: iteritems is deprecated and will be removed in a future version. Use .items instead.\n",
      "  for (user_id, order), amount in answers_counts[answers_counts > 1].iteritems():\n"
     ]
    },
    {
     "data": {
      "text/plain": [
       "False"
      ]
     },
     "execution_count": 16,
     "metadata": {},
     "output_type": "execute_result"
    }
   ],
   "source": [
    "total = True\n",
    "for (user_id, order), amount in answers_counts[answers_counts > 1].iteritems():\n",
    "    respective_df = data[(data['user_id']==user_id)&(data['order']==order)]\n",
    "    all_the_same = (respective_df.nunique() == 1).all()\n",
    "    total &= all_the_same\n",
    "total"
   ]
  },
  {
   "cell_type": "markdown",
   "id": "22a67a06-f97a-4883-9a26-386a4c33d6ea",
   "metadata": {},
   "source": [
    "Crap!"
   ]
  },
  {
   "cell_type": "code",
   "execution_count": 17,
   "id": "ff1b8b3f-aee1-4e07-94db-67838cdc8851",
   "metadata": {},
   "outputs": [
    {
     "name": "stderr",
     "output_type": "stream",
     "text": [
      "C:\\Users\\matan_39ey9fy\\AppData\\Local\\Temp\\ipykernel_8008\\2262144008.py:2: FutureWarning: iteritems is deprecated and will be removed in a future version. Use .items instead.\n",
      "  for (user_id, order), amount in answers_counts[answers_counts > 1].iteritems():\n"
     ]
    },
    {
     "data": {
      "text/plain": [
       "[(226, 27), (332, 20), (388, 1), (419, 3), (433, 3), (524, 5)]"
      ]
     },
     "execution_count": 17,
     "metadata": {},
     "output_type": "execute_result"
    }
   ],
   "source": [
    "problematic = []\n",
    "for (user_id, order), amount in answers_counts[answers_counts > 1].iteritems():\n",
    "    respective_df = data[(data['user_id']==user_id)&(data['order']==order)]\n",
    "    all_the_same = (respective_df.nunique() == 1).all()\n",
    "    if not all_the_same:\n",
    "        problematic.append((user_id, order))\n",
    "problematic"
   ]
  },
  {
   "cell_type": "code",
   "execution_count": 18,
   "id": "59c6ff6e-6b0e-4dd7-9549-14082ba34037",
   "metadata": {},
   "outputs": [
    {
     "data": {
      "text/plain": [
       "user_id          True\n",
       "sch_id_1         True\n",
       "sch_id_2         True\n",
       "realconf         True\n",
       "user_sub_val    False\n",
       "userconf        False\n",
       "order            True\n",
       "token_path       True\n",
       "term_match       True\n",
       "word_net         True\n",
       "dtype: bool"
      ]
     },
     "metadata": {},
     "output_type": "display_data"
    },
    {
     "data": {
      "text/html": [
       "<div>\n",
       "<style scoped>\n",
       "    .dataframe tbody tr th:only-of-type {\n",
       "        vertical-align: middle;\n",
       "    }\n",
       "\n",
       "    .dataframe tbody tr th {\n",
       "        vertical-align: top;\n",
       "    }\n",
       "\n",
       "    .dataframe thead th {\n",
       "        text-align: right;\n",
       "    }\n",
       "</style>\n",
       "<table border=\"1\" class=\"dataframe\">\n",
       "  <thead>\n",
       "    <tr style=\"text-align: right;\">\n",
       "      <th></th>\n",
       "      <th>user_id</th>\n",
       "      <th>sch_id_1</th>\n",
       "      <th>sch_id_2</th>\n",
       "      <th>realconf</th>\n",
       "      <th>user_sub_val</th>\n",
       "      <th>userconf</th>\n",
       "      <th>order</th>\n",
       "      <th>token_path</th>\n",
       "      <th>term_match</th>\n",
       "      <th>word_net</th>\n",
       "    </tr>\n",
       "  </thead>\n",
       "  <tbody>\n",
       "    <tr>\n",
       "      <th>4416</th>\n",
       "      <td>524</td>\n",
       "      <td>163</td>\n",
       "      <td>176</td>\n",
       "      <td>1</td>\n",
       "      <td>90</td>\n",
       "      <td>80</td>\n",
       "      <td>5</td>\n",
       "      <td>0.570769</td>\n",
       "      <td>0.65</td>\n",
       "      <td>1.0</td>\n",
       "    </tr>\n",
       "    <tr>\n",
       "      <th>4417</th>\n",
       "      <td>524</td>\n",
       "      <td>163</td>\n",
       "      <td>176</td>\n",
       "      <td>1</td>\n",
       "      <td>87</td>\n",
       "      <td>74</td>\n",
       "      <td>5</td>\n",
       "      <td>0.570769</td>\n",
       "      <td>0.65</td>\n",
       "      <td>1.0</td>\n",
       "    </tr>\n",
       "    <tr>\n",
       "      <th>4418</th>\n",
       "      <td>524</td>\n",
       "      <td>163</td>\n",
       "      <td>176</td>\n",
       "      <td>1</td>\n",
       "      <td>87</td>\n",
       "      <td>74</td>\n",
       "      <td>5</td>\n",
       "      <td>0.570769</td>\n",
       "      <td>0.65</td>\n",
       "      <td>1.0</td>\n",
       "    </tr>\n",
       "    <tr>\n",
       "      <th>4419</th>\n",
       "      <td>524</td>\n",
       "      <td>163</td>\n",
       "      <td>176</td>\n",
       "      <td>1</td>\n",
       "      <td>87</td>\n",
       "      <td>74</td>\n",
       "      <td>5</td>\n",
       "      <td>0.570769</td>\n",
       "      <td>0.65</td>\n",
       "      <td>1.0</td>\n",
       "    </tr>\n",
       "    <tr>\n",
       "      <th>4420</th>\n",
       "      <td>524</td>\n",
       "      <td>163</td>\n",
       "      <td>176</td>\n",
       "      <td>1</td>\n",
       "      <td>91</td>\n",
       "      <td>82</td>\n",
       "      <td>5</td>\n",
       "      <td>0.570769</td>\n",
       "      <td>0.65</td>\n",
       "      <td>1.0</td>\n",
       "    </tr>\n",
       "    <tr>\n",
       "      <th>4421</th>\n",
       "      <td>524</td>\n",
       "      <td>163</td>\n",
       "      <td>176</td>\n",
       "      <td>1</td>\n",
       "      <td>91</td>\n",
       "      <td>82</td>\n",
       "      <td>5</td>\n",
       "      <td>0.570769</td>\n",
       "      <td>0.65</td>\n",
       "      <td>1.0</td>\n",
       "    </tr>\n",
       "    <tr>\n",
       "      <th>4422</th>\n",
       "      <td>524</td>\n",
       "      <td>163</td>\n",
       "      <td>176</td>\n",
       "      <td>1</td>\n",
       "      <td>91</td>\n",
       "      <td>82</td>\n",
       "      <td>5</td>\n",
       "      <td>0.570769</td>\n",
       "      <td>0.65</td>\n",
       "      <td>1.0</td>\n",
       "    </tr>\n",
       "    <tr>\n",
       "      <th>4423</th>\n",
       "      <td>524</td>\n",
       "      <td>163</td>\n",
       "      <td>176</td>\n",
       "      <td>1</td>\n",
       "      <td>91</td>\n",
       "      <td>82</td>\n",
       "      <td>5</td>\n",
       "      <td>0.570769</td>\n",
       "      <td>0.65</td>\n",
       "      <td>1.0</td>\n",
       "    </tr>\n",
       "    <tr>\n",
       "      <th>4424</th>\n",
       "      <td>524</td>\n",
       "      <td>163</td>\n",
       "      <td>176</td>\n",
       "      <td>1</td>\n",
       "      <td>95</td>\n",
       "      <td>90</td>\n",
       "      <td>5</td>\n",
       "      <td>0.570769</td>\n",
       "      <td>0.65</td>\n",
       "      <td>1.0</td>\n",
       "    </tr>\n",
       "    <tr>\n",
       "      <th>4425</th>\n",
       "      <td>524</td>\n",
       "      <td>163</td>\n",
       "      <td>176</td>\n",
       "      <td>1</td>\n",
       "      <td>95</td>\n",
       "      <td>90</td>\n",
       "      <td>5</td>\n",
       "      <td>0.570769</td>\n",
       "      <td>0.65</td>\n",
       "      <td>1.0</td>\n",
       "    </tr>\n",
       "    <tr>\n",
       "      <th>4426</th>\n",
       "      <td>524</td>\n",
       "      <td>163</td>\n",
       "      <td>176</td>\n",
       "      <td>1</td>\n",
       "      <td>95</td>\n",
       "      <td>90</td>\n",
       "      <td>5</td>\n",
       "      <td>0.570769</td>\n",
       "      <td>0.65</td>\n",
       "      <td>1.0</td>\n",
       "    </tr>\n",
       "    <tr>\n",
       "      <th>4427</th>\n",
       "      <td>524</td>\n",
       "      <td>163</td>\n",
       "      <td>176</td>\n",
       "      <td>1</td>\n",
       "      <td>95</td>\n",
       "      <td>90</td>\n",
       "      <td>5</td>\n",
       "      <td>0.570769</td>\n",
       "      <td>0.65</td>\n",
       "      <td>1.0</td>\n",
       "    </tr>\n",
       "    <tr>\n",
       "      <th>4428</th>\n",
       "      <td>524</td>\n",
       "      <td>163</td>\n",
       "      <td>176</td>\n",
       "      <td>1</td>\n",
       "      <td>91</td>\n",
       "      <td>82</td>\n",
       "      <td>5</td>\n",
       "      <td>0.570769</td>\n",
       "      <td>0.65</td>\n",
       "      <td>1.0</td>\n",
       "    </tr>\n",
       "    <tr>\n",
       "      <th>4429</th>\n",
       "      <td>524</td>\n",
       "      <td>163</td>\n",
       "      <td>176</td>\n",
       "      <td>1</td>\n",
       "      <td>91</td>\n",
       "      <td>82</td>\n",
       "      <td>5</td>\n",
       "      <td>0.570769</td>\n",
       "      <td>0.65</td>\n",
       "      <td>1.0</td>\n",
       "    </tr>\n",
       "    <tr>\n",
       "      <th>4430</th>\n",
       "      <td>524</td>\n",
       "      <td>163</td>\n",
       "      <td>176</td>\n",
       "      <td>1</td>\n",
       "      <td>91</td>\n",
       "      <td>82</td>\n",
       "      <td>5</td>\n",
       "      <td>0.570769</td>\n",
       "      <td>0.65</td>\n",
       "      <td>1.0</td>\n",
       "    </tr>\n",
       "    <tr>\n",
       "      <th>4431</th>\n",
       "      <td>524</td>\n",
       "      <td>163</td>\n",
       "      <td>176</td>\n",
       "      <td>1</td>\n",
       "      <td>91</td>\n",
       "      <td>82</td>\n",
       "      <td>5</td>\n",
       "      <td>0.570769</td>\n",
       "      <td>0.65</td>\n",
       "      <td>1.0</td>\n",
       "    </tr>\n",
       "    <tr>\n",
       "      <th>4432</th>\n",
       "      <td>524</td>\n",
       "      <td>163</td>\n",
       "      <td>176</td>\n",
       "      <td>1</td>\n",
       "      <td>84</td>\n",
       "      <td>68</td>\n",
       "      <td>5</td>\n",
       "      <td>0.570769</td>\n",
       "      <td>0.65</td>\n",
       "      <td>1.0</td>\n",
       "    </tr>\n",
       "    <tr>\n",
       "      <th>4433</th>\n",
       "      <td>524</td>\n",
       "      <td>163</td>\n",
       "      <td>176</td>\n",
       "      <td>1</td>\n",
       "      <td>84</td>\n",
       "      <td>68</td>\n",
       "      <td>5</td>\n",
       "      <td>0.570769</td>\n",
       "      <td>0.65</td>\n",
       "      <td>1.0</td>\n",
       "    </tr>\n",
       "    <tr>\n",
       "      <th>4434</th>\n",
       "      <td>524</td>\n",
       "      <td>163</td>\n",
       "      <td>176</td>\n",
       "      <td>1</td>\n",
       "      <td>84</td>\n",
       "      <td>68</td>\n",
       "      <td>5</td>\n",
       "      <td>0.570769</td>\n",
       "      <td>0.65</td>\n",
       "      <td>1.0</td>\n",
       "    </tr>\n",
       "    <tr>\n",
       "      <th>4435</th>\n",
       "      <td>524</td>\n",
       "      <td>163</td>\n",
       "      <td>176</td>\n",
       "      <td>1</td>\n",
       "      <td>84</td>\n",
       "      <td>68</td>\n",
       "      <td>5</td>\n",
       "      <td>0.570769</td>\n",
       "      <td>0.65</td>\n",
       "      <td>1.0</td>\n",
       "    </tr>\n",
       "    <tr>\n",
       "      <th>4436</th>\n",
       "      <td>524</td>\n",
       "      <td>163</td>\n",
       "      <td>176</td>\n",
       "      <td>1</td>\n",
       "      <td>99</td>\n",
       "      <td>98</td>\n",
       "      <td>5</td>\n",
       "      <td>0.570769</td>\n",
       "      <td>0.65</td>\n",
       "      <td>1.0</td>\n",
       "    </tr>\n",
       "    <tr>\n",
       "      <th>4437</th>\n",
       "      <td>524</td>\n",
       "      <td>163</td>\n",
       "      <td>176</td>\n",
       "      <td>1</td>\n",
       "      <td>99</td>\n",
       "      <td>98</td>\n",
       "      <td>5</td>\n",
       "      <td>0.570769</td>\n",
       "      <td>0.65</td>\n",
       "      <td>1.0</td>\n",
       "    </tr>\n",
       "    <tr>\n",
       "      <th>4438</th>\n",
       "      <td>524</td>\n",
       "      <td>163</td>\n",
       "      <td>176</td>\n",
       "      <td>1</td>\n",
       "      <td>87</td>\n",
       "      <td>74</td>\n",
       "      <td>5</td>\n",
       "      <td>0.570769</td>\n",
       "      <td>0.65</td>\n",
       "      <td>1.0</td>\n",
       "    </tr>\n",
       "  </tbody>\n",
       "</table>\n",
       "</div>"
      ],
      "text/plain": [
       "      user_id  sch_id_1  sch_id_2  realconf  user_sub_val  userconf  order  \\\n",
       "4416      524       163       176         1            90        80      5   \n",
       "4417      524       163       176         1            87        74      5   \n",
       "4418      524       163       176         1            87        74      5   \n",
       "4419      524       163       176         1            87        74      5   \n",
       "4420      524       163       176         1            91        82      5   \n",
       "4421      524       163       176         1            91        82      5   \n",
       "4422      524       163       176         1            91        82      5   \n",
       "4423      524       163       176         1            91        82      5   \n",
       "4424      524       163       176         1            95        90      5   \n",
       "4425      524       163       176         1            95        90      5   \n",
       "4426      524       163       176         1            95        90      5   \n",
       "4427      524       163       176         1            95        90      5   \n",
       "4428      524       163       176         1            91        82      5   \n",
       "4429      524       163       176         1            91        82      5   \n",
       "4430      524       163       176         1            91        82      5   \n",
       "4431      524       163       176         1            91        82      5   \n",
       "4432      524       163       176         1            84        68      5   \n",
       "4433      524       163       176         1            84        68      5   \n",
       "4434      524       163       176         1            84        68      5   \n",
       "4435      524       163       176         1            84        68      5   \n",
       "4436      524       163       176         1            99        98      5   \n",
       "4437      524       163       176         1            99        98      5   \n",
       "4438      524       163       176         1            87        74      5   \n",
       "\n",
       "      token_path  term_match  word_net  \n",
       "4416    0.570769        0.65       1.0  \n",
       "4417    0.570769        0.65       1.0  \n",
       "4418    0.570769        0.65       1.0  \n",
       "4419    0.570769        0.65       1.0  \n",
       "4420    0.570769        0.65       1.0  \n",
       "4421    0.570769        0.65       1.0  \n",
       "4422    0.570769        0.65       1.0  \n",
       "4423    0.570769        0.65       1.0  \n",
       "4424    0.570769        0.65       1.0  \n",
       "4425    0.570769        0.65       1.0  \n",
       "4426    0.570769        0.65       1.0  \n",
       "4427    0.570769        0.65       1.0  \n",
       "4428    0.570769        0.65       1.0  \n",
       "4429    0.570769        0.65       1.0  \n",
       "4430    0.570769        0.65       1.0  \n",
       "4431    0.570769        0.65       1.0  \n",
       "4432    0.570769        0.65       1.0  \n",
       "4433    0.570769        0.65       1.0  \n",
       "4434    0.570769        0.65       1.0  \n",
       "4435    0.570769        0.65       1.0  \n",
       "4436    0.570769        0.65       1.0  \n",
       "4437    0.570769        0.65       1.0  \n",
       "4438    0.570769        0.65       1.0  "
      ]
     },
     "execution_count": 18,
     "metadata": {},
     "output_type": "execute_result"
    }
   ],
   "source": [
    "(user_id, order) = problematic[5]\n",
    "respective_df = data[(data['user_id']==user_id)&(data['order']==order)]\n",
    "all_the_same = (respective_df.nunique() == 1).all()\n",
    "display(respective_df.nunique() == 1)\n",
    "respective_df"
   ]
  },
  {
   "cell_type": "markdown",
   "id": "74ce267c-e6e3-4b4c-ad40-fbe539bdbd9e",
   "metadata": {},
   "source": [
    "To conclude, we have users and question that has several DIFFERENT records.\n",
    "\n",
    "In my opinion, it is probably because the system sent too many reports before the final answer, and the required thing to do is to take the last one.\n",
    "\n",
    "That would also work for the other, equal, duplicates.\n",
    "\n",
    "But, to achieve that we also need the times...\n",
    "\n",
    "Then, if we leave the times for later use, lets also leave the sch_id_(1,2) = 0, as its the start time!\n",
    "\n",
    "So, lets start over :)"
   ]
  },
  {
   "cell_type": "markdown",
   "id": "97b3a031-07be-4971-9ec4-f1e4d4163ed5",
   "metadata": {
    "jp-MarkdownHeadingCollapsed": true,
    "tags": []
   },
   "source": [
    "## Start over"
   ]
  },
  {
   "cell_type": "markdown",
   "id": "51a736fe-cc82-41dc-88fe-00575f896ca7",
   "metadata": {
    "tags": []
   },
   "source": [
    "### set it up"
   ]
  },
  {
   "cell_type": "code",
   "execution_count": 19,
   "id": "8ef4891f-b1ff-47b8-af5c-d16543f7b3fd",
   "metadata": {},
   "outputs": [],
   "source": [
    "data = pd.merge(results, pairs, how='left', on=['exp_id', 'sch_id_1', 'sch_id_2']) # Merge results and pairs\n",
    "data = data[data['exp_id'].isin([14,15])] # Leave 14 15 exps only\n",
    "data = data[['user_id', 'exp_id', 'sch_id_1', 'sch_id_2', 'realconf', 'rec_time', 'user_sub_val', 'userconf', 'alg', 'score', 'order', 'token_path', 'term_match', 'word_net']]\n",
    "# Leave relevant columbns only \n",
    "del data['alg'], data['score'] # delete non-relevant columns\n",
    "data.loc[data['sch_id_1'] >= 215, ['sch_id_1', 'sch_id_2']] -= 94 # Adjust the sch_id indices\n",
    "data['rec_time'] = pd.to_datetime(data['rec_time'])"
   ]
  },
  {
   "cell_type": "markdown",
   "id": "c4d4db85-ea62-4a03-8233-7ee69f3299b6",
   "metadata": {
    "jp-MarkdownHeadingCollapsed": true,
    "tags": []
   },
   "source": [
    "### Is `order` has a 1:1 mapping to `(sch_id_1, sch_id_2)`? (YES)"
   ]
  },
  {
   "cell_type": "markdown",
   "id": "187602ce-1225-4655-aecb-d8603356ddff",
   "metadata": {},
   "source": [
    "If so, we will use it later on instead of the sch_id pair"
   ]
  },
  {
   "cell_type": "code",
   "execution_count": 20,
   "id": "5e34c00c-b85b-43ce-ac7a-adf298889a9d",
   "metadata": {},
   "outputs": [
    {
     "data": {
      "text/html": [
       "<div>\n",
       "<style scoped>\n",
       "    .dataframe tbody tr th:only-of-type {\n",
       "        vertical-align: middle;\n",
       "    }\n",
       "\n",
       "    .dataframe tbody tr th {\n",
       "        vertical-align: top;\n",
       "    }\n",
       "\n",
       "    .dataframe thead th {\n",
       "        text-align: right;\n",
       "    }\n",
       "</style>\n",
       "<table border=\"1\" class=\"dataframe\">\n",
       "  <thead>\n",
       "    <tr style=\"text-align: right;\">\n",
       "      <th></th>\n",
       "      <th></th>\n",
       "      <th>order</th>\n",
       "    </tr>\n",
       "    <tr>\n",
       "      <th>sch_id_1</th>\n",
       "      <th>sch_id_2</th>\n",
       "      <th></th>\n",
       "    </tr>\n",
       "  </thead>\n",
       "  <tbody>\n",
       "    <tr>\n",
       "      <th>0</th>\n",
       "      <th>0</th>\n",
       "      <td>1</td>\n",
       "    </tr>\n",
       "    <tr>\n",
       "      <th>121</th>\n",
       "      <th>175</th>\n",
       "      <td>1</td>\n",
       "    </tr>\n",
       "  </tbody>\n",
       "</table>\n",
       "</div>"
      ],
      "text/plain": [
       "                   order\n",
       "sch_id_1 sch_id_2       \n",
       "0        0             1\n",
       "121      175           1"
      ]
     },
     "metadata": {},
     "output_type": "display_data"
    },
    {
     "data": {
      "text/plain": [
       "True"
      ]
     },
     "execution_count": 20,
     "metadata": {},
     "output_type": "execute_result"
    }
   ],
   "source": [
    "t = data[['sch_id_1', 'sch_id_2', 'order']]\n",
    "grouped_t = t.groupby(['sch_id_1', 'sch_id_2']).agg(lambda x: len(x.unique()))\n",
    "display(grouped_t.head(2))\n",
    "(grouped_t['order'] == 1).all()"
   ]
  },
  {
   "cell_type": "code",
   "execution_count": 21,
   "id": "7e10341b-4123-4e82-91ab-8d1de4a1675c",
   "metadata": {},
   "outputs": [
    {
     "data": {
      "text/plain": [
       "31"
      ]
     },
     "execution_count": 21,
     "metadata": {},
     "output_type": "execute_result"
    }
   ],
   "source": [
    "len(grouped_t)"
   ]
  },
  {
   "cell_type": "markdown",
   "id": "d3fd9cb4-f274-40e7-a591-34c56f1efcd9",
   "metadata": {},
   "source": [
    "There are 31 `sch_id` pairs, and each one is assosiated to exactly 1 `order`.\n",
    "\n",
    "It remains to check the other way mapping."
   ]
  },
  {
   "cell_type": "code",
   "execution_count": 22,
   "id": "17625c4e-ef01-4d79-b547-d2b5737ecd92",
   "metadata": {},
   "outputs": [
    {
     "data": {
      "text/html": [
       "<div>\n",
       "<style scoped>\n",
       "    .dataframe tbody tr th:only-of-type {\n",
       "        vertical-align: middle;\n",
       "    }\n",
       "\n",
       "    .dataframe tbody tr th {\n",
       "        vertical-align: top;\n",
       "    }\n",
       "\n",
       "    .dataframe thead th {\n",
       "        text-align: right;\n",
       "    }\n",
       "</style>\n",
       "<table border=\"1\" class=\"dataframe\">\n",
       "  <thead>\n",
       "    <tr style=\"text-align: right;\">\n",
       "      <th></th>\n",
       "      <th></th>\n",
       "      <th>order</th>\n",
       "    </tr>\n",
       "    <tr>\n",
       "      <th>sch_id_1</th>\n",
       "      <th>sch_id_2</th>\n",
       "      <th></th>\n",
       "    </tr>\n",
       "  </thead>\n",
       "  <tbody>\n",
       "    <tr>\n",
       "      <th>0</th>\n",
       "      <th>0</th>\n",
       "      <td>0</td>\n",
       "    </tr>\n",
       "    <tr>\n",
       "      <th>121</th>\n",
       "      <th>175</th>\n",
       "      <td>8</td>\n",
       "    </tr>\n",
       "  </tbody>\n",
       "</table>\n",
       "</div>"
      ],
      "text/plain": [
       "                   order\n",
       "sch_id_1 sch_id_2       \n",
       "0        0             0\n",
       "121      175           8"
      ]
     },
     "metadata": {},
     "output_type": "display_data"
    },
    {
     "data": {
      "text/plain": [
       "31"
      ]
     },
     "execution_count": 22,
     "metadata": {},
     "output_type": "execute_result"
    }
   ],
   "source": [
    "grouped_t = t.groupby(['sch_id_1', 'sch_id_2']).agg(lambda x: x.unique()[0])\n",
    "display(grouped_t.head(2))\n",
    "grouped_t['order'].unique().size"
   ]
  },
  {
   "cell_type": "markdown",
   "id": "a8dbf363-4b33-4f12-bc26-3b73e9e17e35",
   "metadata": {},
   "source": [
    "There are 31 unique `order`s, and so each order has it unique pair, and its a 1:1 mapping."
   ]
  },
  {
   "cell_type": "markdown",
   "id": "bdcd3706-ba41-4629-83ca-7b317e93f180",
   "metadata": {
    "tags": []
   },
   "source": [
    "### Is the number of rows make sense? \n",
    "OR: WTF is happening with the amount of users?!!!!!!"
   ]
  },
  {
   "cell_type": "code",
   "execution_count": 23,
   "id": "5afe8d34-9ba7-41fb-b50a-3457c7cf40d9",
   "metadata": {},
   "outputs": [
    {
     "name": "stdout",
     "output_type": "stream",
     "text": [
      "Unique users: 342\n"
     ]
    },
    {
     "data": {
      "text/plain": [
       "10602"
      ]
     },
     "execution_count": 23,
     "metadata": {},
     "output_type": "execute_result"
    }
   ],
   "source": [
    "unique_users = data['user_id'].unique().size\n",
    "print(f\"Unique users: {unique_users}\")\n",
    "unique_users * 31"
   ]
  },
  {
   "cell_type": "markdown",
   "id": "44755554-2d9b-4004-b1ac-4524dff4959d",
   "metadata": {},
   "source": [
    "<span style=\"color:red\">Note that the number of unique users really increased because of the addition of the 0 question! What is goint on?</span>"
   ]
  },
  {
   "cell_type": "code",
   "execution_count": 24,
   "id": "18b3e30a-67eb-4a95-82ee-43cbbbb87170",
   "metadata": {},
   "outputs": [
    {
     "data": {
      "image/png": "[encoded data removed]",
      "text/plain": [
       "<Figure size 432x288 with 1 Axes>"
      ]
     },
     "metadata": {
      "needs_background": "light"
     },
     "output_type": "display_data"
    }
   ],
   "source": [
    "unique_users = data[['order', 'user_id', 'exp_id']].groupby(['order', 'exp_id']) \\\n",
    "                                                    .nunique() \\\n",
    "                                                    .reset_index() \\\n",
    "                                                    .pivot(index='order', columns='exp_id', values='user_id')\n",
    "unique_users['sum'] = unique_users[14] + unique_users[15]\n",
    "unique_users.plot()\n",
    "plt.title(\"Amount of unique users per question\")\n",
    "plt.show()"
   ]
  },
  {
   "cell_type": "markdown",
   "id": "7233b5ee-661f-4196-8c1b-d2994ecc56b0",
   "metadata": {},
   "source": [
    "The users are leaving the experiment!!! Nooooooooooooooooooooooooooooooooo!!!\n",
    "\n",
    "Let's see what happen if we stay only with the users that are there for the whole experiment (\"The loyal users\")"
   ]
  },
  {
   "cell_type": "code",
   "execution_count": 25,
   "id": "e79a9540-27e1-4465-a22f-5d3d56330db0",
   "metadata": {},
   "outputs": [
    {
     "data": {
      "text/plain": [
       "181"
      ]
     },
     "execution_count": 25,
     "metadata": {},
     "output_type": "execute_result"
    }
   ],
   "source": [
    "set_of_loyal_users = set.intersection(*[set(data[data['order']==o]['user_id'].unique()) for o in range(1,31)])\n",
    "len(set_of_loyal_users)"
   ]
  },
  {
   "cell_type": "code",
   "execution_count": 26,
   "id": "918d7c28-7e18-449f-86ff-e03b517fe7ed",
   "metadata": {},
   "outputs": [
    {
     "data": {
      "image/png": "[encoded data removed]",
      "text/plain": [
       "<Figure size 432x288 with 1 Axes>"
      ]
     },
     "metadata": {
      "needs_background": "light"
     },
     "output_type": "display_data"
    }
   ],
   "source": [
    "data[['user_id', 'exp_id']][data['user_id'].isin(set_of_loyal_users)].groupby('user_id').mean().hist()\n",
    "plt.title('loyal users across experiments')\n",
    "plt.show()"
   ]
  },
  {
   "cell_type": "markdown",
   "id": "d79cc6aa-1eec-465a-940a-453866c995a6",
   "metadata": {},
   "source": [
    "Ok, so we want to leave only the loyal users.\n",
    "\n",
    "Note that we have much fewer loyal users if we take into account question 0, which we use only for time consideration.\n",
    "\n",
    "Yet, these users have time records in the riddles table (I omitted this test).\n",
    "\n",
    "So, we would like to omit the 0-question, and take the times from the riddles table.\n",
    "\n",
    "So, lets start over (again) :|"
   ]
  },
  {
   "cell_type": "markdown",
   "id": "bcb67da1-2081-4795-a1f5-383b4f782452",
   "metadata": {
    "tags": []
   },
   "source": [
    "## Start over (again)"
   ]
  },
  {
   "cell_type": "markdown",
   "id": "ab4bf68d-0876-48f5-9708-8325708ac7a7",
   "metadata": {
    "jp-MarkdownHeadingCollapsed": true,
    "tags": []
   },
   "source": [
    "### set it up"
   ]
  },
  {
   "cell_type": "markdown",
   "id": "49376263-eeb4-4726-805c-3c46991532a6",
   "metadata": {},
   "source": [
    "Initial"
   ]
  },
  {
   "cell_type": "code",
   "execution_count": 27,
   "id": "0836a94f-6ee6-48ef-8aac-285c7cd5f734",
   "metadata": {},
   "outputs": [],
   "source": [
    "data = pd.merge(results, pairs, how='left', on=['exp_id', 'sch_id_1', 'sch_id_2']) # Merge results and pairs\n",
    "data = data[data['exp_id'].isin([14,15])] # Leave 14 15 exps only\n",
    "data = data[['user_id', 'exp_id', 'sch_id_1', 'sch_id_2', 'realconf', 'rec_time', 'user_sub_val', 'userconf', 'order', 'token_path', 'term_match', 'word_net']]\n",
    "# Leave relevant columbns only\n",
    "data = data[(data['sch_id_1']!=0)&(data['sch_id_2']!=0)] # Remove 0 sch_id\n",
    "data.loc[data['sch_id_1'] >= 215, ['sch_id_1', 'sch_id_2']] -= 94 # Adjust the sch_id indices\n",
    "data['rec_time'] = pd.to_datetime(data['rec_time'])"
   ]
  },
  {
   "cell_type": "markdown",
   "id": "0fa32686-6aab-4410-8572-181634bab95b",
   "metadata": {},
   "source": [
    "Second"
   ]
  },
  {
   "cell_type": "code",
   "execution_count": 28,
   "id": "96472b1c-e597-4946-ac5b-e6aa6cafd4a1",
   "metadata": {},
   "outputs": [],
   "source": [
    "data = data[data['user_id'].isin(set_of_loyal_users)].reset_index(drop=True)"
   ]
  },
  {
   "cell_type": "code",
   "execution_count": 29,
   "id": "10431951-9106-461b-9681-a3a605612fd7",
   "metadata": {},
   "outputs": [],
   "source": [
    "zero_times = riddles[riddles['user_id'].isin(set_of_loyal_users)][['user_id', 'time']]\n",
    "\n",
    "index = list(range(len(data), len(data)+len(set_of_loyal_users)))\n",
    "columns = data.columns\n",
    "new_df = pd.DataFrame(index=index, columns=columns)\n",
    "new_df['user_id'] = zero_times['user_id'].values\n",
    "new_df['rec_time'] = zero_times['time'].values\n",
    "new_df['sch_id_1'], new_df['sch_id_2'], new_df['order'] = 0, 0, 0\n",
    "\n",
    "user_exp = data[['user_id', 'exp_id']].groupby('user_id').mean()\n",
    "new_df['exp_id'] = pd.merge(new_df, user_exp, how='left', left_on='user_id', right_index=True)['exp_id_y'].astype(int)\n",
    "\n",
    "data = pd.concat([data, new_df]).sort_values(by=['user_id', 'order']).reset_index(drop=True)\n",
    "data['rec_time'] = pd.to_datetime(data['rec_time'])"
   ]
  },
  {
   "cell_type": "markdown",
   "id": "43e8337f-9d56-425c-a1a9-88e169942d2e",
   "metadata": {},
   "source": [
    "Final"
   ]
  },
  {
   "cell_type": "code",
   "execution_count": 30,
   "id": "ce994754-a0c4-4927-9ff6-6cfaa455e327",
   "metadata": {},
   "outputs": [
    {
     "name": "stdout",
     "output_type": "stream",
     "text": [
      "(5611, 12)\n"
     ]
    },
    {
     "data": {
      "text/html": [
       "<div>\n",
       "<style scoped>\n",
       "    .dataframe tbody tr th:only-of-type {\n",
       "        vertical-align: middle;\n",
       "    }\n",
       "\n",
       "    .dataframe tbody tr th {\n",
       "        vertical-align: top;\n",
       "    }\n",
       "\n",
       "    .dataframe thead th {\n",
       "        text-align: right;\n",
       "    }\n",
       "</style>\n",
       "<table border=\"1\" class=\"dataframe\">\n",
       "  <thead>\n",
       "    <tr style=\"text-align: right;\">\n",
       "      <th></th>\n",
       "      <th>user_id</th>\n",
       "      <th>exp_id</th>\n",
       "      <th>sch_id_1</th>\n",
       "      <th>sch_id_2</th>\n",
       "      <th>realconf</th>\n",
       "      <th>rec_time</th>\n",
       "      <th>user_sub_val</th>\n",
       "      <th>userconf</th>\n",
       "      <th>order</th>\n",
       "      <th>token_path</th>\n",
       "      <th>term_match</th>\n",
       "      <th>word_net</th>\n",
       "    </tr>\n",
       "  </thead>\n",
       "  <tbody>\n",
       "    <tr>\n",
       "      <th>0</th>\n",
       "      <td>171</td>\n",
       "      <td>14</td>\n",
       "      <td>0</td>\n",
       "      <td>0</td>\n",
       "      <td>NaN</td>\n",
       "      <td>2020-12-19 12:28:13</td>\n",
       "      <td>NaN</td>\n",
       "      <td>NaN</td>\n",
       "      <td>0</td>\n",
       "      <td>NaN</td>\n",
       "      <td>NaN</td>\n",
       "      <td>NaN</td>\n",
       "    </tr>\n",
       "    <tr>\n",
       "      <th>1</th>\n",
       "      <td>171</td>\n",
       "      <td>14</td>\n",
       "      <td>134</td>\n",
       "      <td>180</td>\n",
       "      <td>0</td>\n",
       "      <td>2020-12-19 12:28:39</td>\n",
       "      <td>67</td>\n",
       "      <td>34</td>\n",
       "      <td>1</td>\n",
       "      <td>0.484821</td>\n",
       "      <td>0.619156</td>\n",
       "      <td>1.0</td>\n",
       "    </tr>\n",
       "    <tr>\n",
       "      <th>2</th>\n",
       "      <td>171</td>\n",
       "      <td>14</td>\n",
       "      <td>134</td>\n",
       "      <td>182</td>\n",
       "      <td>0</td>\n",
       "      <td>2020-12-19 12:28:45</td>\n",
       "      <td>69</td>\n",
       "      <td>38</td>\n",
       "      <td>2</td>\n",
       "      <td>0.454945</td>\n",
       "      <td>0.578095</td>\n",
       "      <td>1.0</td>\n",
       "    </tr>\n",
       "  </tbody>\n",
       "</table>\n",
       "</div>"
      ],
      "text/plain": [
       "   user_id  exp_id  sch_id_1  sch_id_2 realconf            rec_time  \\\n",
       "0      171      14         0         0      NaN 2020-12-19 12:28:13   \n",
       "1      171      14       134       180        0 2020-12-19 12:28:39   \n",
       "2      171      14       134       182        0 2020-12-19 12:28:45   \n",
       "\n",
       "  user_sub_val userconf  order  token_path  term_match  word_net  \n",
       "0          NaN      NaN      0         NaN         NaN       NaN  \n",
       "1           67       34      1    0.484821    0.619156       1.0  \n",
       "2           69       38      2    0.454945    0.578095       1.0  "
      ]
     },
     "execution_count": 30,
     "metadata": {},
     "output_type": "execute_result"
    }
   ],
   "source": [
    "print(data.shape)\n",
    "data.head(3)"
   ]
  },
  {
   "cell_type": "markdown",
   "id": "3e863704-986d-42fc-b10a-7729a755b4a5",
   "metadata": {
    "jp-MarkdownHeadingCollapsed": true,
    "tags": []
   },
   "source": [
    "### Is `order` has a 1:1 mapping to `(sch_id_1, sch_id_2)`? (YES)"
   ]
  },
  {
   "cell_type": "markdown",
   "id": "141287f3-8362-4851-8def-828125f55106",
   "metadata": {},
   "source": [
    "If so, we will use it later on instead of the sch_id pair"
   ]
  },
  {
   "cell_type": "code",
   "execution_count": 31,
   "id": "2ae7e0cd-2f10-4762-900e-dfcbec80e125",
   "metadata": {},
   "outputs": [
    {
     "data": {
      "text/html": [
       "<div>\n",
       "<style scoped>\n",
       "    .dataframe tbody tr th:only-of-type {\n",
       "        vertical-align: middle;\n",
       "    }\n",
       "\n",
       "    .dataframe tbody tr th {\n",
       "        vertical-align: top;\n",
       "    }\n",
       "\n",
       "    .dataframe thead th {\n",
       "        text-align: right;\n",
       "    }\n",
       "</style>\n",
       "<table border=\"1\" class=\"dataframe\">\n",
       "  <thead>\n",
       "    <tr style=\"text-align: right;\">\n",
       "      <th></th>\n",
       "      <th></th>\n",
       "      <th>order</th>\n",
       "    </tr>\n",
       "    <tr>\n",
       "      <th>sch_id_1</th>\n",
       "      <th>sch_id_2</th>\n",
       "      <th></th>\n",
       "    </tr>\n",
       "  </thead>\n",
       "  <tbody>\n",
       "    <tr>\n",
       "      <th>0</th>\n",
       "      <th>0</th>\n",
       "      <td>1</td>\n",
       "    </tr>\n",
       "    <tr>\n",
       "      <th>121</th>\n",
       "      <th>175</th>\n",
       "      <td>1</td>\n",
       "    </tr>\n",
       "  </tbody>\n",
       "</table>\n",
       "</div>"
      ],
      "text/plain": [
       "                   order\n",
       "sch_id_1 sch_id_2       \n",
       "0        0             1\n",
       "121      175           1"
      ]
     },
     "metadata": {},
     "output_type": "display_data"
    },
    {
     "data": {
      "text/plain": [
       "True"
      ]
     },
     "execution_count": 31,
     "metadata": {},
     "output_type": "execute_result"
    }
   ],
   "source": [
    "t = data[['sch_id_1', 'sch_id_2', 'order']]\n",
    "grouped_t = t.groupby(['sch_id_1', 'sch_id_2']).agg(lambda x: len(x.unique()))\n",
    "display(grouped_t.head(2))\n",
    "(grouped_t['order'] == 1).all()"
   ]
  },
  {
   "cell_type": "code",
   "execution_count": 32,
   "id": "ec9d7227-264d-404f-9d29-42e53b309ec3",
   "metadata": {},
   "outputs": [
    {
     "data": {
      "text/plain": [
       "31"
      ]
     },
     "execution_count": 32,
     "metadata": {},
     "output_type": "execute_result"
    }
   ],
   "source": [
    "len(grouped_t)"
   ]
  },
  {
   "cell_type": "markdown",
   "id": "be2ccb5d-8ba8-4da3-b52b-a587ce503e3e",
   "metadata": {},
   "source": [
    "There are 31 `sch_id` pairs, and each one is assosiated to exactly 1 `order`.\n",
    "\n",
    "It remains to check the other way mapping."
   ]
  },
  {
   "cell_type": "code",
   "execution_count": 33,
   "id": "05f893f7-d552-45f3-8035-6c93577272e1",
   "metadata": {},
   "outputs": [
    {
     "data": {
      "text/html": [
       "<div>\n",
       "<style scoped>\n",
       "    .dataframe tbody tr th:only-of-type {\n",
       "        vertical-align: middle;\n",
       "    }\n",
       "\n",
       "    .dataframe tbody tr th {\n",
       "        vertical-align: top;\n",
       "    }\n",
       "\n",
       "    .dataframe thead th {\n",
       "        text-align: right;\n",
       "    }\n",
       "</style>\n",
       "<table border=\"1\" class=\"dataframe\">\n",
       "  <thead>\n",
       "    <tr style=\"text-align: right;\">\n",
       "      <th></th>\n",
       "      <th></th>\n",
       "      <th>order</th>\n",
       "    </tr>\n",
       "    <tr>\n",
       "      <th>sch_id_1</th>\n",
       "      <th>sch_id_2</th>\n",
       "      <th></th>\n",
       "    </tr>\n",
       "  </thead>\n",
       "  <tbody>\n",
       "    <tr>\n",
       "      <th>0</th>\n",
       "      <th>0</th>\n",
       "      <td>0</td>\n",
       "    </tr>\n",
       "    <tr>\n",
       "      <th>121</th>\n",
       "      <th>175</th>\n",
       "      <td>8</td>\n",
       "    </tr>\n",
       "  </tbody>\n",
       "</table>\n",
       "</div>"
      ],
      "text/plain": [
       "                   order\n",
       "sch_id_1 sch_id_2       \n",
       "0        0             0\n",
       "121      175           8"
      ]
     },
     "metadata": {},
     "output_type": "display_data"
    },
    {
     "data": {
      "text/plain": [
       "31"
      ]
     },
     "execution_count": 33,
     "metadata": {},
     "output_type": "execute_result"
    }
   ],
   "source": [
    "grouped_t = t.groupby(['sch_id_1', 'sch_id_2']).agg(lambda x: x.unique()[0])\n",
    "display(grouped_t.head(2))\n",
    "grouped_t['order'].unique().size"
   ]
  },
  {
   "cell_type": "markdown",
   "id": "f144e4db-28eb-4e48-8209-b52ff194bf74",
   "metadata": {},
   "source": [
    "There are 31 unique `order`s, and so each order has it unique pair, and its a 1:1 mapping."
   ]
  },
  {
   "cell_type": "markdown",
   "id": "5806f884-fdc2-45c1-9183-19a750118fd8",
   "metadata": {
    "jp-MarkdownHeadingCollapsed": true,
    "tags": []
   },
   "source": [
    "### WTF is happening with the amount of users?"
   ]
  },
  {
   "cell_type": "code",
   "execution_count": 34,
   "id": "e586207c-94e1-42f5-9b16-da4ff0b24077",
   "metadata": {},
   "outputs": [
    {
     "name": "stdout",
     "output_type": "stream",
     "text": [
      "Unique users: 181\n"
     ]
    },
    {
     "data": {
      "text/plain": [
       "5611"
      ]
     },
     "execution_count": 34,
     "metadata": {},
     "output_type": "execute_result"
    }
   ],
   "source": [
    "unique_users = data['user_id'].unique().size\n",
    "print(f\"Unique users: {unique_users}\")\n",
    "unique_users * 31"
   ]
  },
  {
   "cell_type": "code",
   "execution_count": 35,
   "id": "2d03b819-7094-49e0-99e3-f8fadb55ce87",
   "metadata": {},
   "outputs": [
    {
     "data": {
      "image/png": "[encoded data removed]",
      "text/plain": [
       "<Figure size 432x288 with 1 Axes>"
      ]
     },
     "metadata": {
      "needs_background": "light"
     },
     "output_type": "display_data"
    }
   ],
   "source": [
    "unique_users = data[['order', 'user_id', 'exp_id']].groupby(['order', 'exp_id']) \\\n",
    "                                                    .nunique() \\\n",
    "                                                    .reset_index() \\\n",
    "                                                    .pivot(index='order', columns='exp_id', values='user_id')\n",
    "unique_users['sum'] = unique_users[14] + unique_users[15]\n",
    "unique_users.plot()\n",
    "plt.title(\"Amount of unique users per question\")\n",
    "plt.show()"
   ]
  },
  {
   "cell_type": "markdown",
   "id": "d1c2e082-8557-4068-a131-01b88d1174b0",
   "metadata": {},
   "source": [
    "Now it's fine :)"
   ]
  },
  {
   "cell_type": "code",
   "execution_count": 36,
   "id": "a7d49adc-862a-4388-b801-b172971f60db",
   "metadata": {},
   "outputs": [
    {
     "data": {
      "image/png": "[encoded data removed]",
      "text/plain": [
       "<Figure size 432x288 with 1 Axes>"
      ]
     },
     "metadata": {
      "needs_background": "light"
     },
     "output_type": "display_data"
    }
   ],
   "source": [
    "data[['user_id', 'exp_id']][data['user_id'].isin(set_of_loyal_users)].groupby('user_id').mean().hist()\n",
    "plt.title('loyal users across experiments')\n",
    "plt.show()"
   ]
  },
  {
   "cell_type": "markdown",
   "id": "206ccf82-41c3-4b1a-9f3a-86ae78cda2e2",
   "metadata": {
    "jp-MarkdownHeadingCollapsed": true,
    "tags": []
   },
   "source": [
    "### Is the number of rows make sense?"
   ]
  },
  {
   "cell_type": "code",
   "execution_count": 37,
   "id": "752326e2-0756-464f-bd31-3b2213ac5669",
   "metadata": {},
   "outputs": [
    {
     "name": "stdout",
     "output_type": "stream",
     "text": [
      "Unique users: 181\n"
     ]
    },
    {
     "data": {
      "text/plain": [
       "5611"
      ]
     },
     "execution_count": 37,
     "metadata": {},
     "output_type": "execute_result"
    }
   ],
   "source": [
    "unique_users = data['user_id'].unique().size\n",
    "print(f\"Unique users: {unique_users}\")\n",
    "unique_users * 31"
   ]
  },
  {
   "cell_type": "code",
   "execution_count": 38,
   "id": "bf04e7b8-c005-4e62-8b02-23fa796407aa",
   "metadata": {},
   "outputs": [
    {
     "data": {
      "image/png": "[encoded data removed]",
      "text/plain": [
       "<Figure size 432x288 with 1 Axes>"
      ]
     },
     "metadata": {
      "needs_background": "light"
     },
     "output_type": "display_data"
    }
   ],
   "source": [
    "questions_counts = data['order'].value_counts().sort_index()\n",
    "plt.bar(questions_counts.index, questions_counts)\n",
    "plt.title(\"How many records for each question?\")\n",
    "plt.show()"
   ]
  },
  {
   "cell_type": "code",
   "execution_count": 39,
   "id": "42dcaecd-14eb-45b9-8114-f12812eb0787",
   "metadata": {},
   "outputs": [
    {
     "data": {
      "text/plain": [
       "0"
      ]
     },
     "execution_count": 39,
     "metadata": {},
     "output_type": "execute_result"
    }
   ],
   "source": [
    "(questions_counts > unique_users).sum()"
   ]
  },
  {
   "cell_type": "markdown",
   "id": "5c014b27-5041-489b-a396-968f056f0f21",
   "metadata": {},
   "source": [
    "It makes sense! But what happened to the duplicated problem we had before??"
   ]
  },
  {
   "cell_type": "code",
   "execution_count": 40,
   "id": "fd669046-f0ab-4d1c-a295-3fb5983cf45f",
   "metadata": {},
   "outputs": [
    {
     "data": {
      "text/plain": [
       "0"
      ]
     },
     "execution_count": 40,
     "metadata": {},
     "output_type": "execute_result"
    }
   ],
   "source": [
    "problematic_answers_counts = answers_counts[answers_counts>1]\n",
    "problematic_answers_counts = set(problematic_answers_counts.index.get_level_values(0).unique())\n",
    "len(set.intersection(problematic_answers_counts, set_of_loyal_users))"
   ]
  },
  {
   "cell_type": "markdown",
   "id": "cc401837-5769-42c1-a32c-f8912d9549e2",
   "metadata": {},
   "source": [
    "It appears to be that the intersection between the problematic users that causes the duplicates to the loyal users is empty!\n",
    "\n",
    "All of the loyal users aren't problematic!! loyal indeed!"
   ]
  },
  {
   "cell_type": "markdown",
   "id": "aeea94b0-9518-424a-83d9-3a954f9c75d9",
   "metadata": {
    "tags": []
   },
   "source": [
    "### Summary"
   ]
  },
  {
   "cell_type": "code",
   "execution_count": 41,
   "id": "f02e7235-b1b1-4194-93c2-a589ed4ef189",
   "metadata": {},
   "outputs": [
    {
     "data": {
      "text/html": [
       "<div>\n",
       "<style scoped>\n",
       "    .dataframe tbody tr th:only-of-type {\n",
       "        vertical-align: middle;\n",
       "    }\n",
       "\n",
       "    .dataframe tbody tr th {\n",
       "        vertical-align: top;\n",
       "    }\n",
       "\n",
       "    .dataframe thead th {\n",
       "        text-align: right;\n",
       "    }\n",
       "</style>\n",
       "<table border=\"1\" class=\"dataframe\">\n",
       "  <thead>\n",
       "    <tr style=\"text-align: right;\">\n",
       "      <th></th>\n",
       "      <th>user_id</th>\n",
       "      <th>exp_id</th>\n",
       "      <th>sch_id_1</th>\n",
       "      <th>sch_id_2</th>\n",
       "      <th>realconf</th>\n",
       "      <th>rec_time</th>\n",
       "      <th>user_sub_val</th>\n",
       "      <th>userconf</th>\n",
       "      <th>order</th>\n",
       "      <th>token_path</th>\n",
       "      <th>term_match</th>\n",
       "      <th>word_net</th>\n",
       "    </tr>\n",
       "  </thead>\n",
       "  <tbody>\n",
       "    <tr>\n",
       "      <th>0</th>\n",
       "      <td>171</td>\n",
       "      <td>14</td>\n",
       "      <td>0</td>\n",
       "      <td>0</td>\n",
       "      <td>NaN</td>\n",
       "      <td>2020-12-19 12:28:13</td>\n",
       "      <td>NaN</td>\n",
       "      <td>NaN</td>\n",
       "      <td>0</td>\n",
       "      <td>NaN</td>\n",
       "      <td>NaN</td>\n",
       "      <td>NaN</td>\n",
       "    </tr>\n",
       "    <tr>\n",
       "      <th>1</th>\n",
       "      <td>171</td>\n",
       "      <td>14</td>\n",
       "      <td>134</td>\n",
       "      <td>180</td>\n",
       "      <td>0</td>\n",
       "      <td>2020-12-19 12:28:39</td>\n",
       "      <td>67</td>\n",
       "      <td>34</td>\n",
       "      <td>1</td>\n",
       "      <td>0.484821</td>\n",
       "      <td>0.619156</td>\n",
       "      <td>1.000000</td>\n",
       "    </tr>\n",
       "    <tr>\n",
       "      <th>2</th>\n",
       "      <td>171</td>\n",
       "      <td>14</td>\n",
       "      <td>134</td>\n",
       "      <td>182</td>\n",
       "      <td>0</td>\n",
       "      <td>2020-12-19 12:28:45</td>\n",
       "      <td>69</td>\n",
       "      <td>38</td>\n",
       "      <td>2</td>\n",
       "      <td>0.454945</td>\n",
       "      <td>0.578095</td>\n",
       "      <td>1.000000</td>\n",
       "    </tr>\n",
       "    <tr>\n",
       "      <th>3</th>\n",
       "      <td>171</td>\n",
       "      <td>14</td>\n",
       "      <td>153</td>\n",
       "      <td>183</td>\n",
       "      <td>1</td>\n",
       "      <td>2020-12-19 12:28:54</td>\n",
       "      <td>38</td>\n",
       "      <td>24</td>\n",
       "      <td>3</td>\n",
       "      <td>0.552425</td>\n",
       "      <td>0.397624</td>\n",
       "      <td>1.000000</td>\n",
       "    </tr>\n",
       "    <tr>\n",
       "      <th>4</th>\n",
       "      <td>171</td>\n",
       "      <td>14</td>\n",
       "      <td>149</td>\n",
       "      <td>180</td>\n",
       "      <td>0</td>\n",
       "      <td>2020-12-19 12:28:57</td>\n",
       "      <td>57</td>\n",
       "      <td>14</td>\n",
       "      <td>4</td>\n",
       "      <td>0.502679</td>\n",
       "      <td>0.619156</td>\n",
       "      <td>1.000000</td>\n",
       "    </tr>\n",
       "    <tr>\n",
       "      <th>...</th>\n",
       "      <td>...</td>\n",
       "      <td>...</td>\n",
       "      <td>...</td>\n",
       "      <td>...</td>\n",
       "      <td>...</td>\n",
       "      <td>...</td>\n",
       "      <td>...</td>\n",
       "      <td>...</td>\n",
       "      <td>...</td>\n",
       "      <td>...</td>\n",
       "      <td>...</td>\n",
       "      <td>...</td>\n",
       "    </tr>\n",
       "    <tr>\n",
       "      <th>5606</th>\n",
       "      <td>711</td>\n",
       "      <td>14</td>\n",
       "      <td>164</td>\n",
       "      <td>178</td>\n",
       "      <td>1</td>\n",
       "      <td>2021-11-08 11:01:41</td>\n",
       "      <td>61</td>\n",
       "      <td>22</td>\n",
       "      <td>26</td>\n",
       "      <td>0.550549</td>\n",
       "      <td>0.493333</td>\n",
       "      <td>0.536885</td>\n",
       "    </tr>\n",
       "    <tr>\n",
       "      <th>5607</th>\n",
       "      <td>711</td>\n",
       "      <td>14</td>\n",
       "      <td>154</td>\n",
       "      <td>212</td>\n",
       "      <td>0</td>\n",
       "      <td>2021-11-08 11:01:43</td>\n",
       "      <td>89</td>\n",
       "      <td>78</td>\n",
       "      <td>27</td>\n",
       "      <td>0.294607</td>\n",
       "      <td>0.000000</td>\n",
       "      <td>0.113996</td>\n",
       "    </tr>\n",
       "    <tr>\n",
       "      <th>5608</th>\n",
       "      <td>711</td>\n",
       "      <td>14</td>\n",
       "      <td>152</td>\n",
       "      <td>182</td>\n",
       "      <td>1</td>\n",
       "      <td>2021-11-08 11:01:44</td>\n",
       "      <td>37</td>\n",
       "      <td>26</td>\n",
       "      <td>28</td>\n",
       "      <td>0.534670</td>\n",
       "      <td>0.500000</td>\n",
       "      <td>0.000000</td>\n",
       "    </tr>\n",
       "    <tr>\n",
       "      <th>5609</th>\n",
       "      <td>711</td>\n",
       "      <td>14</td>\n",
       "      <td>122</td>\n",
       "      <td>206</td>\n",
       "      <td>1</td>\n",
       "      <td>2021-11-08 11:01:46</td>\n",
       "      <td>76</td>\n",
       "      <td>52</td>\n",
       "      <td>29</td>\n",
       "      <td>0.270769</td>\n",
       "      <td>0.130476</td>\n",
       "      <td>0.072077</td>\n",
       "    </tr>\n",
       "    <tr>\n",
       "      <th>5610</th>\n",
       "      <td>711</td>\n",
       "      <td>14</td>\n",
       "      <td>127</td>\n",
       "      <td>210</td>\n",
       "      <td>1</td>\n",
       "      <td>2021-11-08 11:01:48</td>\n",
       "      <td>75</td>\n",
       "      <td>50</td>\n",
       "      <td>30</td>\n",
       "      <td>0.449700</td>\n",
       "      <td>0.499980</td>\n",
       "      <td>0.000000</td>\n",
       "    </tr>\n",
       "  </tbody>\n",
       "</table>\n",
       "<p>5611 rows × 12 columns</p>\n",
       "</div>"
      ],
      "text/plain": [
       "      user_id  exp_id  sch_id_1  sch_id_2 realconf            rec_time  \\\n",
       "0         171      14         0         0      NaN 2020-12-19 12:28:13   \n",
       "1         171      14       134       180        0 2020-12-19 12:28:39   \n",
       "2         171      14       134       182        0 2020-12-19 12:28:45   \n",
       "3         171      14       153       183        1 2020-12-19 12:28:54   \n",
       "4         171      14       149       180        0 2020-12-19 12:28:57   \n",
       "...       ...     ...       ...       ...      ...                 ...   \n",
       "5606      711      14       164       178        1 2021-11-08 11:01:41   \n",
       "5607      711      14       154       212        0 2021-11-08 11:01:43   \n",
       "5608      711      14       152       182        1 2021-11-08 11:01:44   \n",
       "5609      711      14       122       206        1 2021-11-08 11:01:46   \n",
       "5610      711      14       127       210        1 2021-11-08 11:01:48   \n",
       "\n",
       "     user_sub_val userconf  order  token_path  term_match  word_net  \n",
       "0             NaN      NaN      0         NaN         NaN       NaN  \n",
       "1              67       34      1    0.484821    0.619156  1.000000  \n",
       "2              69       38      2    0.454945    0.578095  1.000000  \n",
       "3              38       24      3    0.552425    0.397624  1.000000  \n",
       "4              57       14      4    0.502679    0.619156  1.000000  \n",
       "...           ...      ...    ...         ...         ...       ...  \n",
       "5606           61       22     26    0.550549    0.493333  0.536885  \n",
       "5607           89       78     27    0.294607    0.000000  0.113996  \n",
       "5608           37       26     28    0.534670    0.500000  0.000000  \n",
       "5609           76       52     29    0.270769    0.130476  0.072077  \n",
       "5610           75       50     30    0.449700    0.499980  0.000000  \n",
       "\n",
       "[5611 rows x 12 columns]"
      ]
     },
     "execution_count": 41,
     "metadata": {},
     "output_type": "execute_result"
    }
   ],
   "source": [
    "data"
   ]
  },
  {
   "cell_type": "code",
   "execution_count": 42,
   "id": "0ff550b4-c565-41f1-b338-dc52439776ee",
   "metadata": {},
   "outputs": [
    {
     "name": "stdout",
     "output_type": "stream",
     "text": [
      "All good\n"
     ]
    }
   ],
   "source": [
    "assert len(data) == 31 * data['user_id'].nunique()\n",
    "print(\"All good\")"
   ]
  },
  {
   "cell_type": "code",
   "execution_count": 43,
   "id": "8eb8ce81-8e8f-41d1-9578-6486c50cfb69",
   "metadata": {},
   "outputs": [
    {
     "data": {
      "image/png": "[encoded data removed]",
      "text/plain": [
       "<Figure size 1440x360 with 3 Axes>"
      ]
     },
     "metadata": {
      "needs_background": "light"
     },
     "output_type": "display_data"
    }
   ],
   "source": [
    "fig, axes = plt.subplots(1, 3, figsize=(20,5))\n",
    "ax = axes[0]\n",
    "\n",
    "unique_users = data[['order', 'user_id', 'exp_id']].groupby(['order', 'exp_id']) \\\n",
    "                                                    .nunique() \\\n",
    "                                                    .reset_index() \\\n",
    "                                                    .pivot(index='order', columns='exp_id', values='user_id')\n",
    "unique_users['sum'] = unique_users[14] + unique_users[15]\n",
    "unique_users.plot(ax=ax)\n",
    "ax.set_title(\"Amount of unique users per question\")\n",
    "\n",
    "ax = axes[1]\n",
    "questions_counts = data['order'].value_counts().sort_index()\n",
    "ax.bar(questions_counts.index, questions_counts)\n",
    "ax.set_title(\"How many records for each question?\")\n",
    "\n",
    "ax = axes[2]\n",
    "data[['user_id', 'exp_id']][data['user_id'].isin(set_of_loyal_users)].groupby('user_id').mean().hist(ax=ax)\n",
    "ax.set_title('Loyal users across experiments')\n",
    "\n",
    "plt.suptitle(\"Data confirmation statistics\")\n",
    "plt.show()"
   ]
  },
  {
   "cell_type": "code",
   "execution_count": 67,
   "id": "381b9486-34dd-4e8e-b696-493cd6c24cfb",
   "metadata": {},
   "outputs": [
    {
     "data": {
      "text/html": [
       "<div>\n",
       "<style scoped>\n",
       "    .dataframe tbody tr th:only-of-type {\n",
       "        vertical-align: middle;\n",
       "    }\n",
       "\n",
       "    .dataframe tbody tr th {\n",
       "        vertical-align: top;\n",
       "    }\n",
       "\n",
       "    .dataframe thead th {\n",
       "        text-align: right;\n",
       "    }\n",
       "</style>\n",
       "<table border=\"1\" class=\"dataframe\">\n",
       "  <thead>\n",
       "    <tr style=\"text-align: right;\">\n",
       "      <th></th>\n",
       "      <th>user_id</th>\n",
       "      <th>index</th>\n",
       "      <th>time</th>\n",
       "      <th>token_path</th>\n",
       "      <th>term_match</th>\n",
       "      <th>word_net</th>\n",
       "      <th>T</th>\n",
       "      <th>Y</th>\n",
       "    </tr>\n",
       "  </thead>\n",
       "  <tbody>\n",
       "    <tr>\n",
       "      <th>0</th>\n",
       "      <td>171</td>\n",
       "      <td>0</td>\n",
       "      <td>NaN</td>\n",
       "      <td>NaN</td>\n",
       "      <td>NaN</td>\n",
       "      <td>NaN</td>\n",
       "      <td>0</td>\n",
       "      <td>NaN</td>\n",
       "    </tr>\n",
       "    <tr>\n",
       "      <th>1</th>\n",
       "      <td>171</td>\n",
       "      <td>1</td>\n",
       "      <td>26.0</td>\n",
       "      <td>0.484821</td>\n",
       "      <td>0.619156</td>\n",
       "      <td>1.0</td>\n",
       "      <td>0</td>\n",
       "      <td>34</td>\n",
       "    </tr>\n",
       "    <tr>\n",
       "      <th>2</th>\n",
       "      <td>171</td>\n",
       "      <td>2</td>\n",
       "      <td>6.0</td>\n",
       "      <td>0.454945</td>\n",
       "      <td>0.578095</td>\n",
       "      <td>1.0</td>\n",
       "      <td>0</td>\n",
       "      <td>38</td>\n",
       "    </tr>\n",
       "  </tbody>\n",
       "</table>\n",
       "</div>"
      ],
      "text/plain": [
       "   user_id  index  time  token_path  term_match  word_net  T    Y\n",
       "0      171      0   NaN         NaN         NaN       NaN  0  NaN\n",
       "1      171      1  26.0    0.484821    0.619156       1.0  0   34\n",
       "2      171      2   6.0    0.454945    0.578095       1.0  0   38"
      ]
     },
     "execution_count": 67,
     "metadata": {},
     "output_type": "execute_result"
    }
   ],
   "source": [
    "t_data = data.drop(columns=['exp_id', 'sch_id_1', 'sch_id_2', 'user_sub_val'])\n",
    "t_data['order-1'] = t_data['order'] - 1\n",
    "t_data = pd.merge(left=t_data, right=t_data[['user_id', 'order', 'rec_time', 'userconf']],\n",
    "         left_on=['user_id', 'order-1'], right_on=['user_id', 'order'],\n",
    "         how='left')\n",
    "t_data = t_data.rename(columns={'rec_time_x':'rec_time', 'userconf_x':'Y', 'order_x':'index', 'rec_time_y':'p_rec_time', 'userconf_y':'p_userconf'})\n",
    "t_data = t_data.drop(columns=['order-1', 'order_y'])\n",
    "t_data['time'] = (t_data['rec_time'] - t_data['p_rec_time']).dt.total_seconds()\n",
    "t_data['T'] = (t_data['p_userconf'] == 100).astype(int)\n",
    "# t_data = t_data[['user_id', 'index', 'realconf', 'time', 'token_path','term_match','word_net','T','Y']]\n",
    "t_data = t_data[['user_id', 'index', 'time', 'token_path','term_match','word_net','T','Y']]\n",
    "t_data.head(3)"
   ]
  },
  {
   "cell_type": "code",
   "execution_count": 68,
   "id": "b0238126-df8c-4682-9ddc-f9bd3f90bf80",
   "metadata": {},
   "outputs": [
    {
     "data": {
      "text/html": [
       "<div>\n",
       "<style scoped>\n",
       "    .dataframe tbody tr th:only-of-type {\n",
       "        vertical-align: middle;\n",
       "    }\n",
       "\n",
       "    .dataframe tbody tr th {\n",
       "        vertical-align: top;\n",
       "    }\n",
       "\n",
       "    .dataframe thead th {\n",
       "        text-align: right;\n",
       "    }\n",
       "</style>\n",
       "<table border=\"1\" class=\"dataframe\">\n",
       "  <thead>\n",
       "    <tr style=\"text-align: right;\">\n",
       "      <th></th>\n",
       "      <th>confidence</th>\n",
       "    </tr>\n",
       "    <tr>\n",
       "      <th>user_id</th>\n",
       "      <th></th>\n",
       "    </tr>\n",
       "  </thead>\n",
       "  <tbody>\n",
       "    <tr>\n",
       "      <th>171</th>\n",
       "      <td>33.6</td>\n",
       "    </tr>\n",
       "    <tr>\n",
       "      <th>174</th>\n",
       "      <td>45.4</td>\n",
       "    </tr>\n",
       "  </tbody>\n",
       "</table>\n",
       "</div>"
      ],
      "text/plain": [
       "         confidence\n",
       "user_id            \n",
       "171            33.6\n",
       "174            45.4"
      ]
     },
     "execution_count": 68,
     "metadata": {},
     "output_type": "execute_result"
    }
   ],
   "source": [
    "mean_confidences = t_data[t_data['index']<=10][['user_id', 'Y']].groupby('user_id').mean()\n",
    "mean_confidences = mean_confidences.rename(columns={'Y':'confidence'})\n",
    "mean_confidences.head(2)"
   ]
  },
  {
   "cell_type": "code",
   "execution_count": 69,
   "id": "cf6bdee9-1546-49a1-95ed-9c0a9b512521",
   "metadata": {},
   "outputs": [
    {
     "data": {
      "text/html": [
       "<div>\n",
       "<style scoped>\n",
       "    .dataframe tbody tr th:only-of-type {\n",
       "        vertical-align: middle;\n",
       "    }\n",
       "\n",
       "    .dataframe tbody tr th {\n",
       "        vertical-align: top;\n",
       "    }\n",
       "\n",
       "    .dataframe thead th {\n",
       "        text-align: right;\n",
       "    }\n",
       "</style>\n",
       "<table border=\"1\" class=\"dataframe\">\n",
       "  <thead>\n",
       "    <tr style=\"text-align: right;\">\n",
       "      <th></th>\n",
       "      <th>confidence</th>\n",
       "      <th>index</th>\n",
       "      <th>time</th>\n",
       "      <th>token_path</th>\n",
       "      <th>term_match</th>\n",
       "      <th>word_net</th>\n",
       "      <th>T</th>\n",
       "      <th>Y</th>\n",
       "    </tr>\n",
       "  </thead>\n",
       "  <tbody>\n",
       "    <tr>\n",
       "      <th>0</th>\n",
       "      <td>33.6</td>\n",
       "      <td>11</td>\n",
       "      <td>4.0</td>\n",
       "      <td>0.614881</td>\n",
       "      <td>1.000000</td>\n",
       "      <td>1.000000</td>\n",
       "      <td>0</td>\n",
       "      <td>18</td>\n",
       "    </tr>\n",
       "    <tr>\n",
       "      <th>1</th>\n",
       "      <td>33.6</td>\n",
       "      <td>12</td>\n",
       "      <td>3.0</td>\n",
       "      <td>0.430476</td>\n",
       "      <td>0.427287</td>\n",
       "      <td>1.000000</td>\n",
       "      <td>0</td>\n",
       "      <td>12</td>\n",
       "    </tr>\n",
       "    <tr>\n",
       "      <th>2</th>\n",
       "      <td>33.6</td>\n",
       "      <td>13</td>\n",
       "      <td>4.0</td>\n",
       "      <td>0.405652</td>\n",
       "      <td>0.672727</td>\n",
       "      <td>0.536469</td>\n",
       "      <td>0</td>\n",
       "      <td>10</td>\n",
       "    </tr>\n",
       "    <tr>\n",
       "      <th>3</th>\n",
       "      <td>33.6</td>\n",
       "      <td>14</td>\n",
       "      <td>1.0</td>\n",
       "      <td>0.707143</td>\n",
       "      <td>0.512222</td>\n",
       "      <td>0.533026</td>\n",
       "      <td>0</td>\n",
       "      <td>14</td>\n",
       "    </tr>\n",
       "    <tr>\n",
       "      <th>4</th>\n",
       "      <td>33.6</td>\n",
       "      <td>15</td>\n",
       "      <td>2.0</td>\n",
       "      <td>0.388095</td>\n",
       "      <td>0.387363</td>\n",
       "      <td>1.000000</td>\n",
       "      <td>0</td>\n",
       "      <td>20</td>\n",
       "    </tr>\n",
       "    <tr>\n",
       "      <th>...</th>\n",
       "      <td>...</td>\n",
       "      <td>...</td>\n",
       "      <td>...</td>\n",
       "      <td>...</td>\n",
       "      <td>...</td>\n",
       "      <td>...</td>\n",
       "      <td>...</td>\n",
       "      <td>...</td>\n",
       "    </tr>\n",
       "    <tr>\n",
       "      <th>3615</th>\n",
       "      <td>47.2</td>\n",
       "      <td>26</td>\n",
       "      <td>1.0</td>\n",
       "      <td>0.550549</td>\n",
       "      <td>0.493333</td>\n",
       "      <td>0.536885</td>\n",
       "      <td>0</td>\n",
       "      <td>22</td>\n",
       "    </tr>\n",
       "    <tr>\n",
       "      <th>3616</th>\n",
       "      <td>47.2</td>\n",
       "      <td>27</td>\n",
       "      <td>2.0</td>\n",
       "      <td>0.294607</td>\n",
       "      <td>0.000000</td>\n",
       "      <td>0.113996</td>\n",
       "      <td>0</td>\n",
       "      <td>78</td>\n",
       "    </tr>\n",
       "    <tr>\n",
       "      <th>3617</th>\n",
       "      <td>47.2</td>\n",
       "      <td>28</td>\n",
       "      <td>1.0</td>\n",
       "      <td>0.534670</td>\n",
       "      <td>0.500000</td>\n",
       "      <td>0.000000</td>\n",
       "      <td>0</td>\n",
       "      <td>26</td>\n",
       "    </tr>\n",
       "    <tr>\n",
       "      <th>3618</th>\n",
       "      <td>47.2</td>\n",
       "      <td>29</td>\n",
       "      <td>2.0</td>\n",
       "      <td>0.270769</td>\n",
       "      <td>0.130476</td>\n",
       "      <td>0.072077</td>\n",
       "      <td>0</td>\n",
       "      <td>52</td>\n",
       "    </tr>\n",
       "    <tr>\n",
       "      <th>3619</th>\n",
       "      <td>47.2</td>\n",
       "      <td>30</td>\n",
       "      <td>2.0</td>\n",
       "      <td>0.449700</td>\n",
       "      <td>0.499980</td>\n",
       "      <td>0.000000</td>\n",
       "      <td>0</td>\n",
       "      <td>50</td>\n",
       "    </tr>\n",
       "  </tbody>\n",
       "</table>\n",
       "<p>3620 rows × 8 columns</p>\n",
       "</div>"
      ],
      "text/plain": [
       "      confidence  index  time  token_path  term_match  word_net  T   Y\n",
       "0           33.6     11   4.0    0.614881    1.000000  1.000000  0  18\n",
       "1           33.6     12   3.0    0.430476    0.427287  1.000000  0  12\n",
       "2           33.6     13   4.0    0.405652    0.672727  0.536469  0  10\n",
       "3           33.6     14   1.0    0.707143    0.512222  0.533026  0  14\n",
       "4           33.6     15   2.0    0.388095    0.387363  1.000000  0  20\n",
       "...          ...    ...   ...         ...         ...       ... ..  ..\n",
       "3615        47.2     26   1.0    0.550549    0.493333  0.536885  0  22\n",
       "3616        47.2     27   2.0    0.294607    0.000000  0.113996  0  78\n",
       "3617        47.2     28   1.0    0.534670    0.500000  0.000000  0  26\n",
       "3618        47.2     29   2.0    0.270769    0.130476  0.072077  0  52\n",
       "3619        47.2     30   2.0    0.449700    0.499980  0.000000  0  50\n",
       "\n",
       "[3620 rows x 8 columns]"
      ]
     },
     "execution_count": 69,
     "metadata": {},
     "output_type": "execute_result"
    }
   ],
   "source": [
    "t_data1 = pd.merge(left=t_data, right=mean_confidences, left_on='user_id', right_index=True, how='left')\n",
    "t_data1 = t_data1[['confidence'] + list(t_data1.columns[1:-1])]\n",
    "t_data1 = t_data1[t_data1['index']>10]\n",
    "t_data1 = t_data1.reset_index(drop=True)\n",
    "t_data1"
   ]
  },
  {
   "cell_type": "code",
   "execution_count": 70,
   "id": "f61a1629-7f69-4c3f-b888-d1a7a89378cc",
   "metadata": {},
   "outputs": [],
   "source": [
    "save = True\n",
    "if save:\n",
    "    pkl.dump(t_data1, open(\"data/data.pkl\", \"wb\"))"
   ]
  },
  {
   "cell_type": "markdown",
   "id": "a0c5c558-9df1-4a4e-a17a-2fa0a8834e87",
   "metadata": {
    "tags": []
   },
   "source": [
    "## Users"
   ]
  },
  {
   "cell_type": "code",
   "execution_count": 48,
   "id": "480d4d3d-be71-4b3a-86da-e1c54c84ee2d",
   "metadata": {},
   "outputs": [
    {
     "data": {
      "text/html": [
       "<div>\n",
       "<style scoped>\n",
       "    .dataframe tbody tr th:only-of-type {\n",
       "        vertical-align: middle;\n",
       "    }\n",
       "\n",
       "    .dataframe tbody tr th {\n",
       "        vertical-align: top;\n",
       "    }\n",
       "\n",
       "    .dataframe thead th {\n",
       "        text-align: right;\n",
       "    }\n",
       "</style>\n",
       "<table border=\"1\" class=\"dataframe\">\n",
       "  <thead>\n",
       "    <tr style=\"text-align: right;\">\n",
       "      <th></th>\n",
       "      <th>session_id</th>\n",
       "      <th>participant_id</th>\n",
       "      <th>status</th>\n",
       "      <th>started_datetime</th>\n",
       "      <th>completed_date_time</th>\n",
       "      <th>time_taken</th>\n",
       "      <th>age</th>\n",
       "      <th>num_approvals</th>\n",
       "      <th>num_rejections</th>\n",
       "      <th>prolific_score</th>\n",
       "      <th>reviewed_at_datetime</th>\n",
       "      <th>entered_code</th>\n",
       "      <th>Country of Birth</th>\n",
       "      <th>Current Country of Residence</th>\n",
       "      <th>Employment Status</th>\n",
       "      <th>First Language</th>\n",
       "      <th>Nationality</th>\n",
       "      <th>Sex</th>\n",
       "      <th>Student Status</th>\n",
       "    </tr>\n",
       "  </thead>\n",
       "  <tbody>\n",
       "    <tr>\n",
       "      <th>73</th>\n",
       "      <td>609c01624fdf7f996f1637ca</td>\n",
       "      <td>5ec37264194de71cb7b82637</td>\n",
       "      <td>APPROVED</td>\n",
       "      <td>25:06.4</td>\n",
       "      <td>32:42.4</td>\n",
       "      <td>456.088</td>\n",
       "      <td>19.0</td>\n",
       "      <td>299</td>\n",
       "      <td>0</td>\n",
       "      <td>100</td>\n",
       "      <td>16:24.7</td>\n",
       "      <td>20E7C955</td>\n",
       "      <td>Canada</td>\n",
       "      <td>Canada</td>\n",
       "      <td>Part-Time</td>\n",
       "      <td>English</td>\n",
       "      <td>China</td>\n",
       "      <td>Female</td>\n",
       "      <td>Yes</td>\n",
       "    </tr>\n",
       "    <tr>\n",
       "      <th>99</th>\n",
       "      <td>609c142a645068ccd7b89beb</td>\n",
       "      <td>60705ec072fce615131f89aa</td>\n",
       "      <td>APPROVED</td>\n",
       "      <td>45:20.2</td>\n",
       "      <td>57:54.8</td>\n",
       "      <td>754.593</td>\n",
       "      <td>40.0</td>\n",
       "      <td>82</td>\n",
       "      <td>2</td>\n",
       "      <td>99</td>\n",
       "      <td>16:57.2</td>\n",
       "      <td>20E7C955</td>\n",
       "      <td>United Kingdom</td>\n",
       "      <td>United Kingdom</td>\n",
       "      <td>Full-Time</td>\n",
       "      <td>English</td>\n",
       "      <td>United Kingdom</td>\n",
       "      <td>Male</td>\n",
       "      <td>No</td>\n",
       "    </tr>\n",
       "    <tr>\n",
       "      <th>290</th>\n",
       "      <td>60916705904bab4afb4589d9</td>\n",
       "      <td>5ec37264194de71cb7b82637</td>\n",
       "      <td>RETURNED</td>\n",
       "      <td>23:49.1</td>\n",
       "      <td>NaN</td>\n",
       "      <td>4379248.687</td>\n",
       "      <td>19.0</td>\n",
       "      <td>299</td>\n",
       "      <td>0</td>\n",
       "      <td>100</td>\n",
       "      <td>NaN</td>\n",
       "      <td>NaN</td>\n",
       "      <td>CONSENT REVOKED</td>\n",
       "      <td>CONSENT REVOKED</td>\n",
       "      <td>CONSENT REVOKED</td>\n",
       "      <td>CONSENT REVOKED</td>\n",
       "      <td>CONSENT REVOKED</td>\n",
       "      <td>CONSENT REVOKED</td>\n",
       "      <td>CONSENT REVOKED</td>\n",
       "    </tr>\n",
       "    <tr>\n",
       "      <th>483</th>\n",
       "      <td>6091760d3be5b7af075a90b1</td>\n",
       "      <td>60705ec072fce615131f89aa</td>\n",
       "      <td>RETURNED</td>\n",
       "      <td>27:59.4</td>\n",
       "      <td>NaN</td>\n",
       "      <td>4375401.715</td>\n",
       "      <td>40.0</td>\n",
       "      <td>82</td>\n",
       "      <td>2</td>\n",
       "      <td>99</td>\n",
       "      <td>NaN</td>\n",
       "      <td>NaN</td>\n",
       "      <td>CONSENT REVOKED</td>\n",
       "      <td>CONSENT REVOKED</td>\n",
       "      <td>CONSENT REVOKED</td>\n",
       "      <td>CONSENT REVOKED</td>\n",
       "      <td>CONSENT REVOKED</td>\n",
       "      <td>CONSENT REVOKED</td>\n",
       "      <td>CONSENT REVOKED</td>\n",
       "    </tr>\n",
       "  </tbody>\n",
       "</table>\n",
       "</div>"
      ],
      "text/plain": [
       "                   session_id            participant_id    status  \\\n",
       "73   609c01624fdf7f996f1637ca  5ec37264194de71cb7b82637  APPROVED   \n",
       "99   609c142a645068ccd7b89beb  60705ec072fce615131f89aa  APPROVED   \n",
       "290  60916705904bab4afb4589d9  5ec37264194de71cb7b82637  RETURNED   \n",
       "483  6091760d3be5b7af075a90b1  60705ec072fce615131f89aa  RETURNED   \n",
       "\n",
       "    started_datetime completed_date_time   time_taken   age  num_approvals  \\\n",
       "73           25:06.4             32:42.4      456.088  19.0            299   \n",
       "99           45:20.2             57:54.8      754.593  40.0             82   \n",
       "290          23:49.1                 NaN  4379248.687  19.0            299   \n",
       "483          27:59.4                 NaN  4375401.715  40.0             82   \n",
       "\n",
       "     num_rejections  prolific_score reviewed_at_datetime entered_code  \\\n",
       "73                0             100              16:24.7     20E7C955   \n",
       "99                2              99              16:57.2     20E7C955   \n",
       "290               0             100                  NaN          NaN   \n",
       "483               2              99                  NaN          NaN   \n",
       "\n",
       "    Country of Birth Current Country of Residence Employment Status  \\\n",
       "73            Canada                       Canada         Part-Time   \n",
       "99    United Kingdom               United Kingdom         Full-Time   \n",
       "290  CONSENT REVOKED              CONSENT REVOKED   CONSENT REVOKED   \n",
       "483  CONSENT REVOKED              CONSENT REVOKED   CONSENT REVOKED   \n",
       "\n",
       "      First Language      Nationality              Sex   Student Status  \n",
       "73           English            China           Female              Yes  \n",
       "99           English   United Kingdom             Male               No  \n",
       "290  CONSENT REVOKED  CONSENT REVOKED  CONSENT REVOKED  CONSENT REVOKED  \n",
       "483  CONSENT REVOKED  CONSENT REVOKED  CONSENT REVOKED  CONSENT REVOKED  "
      ]
     },
     "metadata": {},
     "output_type": "display_data"
    }
   ],
   "source": [
    "users = icm_data['exp_users']\n",
    "loyal_users = users[users.index.isin(set_of_loyal_users)]\n",
    "loyal_users = loyal_users.reset_index(names='user_id')\n",
    "\n",
    "prolific_data = pd.read_csv(\"data/prolific_export_sm.csv\")\n",
    "t = prolific_data.groupby('participant_id').size()\n",
    "display(prolific_data[prolific_data['participant_id'].isin(t[t!=1].index)])\n",
    "\n",
    "prolific_data.drop([290, 483], axis=0, inplace=True)"
   ]
  },
  {
   "cell_type": "code",
   "execution_count": 49,
   "id": "1dca10fb-fe3b-4e39-8a8d-bf61a9df9ef9",
   "metadata": {},
   "outputs": [
    {
     "data": {
      "text/html": [
       "<div>\n",
       "<style scoped>\n",
       "    .dataframe tbody tr th:only-of-type {\n",
       "        vertical-align: middle;\n",
       "    }\n",
       "\n",
       "    .dataframe tbody tr th {\n",
       "        vertical-align: top;\n",
       "    }\n",
       "\n",
       "    .dataframe thead th {\n",
       "        text-align: right;\n",
       "    }\n",
       "</style>\n",
       "<table border=\"1\" class=\"dataframe\">\n",
       "  <thead>\n",
       "    <tr style=\"text-align: right;\">\n",
       "      <th></th>\n",
       "      <th>user_id</th>\n",
       "      <th>u_nickname</th>\n",
       "      <th>email</th>\n",
       "      <th>u_country</th>\n",
       "      <th>education</th>\n",
       "      <th>occupation</th>\n",
       "      <th>english_level</th>\n",
       "      <th>gender</th>\n",
       "      <th>u_exp_reason</th>\n",
       "      <th>u_end_comments</th>\n",
       "      <th>...</th>\n",
       "      <th>num_approvals</th>\n",
       "      <th>num_rejections</th>\n",
       "      <th>prolific_score</th>\n",
       "      <th>Country of Birth</th>\n",
       "      <th>Current Country of Residence</th>\n",
       "      <th>Employment Status</th>\n",
       "      <th>First Language</th>\n",
       "      <th>Nationality</th>\n",
       "      <th>Sex</th>\n",
       "      <th>Student Status</th>\n",
       "    </tr>\n",
       "  </thead>\n",
       "  <tbody>\n",
       "    <tr>\n",
       "      <th>0</th>\n",
       "      <td>171</td>\n",
       "      <td>NaN</td>\n",
       "      <td>NaN</td>\n",
       "      <td>United Kingdom</td>\n",
       "      <td>Bachelors degree</td>\n",
       "      <td>Employed</td>\n",
       "      <td>Native</td>\n",
       "      <td>Male</td>\n",
       "      <td>NaN</td>\n",
       "      <td>NaN</td>\n",
       "      <td>...</td>\n",
       "      <td>101.0</td>\n",
       "      <td>1.0</td>\n",
       "      <td>100.0</td>\n",
       "      <td>United Kingdom</td>\n",
       "      <td>United Kingdom</td>\n",
       "      <td>DATA EXPIRED</td>\n",
       "      <td>English</td>\n",
       "      <td>United Kingdom</td>\n",
       "      <td>Male</td>\n",
       "      <td>DATA EXPIRED</td>\n",
       "    </tr>\n",
       "    <tr>\n",
       "      <th>1</th>\n",
       "      <td>174</td>\n",
       "      <td>Robin</td>\n",
       "      <td>NaN</td>\n",
       "      <td>South Africa</td>\n",
       "      <td>Bachelors degree</td>\n",
       "      <td>Studying</td>\n",
       "      <td>Native</td>\n",
       "      <td>Male</td>\n",
       "      <td>NaN</td>\n",
       "      <td>NaN</td>\n",
       "      <td>...</td>\n",
       "      <td>34.0</td>\n",
       "      <td>0.0</td>\n",
       "      <td>100.0</td>\n",
       "      <td>South Africa</td>\n",
       "      <td>South Africa</td>\n",
       "      <td>DATA EXPIRED</td>\n",
       "      <td>English</td>\n",
       "      <td>South Africa</td>\n",
       "      <td>Male</td>\n",
       "      <td>DATA EXPIRED</td>\n",
       "    </tr>\n",
       "    <tr>\n",
       "      <th>2</th>\n",
       "      <td>178</td>\n",
       "      <td>Merry</td>\n",
       "      <td>NaN</td>\n",
       "      <td>United Kingdom</td>\n",
       "      <td>Masters degree</td>\n",
       "      <td>Part-time</td>\n",
       "      <td>Native</td>\n",
       "      <td>NaN</td>\n",
       "      <td>Interest</td>\n",
       "      <td>NaN</td>\n",
       "      <td>...</td>\n",
       "      <td>552.0</td>\n",
       "      <td>1.0</td>\n",
       "      <td>100.0</td>\n",
       "      <td>United Kingdom</td>\n",
       "      <td>United Kingdom</td>\n",
       "      <td>Part-Time</td>\n",
       "      <td>English</td>\n",
       "      <td>United Kingdom</td>\n",
       "      <td>Female</td>\n",
       "      <td>No</td>\n",
       "    </tr>\n",
       "    <tr>\n",
       "      <th>3</th>\n",
       "      <td>179</td>\n",
       "      <td>Shazzy</td>\n",
       "      <td>NaN</td>\n",
       "      <td>United Kingdom</td>\n",
       "      <td>Bachelors degree</td>\n",
       "      <td>Self-employed Or Freelance</td>\n",
       "      <td>Native</td>\n",
       "      <td>Female</td>\n",
       "      <td>NaN</td>\n",
       "      <td>NaN</td>\n",
       "      <td>...</td>\n",
       "      <td>104.0</td>\n",
       "      <td>1.0</td>\n",
       "      <td>100.0</td>\n",
       "      <td>China</td>\n",
       "      <td>United Kingdom</td>\n",
       "      <td>DATA EXPIRED</td>\n",
       "      <td>English</td>\n",
       "      <td>United Kingdom</td>\n",
       "      <td>Female</td>\n",
       "      <td>Yes</td>\n",
       "    </tr>\n",
       "    <tr>\n",
       "      <th>4</th>\n",
       "      <td>183</td>\n",
       "      <td>NaN</td>\n",
       "      <td>NaN</td>\n",
       "      <td>United States</td>\n",
       "      <td>Associate degree</td>\n",
       "      <td>Unemployed-Looking for work</td>\n",
       "      <td>Native</td>\n",
       "      <td>Male</td>\n",
       "      <td>NaN</td>\n",
       "      <td>NaN</td>\n",
       "      <td>...</td>\n",
       "      <td>67.0</td>\n",
       "      <td>1.0</td>\n",
       "      <td>100.0</td>\n",
       "      <td>United States</td>\n",
       "      <td>United States</td>\n",
       "      <td>DATA EXPIRED</td>\n",
       "      <td>English</td>\n",
       "      <td>United States</td>\n",
       "      <td>Male</td>\n",
       "      <td>DATA EXPIRED</td>\n",
       "    </tr>\n",
       "  </tbody>\n",
       "</table>\n",
       "<p>5 rows × 22 columns</p>\n",
       "</div>"
      ],
      "text/plain": [
       "   user_id u_nickname email       u_country         education  \\\n",
       "0      171        NaN   NaN  United Kingdom  Bachelors degree   \n",
       "1      174      Robin   NaN    South Africa  Bachelors degree   \n",
       "2      178      Merry   NaN  United Kingdom    Masters degree   \n",
       "3      179     Shazzy   NaN  United Kingdom  Bachelors degree   \n",
       "4      183        NaN   NaN   United States  Associate degree   \n",
       "\n",
       "                    occupation english_level  gender u_exp_reason  \\\n",
       "0                     Employed        Native    Male          NaN   \n",
       "1                     Studying        Native    Male          NaN   \n",
       "2                    Part-time        Native     NaN     Interest   \n",
       "3   Self-employed Or Freelance        Native  Female          NaN   \n",
       "4  Unemployed-Looking for work        Native    Male          NaN   \n",
       "\n",
       "  u_end_comments  ... num_approvals num_rejections  prolific_score  \\\n",
       "0            NaN  ...         101.0            1.0           100.0   \n",
       "1            NaN  ...          34.0            0.0           100.0   \n",
       "2            NaN  ...         552.0            1.0           100.0   \n",
       "3            NaN  ...         104.0            1.0           100.0   \n",
       "4            NaN  ...          67.0            1.0           100.0   \n",
       "\n",
       "   Country of Birth  Current Country of Residence Employment Status  \\\n",
       "0    United Kingdom                United Kingdom      DATA EXPIRED   \n",
       "1      South Africa                  South Africa      DATA EXPIRED   \n",
       "2    United Kingdom                United Kingdom         Part-Time   \n",
       "3             China                United Kingdom      DATA EXPIRED   \n",
       "4     United States                 United States      DATA EXPIRED   \n",
       "\n",
       "  First Language     Nationality     Sex Student Status  \n",
       "0        English  United Kingdom    Male   DATA EXPIRED  \n",
       "1        English    South Africa    Male   DATA EXPIRED  \n",
       "2        English  United Kingdom  Female             No  \n",
       "3        English  United Kingdom  Female            Yes  \n",
       "4        English   United States    Male   DATA EXPIRED  \n",
       "\n",
       "[5 rows x 22 columns]"
      ]
     },
     "execution_count": 49,
     "metadata": {},
     "output_type": "execute_result"
    }
   ],
   "source": [
    "merged = pd.merge(loyal_users, prolific_data, how='left', left_on='prolificID', right_on='participant_id')\n",
    "merged.drop(['age_x', 'prolificID', 'session_id', 'participant_id',\n",
    "             'started_datetime', 'completed_date_time', 'time_taken',\n",
    "             'reviewed_at_datetime', 'entered_code'], axis=1, inplace=True)\n",
    "merged.rename(columns={\"age_y\":\"age\"}, inplace=True)\n",
    "\n",
    "users_15 = user_exp[user_exp['exp_id'] == 15].index\n",
    "merged.loc[merged['user_id'].isin(users_15), 'age'] = users.loc[users_15]['age'].values\n",
    "\n",
    "merged.head(5)"
   ]
  },
  {
   "cell_type": "code",
   "execution_count": 50,
   "id": "4bf5b5f6-5b9d-4c55-97ce-319ccaa7f556",
   "metadata": {},
   "outputs": [],
   "source": [
    "save = True\n",
    "if save:\n",
    "    pkl.dump(merged, open(\"data/users_data.pkl\", \"wb\"))"
   ]
  }
 ],
 "metadata": {
  "kernelspec": {
   "display_name": "Python 3 (ipykernel)",
   "language": "python",
   "name": "python3"
  },
  "language_info": {
   "codemirror_mode": {
    "name": "ipython",
    "version": 3
   },
   "file_extension": ".py",
   "mimetype": "text/x-python",
   "name": "python",
   "nbconvert_exporter": "python",
   "pygments_lexer": "ipython3",
   "version": "3.9.12"
  }
 },
 "nbformat": 4,
 "nbformat_minor": 5
}
