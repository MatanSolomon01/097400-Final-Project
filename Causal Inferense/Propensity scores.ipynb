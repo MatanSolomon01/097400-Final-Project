{
 "cells": [
  {
   "cell_type": "markdown",
   "id": "bb996028-8ad1-44de-8441-1b65a17ea7e1",
   "metadata": {
    "tags": []
   },
   "source": [
    "# Propensity Scores"
   ]
  },
  {
   "cell_type": "code",
   "execution_count": 1,
   "id": "b715a6c5-51fe-404f-9f1a-5f06857e98f5",
   "metadata": {},
   "outputs": [],
   "source": [
    "import pickle as pkl\n",
    "import pandas as pd\n",
    "import numpy as np\n",
    "import matplotlib.pyplot as plt\n",
    "from sklearn.linear_model import LogisticRegression, Ridge"
   ]
  },
  {
   "cell_type": "code",
   "execution_count": 2,
   "id": "cb17b645-dcac-43c9-bb2e-3dc8d69b3d23",
   "metadata": {
    "tags": []
   },
   "outputs": [
    {
     "data": {
      "text/html": [
       "<div>\n",
       "<style scoped>\n",
       "    .dataframe tbody tr th:only-of-type {\n",
       "        vertical-align: middle;\n",
       "    }\n",
       "\n",
       "    .dataframe tbody tr th {\n",
       "        vertical-align: top;\n",
       "    }\n",
       "\n",
       "    .dataframe thead th {\n",
       "        text-align: right;\n",
       "    }\n",
       "</style>\n",
       "<table border=\"1\" class=\"dataframe\">\n",
       "  <thead>\n",
       "    <tr style=\"text-align: right;\">\n",
       "      <th></th>\n",
       "      <th>confidence</th>\n",
       "      <th>index</th>\n",
       "      <th>time</th>\n",
       "      <th>token_path</th>\n",
       "      <th>term_match</th>\n",
       "      <th>word_net</th>\n",
       "      <th>T</th>\n",
       "      <th>Y</th>\n",
       "    </tr>\n",
       "  </thead>\n",
       "  <tbody>\n",
       "    <tr>\n",
       "      <th>0</th>\n",
       "      <td>33.6</td>\n",
       "      <td>11</td>\n",
       "      <td>4.0</td>\n",
       "      <td>0.614881</td>\n",
       "      <td>1.000000</td>\n",
       "      <td>1.0</td>\n",
       "      <td>False</td>\n",
       "      <td>18</td>\n",
       "    </tr>\n",
       "    <tr>\n",
       "      <th>1</th>\n",
       "      <td>33.6</td>\n",
       "      <td>12</td>\n",
       "      <td>3.0</td>\n",
       "      <td>0.430476</td>\n",
       "      <td>0.427287</td>\n",
       "      <td>1.0</td>\n",
       "      <td>False</td>\n",
       "      <td>12</td>\n",
       "    </tr>\n",
       "  </tbody>\n",
       "</table>\n",
       "</div>"
      ],
      "text/plain": [
       "   confidence  index  time  token_path  term_match  word_net      T   Y\n",
       "0        33.6     11   4.0    0.614881    1.000000       1.0  False  18\n",
       "1        33.6     12   3.0    0.430476    0.427287       1.0  False  12"
      ]
     },
     "execution_count": 2,
     "metadata": {},
     "output_type": "execute_result"
    }
   ],
   "source": [
    "data = pkl.load(open('./data/data.pkl', 'rb'))\n",
    "data.head(2)"
   ]
  },
  {
   "cell_type": "code",
   "execution_count": 3,
   "id": "7f2bfa05-7704-4189-ac0b-59c59af4c6fd",
   "metadata": {},
   "outputs": [],
   "source": [
    "def calc_props(df):\n",
    "    x = df[df.columns[~df.columns.isin(['T','Y'])]]\n",
    "    t = df['T'].values\n",
    "    log_reg = LogisticRegression(max_iter=10000).fit(x, t)\n",
    "    probs = log_reg.predict_proba(x)[:,1]\n",
    "    df['propensity'] = probs\n",
    "    df['weighted'] = probs / (1-probs)\n",
    "    return df"
   ]
  },
  {
   "cell_type": "code",
   "execution_count": 4,
   "id": "7977f20e-cdd8-44c4-913f-32060e298df8",
   "metadata": {},
   "outputs": [],
   "source": [
    "data = calc_props(data)"
   ]
  },
  {
   "cell_type": "code",
   "execution_count": 5,
   "id": "a4f0a8f7-ba48-4cba-87cb-e5bc3c13899a",
   "metadata": {},
   "outputs": [
    {
     "data": {
      "image/png": "[encoded data removed]",
      "text/plain": [
       "<Figure size 720x432 with 1 Axes>"
      ]
     },
     "metadata": {
      "needs_background": "light"
     },
     "output_type": "display_data"
    }
   ],
   "source": [
    "fig, ax = plt.subplots(figsize=(10,6))\n",
    "data[data['T']].propensity.hist(bins=30, ax=ax, alpha=0.6, density=True, label='T = True')\n",
    "data[~data['T']].propensity.hist(bins=30, ax=ax, alpha=0.6, density=True, label='T = False')\n",
    "plt.title(\"Propensity scores\")\n",
    "plt.legend()\n",
    "plt.show()"
   ]
  },
  {
   "cell_type": "code",
   "execution_count": 6,
   "id": "4bead663-b489-4a27-b8ee-726e396765b7",
   "metadata": {},
   "outputs": [],
   "source": [
    "save = True\n",
    "if save:\n",
    "    pkl.dump(data, open(\"./data/data_p.pkl\", \"wb\"))"
   ]
  }
 ],
 "metadata": {
  "kernelspec": {
   "display_name": "Python 3 (ipykernel)",
   "language": "python",
   "name": "python3"
  },
  "language_info": {
   "codemirror_mode": {
    "name": "ipython",
    "version": 3
   },
   "file_extension": ".py",
   "mimetype": "text/x-python",
   "name": "python",
   "nbconvert_exporter": "python",
   "pygments_lexer": "ipython3",
   "version": "3.9.12"
  }
 },
 "nbformat": 4,
 "nbformat_minor": 5
}
