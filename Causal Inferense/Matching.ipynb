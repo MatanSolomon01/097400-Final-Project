{
 "cells": [
  {
   "cell_type": "markdown",
   "id": "bad556f9-0592-4ccb-a52d-e6b0d6bca250",
   "metadata": {},
   "source": [
    "# Matching"
   ]
  },
  {
   "cell_type": "code",
   "execution_count": 1,
   "id": "65e4db6b-44c9-4516-8fa6-5af7af30e481",
   "metadata": {},
   "outputs": [],
   "source": [
    "import pickle as pkl\n",
    "import pandas as pd\n",
    "import numpy as np\n",
    "import matplotlib.pyplot as plt\n",
    "from sklearn.neighbors import KNeighborsClassifier\n",
    "import utils as utl"
   ]
  },
  {
   "cell_type": "code",
   "execution_count": 2,
   "id": "e8084399-c94c-483e-883f-c7bbbb4829a9",
   "metadata": {
    "tags": []
   },
   "outputs": [
    {
     "data": {
      "text/html": [
       "<div>\n",
       "<style scoped>\n",
       "    .dataframe tbody tr th:only-of-type {\n",
       "        vertical-align: middle;\n",
       "    }\n",
       "\n",
       "    .dataframe tbody tr th {\n",
       "        vertical-align: top;\n",
       "    }\n",
       "\n",
       "    .dataframe thead th {\n",
       "        text-align: right;\n",
       "    }\n",
       "</style>\n",
       "<table border=\"1\" class=\"dataframe\">\n",
       "  <thead>\n",
       "    <tr style=\"text-align: right;\">\n",
       "      <th></th>\n",
       "      <th>confidence</th>\n",
       "      <th>index</th>\n",
       "      <th>time</th>\n",
       "      <th>token_path</th>\n",
       "      <th>term_match</th>\n",
       "      <th>word_net</th>\n",
       "      <th>T</th>\n",
       "      <th>Y</th>\n",
       "    </tr>\n",
       "  </thead>\n",
       "  <tbody>\n",
       "    <tr>\n",
       "      <th>0</th>\n",
       "      <td>46.0</td>\n",
       "      <td>16</td>\n",
       "      <td>17.0</td>\n",
       "      <td>14.2148</td>\n",
       "      <td>12.0</td>\n",
       "      <td>11.2946</td>\n",
       "      <td>1</td>\n",
       "      <td>80</td>\n",
       "    </tr>\n",
       "    <tr>\n",
       "      <th>1</th>\n",
       "      <td>37.4</td>\n",
       "      <td>16</td>\n",
       "      <td>13.0</td>\n",
       "      <td>14.2148</td>\n",
       "      <td>12.0</td>\n",
       "      <td>11.2946</td>\n",
       "      <td>0</td>\n",
       "      <td>28</td>\n",
       "    </tr>\n",
       "  </tbody>\n",
       "</table>\n",
       "</div>"
      ],
      "text/plain": [
       "   confidence  index  time  token_path  term_match  word_net  T   Y\n",
       "0        46.0     16  17.0     14.2148        12.0   11.2946  1  80\n",
       "1        37.4     16  13.0     14.2148        12.0   11.2946  0  28"
      ]
     },
     "execution_count": 2,
     "metadata": {},
     "output_type": "execute_result"
    }
   ],
   "source": [
    "data = pkl.load(open('../data/data.pkl', 'rb'))\n",
    "data.head(2)"
   ]
  },
  {
   "cell_type": "code",
   "execution_count": 3,
   "id": "886d5bc5-bb5e-4f7f-be29-5947d7697f18",
   "metadata": {},
   "outputs": [],
   "source": [
    "def matching(df):\n",
    "    T, NT = df[df['T']==1].copy(), df[df['T']==0].copy()\n",
    "    T_x = T[T.columns[~T.columns.isin(['T', 'Y'])]]\n",
    "    NT_x = NT[NT.columns[~NT.columns.isin(['T', 'Y'])]]\n",
    "    T_model = KNeighborsClassifier(n_neighbors=1).fit(T_x, T['Y'].astype(int))\n",
    "    NT_model = KNeighborsClassifier(n_neighbors=1).fit(NT_x, NT['Y'].astype(int))\n",
    "    \n",
    "    T['match_Y'] = NT_model.predict(T_x)\n",
    "    NT['match_Y'] = T_model.predict(NT_x)\n",
    "    treated = (T['Y'] - T['match_Y']).sum()\n",
    "    not_treated = (NT['match_Y'] - NT['Y']).sum()\n",
    "    return (treated + not_treated) / (T.shape[0] + NT.shape[0])"
   ]
  },
  {
   "cell_type": "code",
   "execution_count": 4,
   "id": "40bed86f-9ed6-42cc-bd97-3af3145bfc7b",
   "metadata": {},
   "outputs": [
    {
     "name": "stdout",
     "output_type": "stream",
     "text": [
      "Matching ATE over original data: 9.464088397790055\n"
     ]
    }
   ],
   "source": [
    "print(f\"Matching ATE over original data: {matching(data)}\")"
   ]
  },
  {
   "cell_type": "code",
   "execution_count": 5,
   "id": "33a33b41-c8a5-42f6-9e6d-66bb0b743168",
   "metadata": {},
   "outputs": [
    {
     "name": "stderr",
     "output_type": "stream",
     "text": [
      "100%|██████████████████████████████████████████████████████████████████████████████| 1000/1000 [04:38<00:00,  3.59it/s]\n"
     ]
    }
   ],
   "source": [
    "matching_results = utl.generate_CI(data, matching, f_kwargs={}, samples=1000, alpha=0.95)"
   ]
  },
  {
   "cell_type": "code",
   "execution_count": 6,
   "id": "54f2993b-7023-4a37-8371-e54b34f9c41a",
   "metadata": {},
   "outputs": [
    {
     "data": {
      "image/png": "[encoded data removed]",
      "text/plain": [
       "<Figure size 576x216 with 1 Axes>"
      ]
     },
     "metadata": {
      "needs_background": "light"
     },
     "output_type": "display_data"
    }
   ],
   "source": [
    "plt.figure(figsize=(8,3))\n",
    "plot = (\n",
    "            'm',\n",
    "            # 'a',\n",
    "        )\n",
    "utl.plot_CI(**matching_results, plot=plot, title='Matching ATE estimation', xlim_l=None, xlim_u=None)"
   ]
  },
  {
   "cell_type": "markdown",
   "id": "db670056-5798-43cf-a8c7-104d977bf359",
   "metadata": {},
   "source": [
    "## Saving"
   ]
  },
  {
   "cell_type": "code",
   "execution_count": 7,
   "id": "0bad5960-943f-4b11-9e38-896298200050",
   "metadata": {},
   "outputs": [],
   "source": [
    "save = True\n",
    "saving_list = [(matching_results, 'matching')]\n",
    "if save:\n",
    "    for var, name in saving_list:\n",
    "        pkl.dump(var, open(f'../results/{name}', 'wb'))"
   ]
  }
 ],
 "metadata": {
  "kernelspec": {
   "display_name": "Python 3 (ipykernel)",
   "language": "python",
   "name": "python3"
  },
  "language_info": {
   "codemirror_mode": {
    "name": "ipython",
    "version": 3
   },
   "file_extension": ".py",
   "mimetype": "text/x-python",
   "name": "python",
   "nbconvert_exporter": "python",
   "pygments_lexer": "ipython3",
   "version": "3.9.12"
  }
 },
 "nbformat": 4,
 "nbformat_minor": 5
}
