{
 "cells": [
  {
   "cell_type": "markdown",
   "id": "a858fcff-093e-4798-843a-882b77c94676",
   "metadata": {
    "tags": []
   },
   "source": [
    "# IPW, stablized IPW"
   ]
  },
  {
   "cell_type": "code",
   "execution_count": 1,
   "id": "1e949866-e976-4e36-a627-c684aadd3c99",
   "metadata": {},
   "outputs": [],
   "source": [
    "import pickle as pkl\n",
    "import pandas as pd\n",
    "import numpy as np\n",
    "import matplotlib.pyplot as plt\n",
    "from sklearn.linear_model import LogisticRegression, Ridge"
   ]
  },
  {
   "cell_type": "code",
   "execution_count": 2,
   "id": "a954daf7-a8c9-452b-9852-0b1d81a903e5",
   "metadata": {
    "tags": []
   },
   "outputs": [
    {
     "data": {
      "text/html": [
       "<div>\n",
       "<style scoped>\n",
       "    .dataframe tbody tr th:only-of-type {\n",
       "        vertical-align: middle;\n",
       "    }\n",
       "\n",
       "    .dataframe tbody tr th {\n",
       "        vertical-align: top;\n",
       "    }\n",
       "\n",
       "    .dataframe thead th {\n",
       "        text-align: right;\n",
       "    }\n",
       "</style>\n",
       "<table border=\"1\" class=\"dataframe\">\n",
       "  <thead>\n",
       "    <tr style=\"text-align: right;\">\n",
       "      <th></th>\n",
       "      <th>confidence</th>\n",
       "      <th>index</th>\n",
       "      <th>time</th>\n",
       "      <th>token_path</th>\n",
       "      <th>term_match</th>\n",
       "      <th>word_net</th>\n",
       "      <th>T</th>\n",
       "      <th>Y</th>\n",
       "      <th>propensity</th>\n",
       "      <th>weighted</th>\n",
       "    </tr>\n",
       "  </thead>\n",
       "  <tbody>\n",
       "    <tr>\n",
       "      <th>0</th>\n",
       "      <td>33.6</td>\n",
       "      <td>11</td>\n",
       "      <td>4.0</td>\n",
       "      <td>0.614881</td>\n",
       "      <td>1.000000</td>\n",
       "      <td>1.0</td>\n",
       "      <td>False</td>\n",
       "      <td>18</td>\n",
       "      <td>0.058034</td>\n",
       "      <td>0.061609</td>\n",
       "    </tr>\n",
       "    <tr>\n",
       "      <th>1</th>\n",
       "      <td>33.6</td>\n",
       "      <td>12</td>\n",
       "      <td>3.0</td>\n",
       "      <td>0.430476</td>\n",
       "      <td>0.427287</td>\n",
       "      <td>1.0</td>\n",
       "      <td>False</td>\n",
       "      <td>12</td>\n",
       "      <td>0.011190</td>\n",
       "      <td>0.011317</td>\n",
       "    </tr>\n",
       "  </tbody>\n",
       "</table>\n",
       "</div>"
      ],
      "text/plain": [
       "   confidence  index  time  token_path  term_match  word_net      T   Y  \\\n",
       "0        33.6     11   4.0    0.614881    1.000000       1.0  False  18   \n",
       "1        33.6     12   3.0    0.430476    0.427287       1.0  False  12   \n",
       "\n",
       "   propensity  weighted  \n",
       "0    0.058034  0.061609  \n",
       "1    0.011190  0.011317  "
      ]
     },
     "execution_count": 2,
     "metadata": {},
     "output_type": "execute_result"
    }
   ],
   "source": [
    "data = pkl.load(open('./data/data_p.pkl', 'rb'))\n",
    "data.head(2)"
   ]
  },
  {
   "cell_type": "code",
   "execution_count": 8,
   "id": "7388879b-f527-4106-8c72-28b9a80fe6f8",
   "metadata": {},
   "outputs": [],
   "source": [
    "def IPW(df):\n",
    "    records = df.shape[0]\n",
    "    t1 = (df[df['T']==1]['Y'] / df[df['T']==1]['propensity']).sum() / records\n",
    "    t2 = (df[df['T']==0]['Y'] / (1-df[df['T']==0]['propensity'])).sum() / records\n",
    "    return t1-t2"
   ]
  },
  {
   "cell_type": "code",
   "execution_count": 10,
   "id": "ea7c2fa4-4ffd-430d-a463-0a15c16aec43",
   "metadata": {},
   "outputs": [],
   "source": [
    "def stablized_IPW(df):\n",
    "    T, NT = df[df['T']==1], df[df['T']==0]\n",
    "    t1 = (1/(1 / T['propensity']).sum()) * (T['Y'] / T['propensity']).sum()\n",
    "    t2 = (1/(1 / (1-NT['propensity'])).sum()) * (NT['Y'] / (1-NT['propensity'])).sum()\n",
    "    return t1-t2"
   ]
  },
  {
   "cell_type": "code",
   "execution_count": 11,
   "id": "92318b8f-19c8-4008-b53e-c652c894fe70",
   "metadata": {},
   "outputs": [
    {
     "name": "stdout",
     "output_type": "stream",
     "text": [
      "ATE for data: 9.11505335544706\n",
      "Stablized ATE for data: 11.879692210278009\n"
     ]
    }
   ],
   "source": [
    "print(f\"ATE for data: {IPW(data)}\")\n",
    "print(f\"Stablized ATE for data: {stablized_IPW(data)}\")"
   ]
  }
 ],
 "metadata": {
  "kernelspec": {
   "display_name": "Python 3 (ipykernel)",
   "language": "python",
   "name": "python3"
  },
  "language_info": {
   "codemirror_mode": {
    "name": "ipython",
    "version": 3
   },
   "file_extension": ".py",
   "mimetype": "text/x-python",
   "name": "python",
   "nbconvert_exporter": "python",
   "pygments_lexer": "ipython3",
   "version": "3.9.12"
  }
 },
 "nbformat": 4,
 "nbformat_minor": 5
}
