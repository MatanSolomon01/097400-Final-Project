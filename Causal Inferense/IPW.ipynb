{
 "cells": [
  {
   "cell_type": "markdown",
   "id": "a858fcff-093e-4798-843a-882b77c94676",
   "metadata": {
    "tags": []
   },
   "source": [
    "# IPW, stablized IPW"
   ]
  },
  {
   "cell_type": "code",
   "execution_count": 1,
   "id": "1e949866-e976-4e36-a627-c684aadd3c99",
   "metadata": {},
   "outputs": [],
   "source": [
    "import pickle as pkl\n",
    "import pandas as pd\n",
    "import numpy as np\n",
    "import matplotlib.pyplot as plt\n",
    "from sklearn.linear_model import LogisticRegression, Ridge\n",
    "import utils as utl"
   ]
  },
  {
   "cell_type": "code",
   "execution_count": 2,
   "id": "a954daf7-a8c9-452b-9852-0b1d81a903e5",
   "metadata": {
    "tags": []
   },
   "outputs": [
    {
     "data": {
      "text/html": [
       "<div>\n",
       "<style scoped>\n",
       "    .dataframe tbody tr th:only-of-type {\n",
       "        vertical-align: middle;\n",
       "    }\n",
       "\n",
       "    .dataframe tbody tr th {\n",
       "        vertical-align: top;\n",
       "    }\n",
       "\n",
       "    .dataframe thead th {\n",
       "        text-align: right;\n",
       "    }\n",
       "</style>\n",
       "<table border=\"1\" class=\"dataframe\">\n",
       "  <thead>\n",
       "    <tr style=\"text-align: right;\">\n",
       "      <th></th>\n",
       "      <th>confidence</th>\n",
       "      <th>index</th>\n",
       "      <th>time</th>\n",
       "      <th>token_path</th>\n",
       "      <th>term_match</th>\n",
       "      <th>word_net</th>\n",
       "      <th>T</th>\n",
       "      <th>Y</th>\n",
       "      <th>propensity</th>\n",
       "    </tr>\n",
       "  </thead>\n",
       "  <tbody>\n",
       "    <tr>\n",
       "      <th>0</th>\n",
       "      <td>46.0</td>\n",
       "      <td>16</td>\n",
       "      <td>17.0</td>\n",
       "      <td>14.2148</td>\n",
       "      <td>12.0</td>\n",
       "      <td>11.2946</td>\n",
       "      <td>1</td>\n",
       "      <td>80</td>\n",
       "      <td>0.064056</td>\n",
       "    </tr>\n",
       "    <tr>\n",
       "      <th>1</th>\n",
       "      <td>37.4</td>\n",
       "      <td>16</td>\n",
       "      <td>13.0</td>\n",
       "      <td>14.2148</td>\n",
       "      <td>12.0</td>\n",
       "      <td>11.2946</td>\n",
       "      <td>0</td>\n",
       "      <td>28</td>\n",
       "      <td>0.047381</td>\n",
       "    </tr>\n",
       "  </tbody>\n",
       "</table>\n",
       "</div>"
      ],
      "text/plain": [
       "   confidence  index  time  token_path  term_match  word_net  T   Y  \\\n",
       "0        46.0     16  17.0     14.2148        12.0   11.2946  1  80   \n",
       "1        37.4     16  13.0     14.2148        12.0   11.2946  0  28   \n",
       "\n",
       "   propensity  \n",
       "0    0.064056  \n",
       "1    0.047381  "
      ]
     },
     "execution_count": 2,
     "metadata": {},
     "output_type": "execute_result"
    }
   ],
   "source": [
    "data = pkl.load(open('../data/data_p.pkl', 'rb'))\n",
    "data.head(2)"
   ]
  },
  {
   "cell_type": "markdown",
   "id": "ded26e2a-0929-4bf4-ab25-d93736783e52",
   "metadata": {
    "tags": []
   },
   "source": [
    "## IPW"
   ]
  },
  {
   "cell_type": "code",
   "execution_count": 3,
   "id": "7388879b-f527-4106-8c72-28b9a80fe6f8",
   "metadata": {},
   "outputs": [],
   "source": [
    "def IPW(df):\n",
    "    records = df.shape[0]\n",
    "    t1 = (df[df['T']==1]['Y'] / df[df['T']==1]['propensity']).sum() / records\n",
    "    t2 = (df[df['T']==0]['Y'] / (1-df[df['T']==0]['propensity'])).sum() / records\n",
    "    return t1-t2"
   ]
  },
  {
   "cell_type": "code",
   "execution_count": 4,
   "id": "b83970fc-2a36-4fb5-8944-b7482efc9664",
   "metadata": {},
   "outputs": [
    {
     "name": "stdout",
     "output_type": "stream",
     "text": [
      "IPW ATE over original data: 9.586359958064989\n"
     ]
    }
   ],
   "source": [
    "print(f\"IPW ATE over original data: {IPW(data)}\")"
   ]
  },
  {
   "cell_type": "code",
   "execution_count": 5,
   "id": "9de12814-e4b7-43ba-8245-c38140a576e9",
   "metadata": {},
   "outputs": [
    {
     "name": "stderr",
     "output_type": "stream",
     "text": [
      "100%|█████████████████████████████████████████████████████████████████████████████| 1000/1000 [00:03<00:00, 304.60it/s]\n"
     ]
    }
   ],
   "source": [
    "IPW_results = utl.generate_CI(data, IPW, f_kwargs={}, samples=1000, alpha=0.95)"
   ]
  },
  {
   "cell_type": "code",
   "execution_count": 6,
   "id": "a7fe61c8-90a0-4691-801a-584565d51128",
   "metadata": {},
   "outputs": [
    {
     "data": {
      "image/png": "[encoded data removed]",
      "text/plain": [
       "<Figure size 576x216 with 1 Axes>"
      ]
     },
     "metadata": {
      "needs_background": "light"
     },
     "output_type": "display_data"
    }
   ],
   "source": [
    "plt.figure(figsize=(8,3))\n",
    "plot = (\n",
    "            'm',\n",
    "            # 'a',\n",
    "        )\n",
    "utl.plot_CI(**IPW_results, plot=plot, title='IPW ATE estimation', xlim_l=None, xlim_u=None)"
   ]
  },
  {
   "cell_type": "markdown",
   "id": "09fd97ef-fb32-4ff3-bc6c-a33f34b05b03",
   "metadata": {
    "tags": []
   },
   "source": [
    "## Stablized IPW"
   ]
  },
  {
   "cell_type": "code",
   "execution_count": 7,
   "id": "ea7c2fa4-4ffd-430d-a463-0a15c16aec43",
   "metadata": {},
   "outputs": [],
   "source": [
    "def stablized_IPW(df):\n",
    "    T, NT = df[df['T']==1], df[df['T']==0]\n",
    "    t1 = (1/(1 / T['propensity']).sum()) * (T['Y'] / T['propensity']).sum()\n",
    "    t2 = (1/(1 / (1-NT['propensity'])).sum()) * (NT['Y'] / (1-NT['propensity'])).sum()\n",
    "    return t1-t2"
   ]
  },
  {
   "cell_type": "code",
   "execution_count": 8,
   "id": "3d47fa33-27e1-47f5-86c2-c815c8089cbf",
   "metadata": {},
   "outputs": [
    {
     "name": "stdout",
     "output_type": "stream",
     "text": [
      "Stablized IPW ATE over original data: 12.782876876310723\n"
     ]
    }
   ],
   "source": [
    "print(f\"Stablized IPW ATE over original data: {stablized_IPW(data)}\")"
   ]
  },
  {
   "cell_type": "code",
   "execution_count": 9,
   "id": "a23403e0-5c1f-4d10-bf2f-21025238ef50",
   "metadata": {},
   "outputs": [
    {
     "name": "stderr",
     "output_type": "stream",
     "text": [
      "100%|█████████████████████████████████████████████████████████████████████████████| 1000/1000 [00:02<00:00, 372.54it/s]\n"
     ]
    }
   ],
   "source": [
    "stablized_IPW_results = utl.generate_CI(data, stablized_IPW, f_kwargs={}, samples=1000, alpha=0.95)"
   ]
  },
  {
   "cell_type": "code",
   "execution_count": 10,
   "id": "3e9d7a1e-5d19-42b4-95e4-e8602390eec4",
   "metadata": {},
   "outputs": [
    {
     "data": {
      "image/png": "[encoded data removed]",
      "text/plain": [
       "<Figure size 576x216 with 1 Axes>"
      ]
     },
     "metadata": {
      "needs_background": "light"
     },
     "output_type": "display_data"
    }
   ],
   "source": [
    "plt.figure(figsize=(8,3))\n",
    "utl.plot_CI(**stablized_IPW_results, plot=plot, title='Stablized IPW ATE estimation', xlim_l=None, xlim_u=None)"
   ]
  },
  {
   "cell_type": "markdown",
   "id": "5ee81223-f9e7-4b68-aadf-9358e682a100",
   "metadata": {},
   "source": [
    "## Saving"
   ]
  },
  {
   "cell_type": "code",
   "execution_count": 11,
   "id": "08e52e6c-8155-48b3-9d4e-270fe0475ba9",
   "metadata": {},
   "outputs": [],
   "source": [
    "save = True\n",
    "saving_list = [(IPW_results, 'IPW'), (stablized_IPW_results, 'stablized IPW')]\n",
    "if save:\n",
    "    for var, name in saving_list:\n",
    "        pkl.dump(var, open(f'../results/{name}', 'wb'))"
   ]
  }
 ],
 "metadata": {
  "kernelspec": {
   "display_name": "Python 3 (ipykernel)",
   "language": "python",
   "name": "python3"
  },
  "language_info": {
   "codemirror_mode": {
    "name": "ipython",
    "version": 3
   },
   "file_extension": ".py",
   "mimetype": "text/x-python",
   "name": "python",
   "nbconvert_exporter": "python",
   "pygments_lexer": "ipython3",
   "version": "3.9.12"
  }
 },
 "nbformat": 4,
 "nbformat_minor": 5
}
