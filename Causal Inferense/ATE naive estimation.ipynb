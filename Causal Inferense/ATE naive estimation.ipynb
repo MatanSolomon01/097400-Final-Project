{
 "cells": [
  {
   "cell_type": "markdown",
   "id": "0923d75d-fd73-4bb8-9fb0-11b35ef00ad3",
   "metadata": {},
   "source": [
    "# ATE naive estimation"
   ]
  },
  {
   "cell_type": "code",
   "execution_count": 1,
   "id": "aa622f9d-db2c-4651-96db-f9060c6af132",
   "metadata": {},
   "outputs": [],
   "source": [
    "import pickle as pkl\n",
    "import pandas as pd\n",
    "import numpy as np\n",
    "import matplotlib.pyplot as plt\n",
    "import utils as utl"
   ]
  },
  {
   "cell_type": "code",
   "execution_count": 2,
   "id": "9d4b0dd9-362c-4a69-af6b-2285920cd26a",
   "metadata": {
    "tags": []
   },
   "outputs": [
    {
     "data": {
      "text/html": [
       "<div>\n",
       "<style scoped>\n",
       "    .dataframe tbody tr th:only-of-type {\n",
       "        vertical-align: middle;\n",
       "    }\n",
       "\n",
       "    .dataframe tbody tr th {\n",
       "        vertical-align: top;\n",
       "    }\n",
       "\n",
       "    .dataframe thead th {\n",
       "        text-align: right;\n",
       "    }\n",
       "</style>\n",
       "<table border=\"1\" class=\"dataframe\">\n",
       "  <thead>\n",
       "    <tr style=\"text-align: right;\">\n",
       "      <th></th>\n",
       "      <th>confidence</th>\n",
       "      <th>index</th>\n",
       "      <th>time</th>\n",
       "      <th>token_path</th>\n",
       "      <th>term_match</th>\n",
       "      <th>word_net</th>\n",
       "      <th>T</th>\n",
       "      <th>Y</th>\n",
       "    </tr>\n",
       "  </thead>\n",
       "  <tbody>\n",
       "    <tr>\n",
       "      <th>0</th>\n",
       "      <td>46.0</td>\n",
       "      <td>16</td>\n",
       "      <td>17.0</td>\n",
       "      <td>14.2148</td>\n",
       "      <td>12.0</td>\n",
       "      <td>11.2946</td>\n",
       "      <td>1</td>\n",
       "      <td>80</td>\n",
       "    </tr>\n",
       "    <tr>\n",
       "      <th>1</th>\n",
       "      <td>37.4</td>\n",
       "      <td>16</td>\n",
       "      <td>13.0</td>\n",
       "      <td>14.2148</td>\n",
       "      <td>12.0</td>\n",
       "      <td>11.2946</td>\n",
       "      <td>0</td>\n",
       "      <td>28</td>\n",
       "    </tr>\n",
       "  </tbody>\n",
       "</table>\n",
       "</div>"
      ],
      "text/plain": [
       "   confidence  index  time  token_path  term_match  word_net  T   Y\n",
       "0        46.0     16  17.0     14.2148        12.0   11.2946  1  80\n",
       "1        37.4     16  13.0     14.2148        12.0   11.2946  0  28"
      ]
     },
     "execution_count": 2,
     "metadata": {},
     "output_type": "execute_result"
    }
   ],
   "source": [
    "data = pkl.load(open('../data/data.pkl', 'rb'))\n",
    "data.head(2)"
   ]
  },
  {
   "cell_type": "code",
   "execution_count": 3,
   "id": "fc6b3340-0bf5-45c5-8bd1-8d572d81b40f",
   "metadata": {},
   "outputs": [
    {
     "name": "stdout",
     "output_type": "stream",
     "text": [
      "ATE over original data: 17.862195998673926\n"
     ]
    }
   ],
   "source": [
    "def ATE(data):\n",
    "    means = data[['T','Y']].groupby('T').mean()\n",
    "    ATE = (means.loc[1] - means.loc[0]).item()\n",
    "    return ATE\n",
    "print(f\"ATE over original data: {ATE(data)}\")"
   ]
  },
  {
   "cell_type": "code",
   "execution_count": 4,
   "id": "74f865ca-1154-4445-bc25-e394cba934d2",
   "metadata": {},
   "outputs": [
    {
     "name": "stderr",
     "output_type": "stream",
     "text": [
      "100%|█████████████████████████████████████████████████████████████████████████████| 1000/1000 [00:04<00:00, 225.78it/s]\n"
     ]
    }
   ],
   "source": [
    "results = utl.generate_CI(data, ATE, f_kwargs={}, samples=1000, alpha=0.95)"
   ]
  },
  {
   "cell_type": "code",
   "execution_count": 5,
   "id": "4bda5daa-daa5-4486-b1ba-bc587d07b19a",
   "metadata": {},
   "outputs": [
    {
     "data": {
      "image/png": "[encoded data removed]",
      "text/plain": [
       "<Figure size 576x216 with 1 Axes>"
      ]
     },
     "metadata": {
      "needs_background": "light"
     },
     "output_type": "display_data"
    }
   ],
   "source": [
    "plt.figure(figsize=(8,3))\n",
    "plot = (\n",
    "            'm',\n",
    "            # 'a',\n",
    "        )\n",
    "utl.plot_CI(**results, plot=plot, title='Naive ATE estimation', xlim_l=None, xlim_u=None)"
   ]
  },
  {
   "cell_type": "markdown",
   "id": "38b69fa0-5bd1-47ea-b255-54ff743a0563",
   "metadata": {},
   "source": [
    "## Saving"
   ]
  },
  {
   "cell_type": "code",
   "execution_count": 6,
   "id": "ce3697a3-1190-40f5-8254-4bbfdeecc6db",
   "metadata": {},
   "outputs": [],
   "source": [
    "save = True\n",
    "saving_list = [(results, 'naive ATE')]\n",
    "if save:\n",
    "    for var, name in saving_list:\n",
    "        pkl.dump(var, open(f'../results/{name}', 'wb'))"
   ]
  }
 ],
 "metadata": {
  "kernelspec": {
   "display_name": "Python 3 (ipykernel)",
   "language": "python",
   "name": "python3"
  },
  "language_info": {
   "codemirror_mode": {
    "name": "ipython",
    "version": 3
   },
   "file_extension": ".py",
   "mimetype": "text/x-python",
   "name": "python",
   "nbconvert_exporter": "python",
   "pygments_lexer": "ipython3",
   "version": "3.9.12"
  }
 },
 "nbformat": 4,
 "nbformat_minor": 5
}
